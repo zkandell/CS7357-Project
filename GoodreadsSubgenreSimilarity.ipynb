{
 "cells": [
  {
   "cell_type": "code",
   "execution_count": 24,
   "metadata": {},
   "outputs": [],
   "source": [
    "# Import pandas for data manipulation\n",
    "import pandas as pd\n",
    "# Import random for random number generation\n",
    "import random"
   ]
  },
  {
   "cell_type": "code",
   "execution_count": 33,
   "metadata": {},
   "outputs": [
    {
     "name": "stdout",
     "output_type": "stream",
     "text": [
      "                                                Book  \\\n",
      "0                              To Kill a Mockingbird   \n",
      "1  Harry Potter and the Philosopher’s Stone (Harr...   \n",
      "2                                Pride and Prejudice   \n",
      "3                          The Diary of a Young Girl   \n",
      "4                                  The Little Prince   \n",
      "\n",
      "                                         Description   Fantasy     Adult  \\\n",
      "0  The unforgettable novel of a childhood in a sl...  0.250606  0.247474   \n",
      "1  Harry Potter thinks he is an ordinary boy - un...  0.250606  0.247474   \n",
      "2  Since its immediate success in 1813, Pride and...  0.250606  0.247474   \n",
      "3  Discovered in the attic in which she spent the...  0.250606  0.247474   \n",
      "4  A pilot stranded in the desert awakes one morn...  0.250606  0.247474   \n",
      "\n",
      "   Historical     Roman   Romance  Young Adult  Historical Fiction   Science  \\\n",
      "0    0.215498  0.183754  0.241442     0.185024            0.163561  0.180285   \n",
      "1    0.215498  0.183754  0.241442     0.185024            0.163561  0.180285   \n",
      "2    0.215498  0.183754  0.241442     0.185024            0.163561  0.180285   \n",
      "3    0.215498  0.183754  0.241442     0.185024            0.163561  0.180285   \n",
      "4    0.215498  0.183754  0.241442     0.185024            0.163561  0.180285   \n",
      "\n",
      "   ...     Crime  Self Help  Psychology  Mystery Thriller    Memoir  \\\n",
      "0  ...  0.122204   0.068888    0.138574          0.119388  0.058863   \n",
      "1  ...  0.122204   0.068888    0.138574          0.119388  0.058863   \n",
      "2  ...  0.122204   0.068888    0.138574          0.119388  0.058863   \n",
      "3  ...  0.122204   0.068888    0.138574          0.119388  0.058863   \n",
      "4  ...  0.122204   0.068888    0.138574          0.119388  0.058863   \n",
      "\n",
      "   Childrens     Humor  Suspense   Horror  Predicted  \n",
      "0   0.068576  0.061425  0.052942  0.06853    Fantasy  \n",
      "1   0.068576  0.061425  0.052942  0.06853    Fantasy  \n",
      "2   0.068576  0.061425  0.052942  0.06853    Fantasy  \n",
      "3   0.068576  0.061425  0.052942  0.06853    Fantasy  \n",
      "4   0.068576  0.061425  0.052942  0.06853    Fantasy  \n",
      "\n",
      "[5 rows x 28 columns]\n"
     ]
    }
   ],
   "source": [
    "# Load the naive bayes genre predictions\n",
    "naive_bayes_predictions = pd.read_csv('Datasets/naive_bayes_goodreads_genre_scores.csv')\n",
    "# Convert all columns (except for the first two) to floats\n",
    "naive_bayes_predictions.iloc[:, 2:] = naive_bayes_predictions.iloc[:, 2:].astype(float)\n",
    "\n",
    "# Load the RNN genre predictions\n",
    "rnn_predictions = pd.read_csv('Datasets/goodreads_rnn_genre_scores.csv')\n",
    "# Convert all columns (except for the first two) to floats\n",
    "rnn_predictions.iloc[:, 2:] = rnn_predictions.iloc[:, 2:].astype(float)\n",
    "\n",
    "# For each book, select the genre with the highest score\n",
    "naive_bayes_predictions['Predicted'] = naive_bayes_predictions.iloc[:, 2:].idxmax(axis=1)\n",
    "rnn_predictions['Predicted'] = rnn_predictions.iloc[:, 2:].idxmax(axis=1)\n",
    "\n",
    "# Print the first few rows of each\n",
    "#print(naive_bayes_predictions.head())\n",
    "print(rnn_predictions.head())\n"
   ]
  },
  {
   "cell_type": "code",
   "execution_count": 22,
   "metadata": {},
   "outputs": [],
   "source": [
    "# For each book, select the genre with the highest score\n",
    "naive_bayes_predictions['Predicted'] = naive_bayes_predictions.iloc[:, 2:].idxmax(axis=1)\n",
    "rnn_predictions['Predicted'] = rnn_predictions.iloc[:, 2:].idxmax(axis=1)"
   ]
  },
  {
   "cell_type": "code",
   "execution_count": 53,
   "metadata": {},
   "outputs": [
    {
     "name": "stdout",
     "output_type": "stream",
     "text": [
      "Naive Bayes Predicted: Fantasy\n",
      "                                                 Book  \\\n",
      "1   Harry Potter and the Philosopher’s Stone (Harr...   \n",
      "8                               The Lord of the Rings   \n",
      "11  The Chronicles of Narnia (Chronicles of Narnia...   \n",
      "12                                  Lord of the Flies   \n",
      "14  Harry Potter and the Deathly Hallows (Harry Po...   \n",
      "\n",
      "                                          Description         Adult  \\\n",
      "1   Harry Potter thinks he is an ordinary boy - un...  9.999911e-01   \n",
      "8   One Ring to rule them all, One Ring to find th...  1.128224e-10   \n",
      "11  Librarian note: An alternate cover for this ed...  1.568776e-02   \n",
      "12  At the dawn of the next world war, a plane cra...  2.530432e-01   \n",
      "14  Harry has been burdened with a dark, dangerous...  9.999995e-01   \n",
      "\n",
      "      Historical         Roman       Romance   Young Adult  \\\n",
      "1   5.386035e-05  1.200312e-07  1.852226e-07  9.999975e-01   \n",
      "8   1.921959e-20  2.342692e-25  2.918123e-24  4.508422e-10   \n",
      "11  5.060656e-16  3.351258e-30  4.666826e-30  1.394083e-06   \n",
      "12  8.210265e-08  1.499683e-13  2.761545e-13  2.139268e-03   \n",
      "14  1.138578e-09  2.603989e-10  5.718115e-10  9.999876e-01   \n",
      "\n",
      "    Historical Fiction       Science       Mystery  ...     Biography  \\\n",
      "1         5.463765e-05  7.187706e-08  3.514833e-03  ...  2.726997e-13   \n",
      "8         2.653421e-20  1.000000e+00  7.938974e-23  ...  4.300873e-39   \n",
      "11        8.451595e-18  4.325561e-16  2.080004e-35  ...  7.626830e-31   \n",
      "12        3.032230e-08  3.110162e-06  4.852479e-15  ...  2.022906e-26   \n",
      "14        7.093392e-10  4.908134e-09  1.358138e-05  ...  2.041268e-22   \n",
      "\n",
      "           Crime     Self Help    Psychology  Mystery Thriller        Memoir  \\\n",
      "1   4.344908e-07  2.168471e-16  1.970955e-15      6.560340e-06  8.267815e-14   \n",
      "8   2.810297e-32  1.781926e-58  2.031232e-56      2.233105e-33  4.535084e-39   \n",
      "11  9.822902e-47  7.271496e-48  4.874490e-45      3.033224e-59  3.472719e-34   \n",
      "12  1.072166e-28  2.505465e-40  1.909765e-35      1.337772e-28  1.337256e-27   \n",
      "14  2.291759e-14  3.544788e-24  9.277054e-23      8.301317e-14  9.283522e-24   \n",
      "\n",
      "       Childrens         Humor      Suspense        Horror  \n",
      "1   9.999922e-01  6.498974e-10  1.809651e-08  5.150063e-11  \n",
      "8   6.598653e-44  1.417843e-44  9.317684e-38  2.324538e-40  \n",
      "11  2.778359e-16  1.476928e-38  2.247302e-60  1.428555e-42  \n",
      "12  1.629906e-31  1.359863e-28  1.010404e-31  1.273979e-18  \n",
      "14  1.075139e-08  8.041511e-24  2.950812e-16  1.433516e-22  \n",
      "\n",
      "[5 rows x 26 columns]\n"
     ]
    },
    {
     "name": "stderr",
     "output_type": "stream",
     "text": [
      "C:\\Users\\zkand\\AppData\\Local\\Temp\\ipykernel_122148\\3887698118.py:13: UserWarning: Boolean Series key will be reindexed to match DataFrame index.\n",
      "  same_genre_books = naive_bayes_predictions.drop(book_index)[naive_bayes_predictions['Predicted'] == genre]\n"
     ]
    }
   ],
   "source": [
    "# Select the second book in the list\n",
    "book_index = 4\n",
    "\n",
    "# Store the row representing the first book\n",
    "testbook = naive_bayes_predictions.iloc[book_index]\n",
    "\n",
    "# Print the predicted genre for the first book\n",
    "# For now, we'll just focus on the Naive Bayes predictions\n",
    "genre = naive_bayes_predictions['Predicted'][book_index]\n",
    "print(\"Naive Bayes Predicted:\", genre)\n",
    "\n",
    "# Create a smaller dataframe with books that have the same predicted genre excluding the book itself\n",
    "same_genre_books = naive_bayes_predictions.drop(book_index)[naive_bayes_predictions['Predicted'] == genre]\n",
    "# Drop the predicted genre column\n",
    "same_genre_books = same_genre_books.drop('Predicted', axis=1)\n",
    "# Drop the column with the score for the predicted genre\n",
    "same_genre_books = same_genre_books.drop(genre, axis=1)\n",
    "print(same_genre_books.head())"
   ]
  },
  {
   "cell_type": "code",
   "execution_count": 54,
   "metadata": {},
   "outputs": [],
   "source": [
    "# Function to calculate the Euclidean distance between two series\n",
    "def euclidean_distance(book1, book2):\n",
    "    # Drop the Book and Description columns\n",
    "    book1 = book1.drop(['Book', 'Description'])\n",
    "    book2 = book2.drop(['Book', 'Description'])\n",
    "    # Subtract the two series element by element\n",
    "    difference = book1 - book2\n",
    "    # Take the square of the differences\n",
    "    squared_difference = difference ** 2\n",
    "    # Sum all squared differences\n",
    "    squared_difference_sum = squared_difference.sum()\n",
    "    # Return the square root of the sum\n",
    "    return squared_difference_sum ** 0.5"
   ]
  },
  {
   "cell_type": "code",
   "execution_count": 55,
   "metadata": {},
   "outputs": [
    {
     "name": "stdout",
     "output_type": "stream",
     "text": [
      "[(4355, 3.2778387194732314e-05), (2610, 4.81900347443753e-05), (5328, 6.118751321767603e-05), (7680, 9.315874644322997e-05), (127, 9.785412706703963e-05)]\n",
      "4355                                       Curious George\n",
      "2610                       The Story of Babar (Babar, #1)\n",
      "5328                                       Where's Waldo?\n",
      "7680    Redemption of the Sorcerer (The Crystalon Saga...\n",
      "127                                   Alice in Wonderland\n",
      "Name: Book, dtype: object\n"
     ]
    },
    {
     "ename": "",
     "evalue": "",
     "output_type": "error",
     "traceback": [
      "\u001b[1;31mThe Kernel crashed while executing code in the current cell or a previous cell. \n",
      "\u001b[1;31mPlease review the code in the cell(s) to identify a possible cause of the failure. \n",
      "\u001b[1;31mClick <a href='https://aka.ms/vscodeJupyterKernelCrash'>here</a> for more info. \n",
      "\u001b[1;31mView Jupyter <a href='command:jupyter.viewOutput'>log</a> for further details."
     ]
    }
   ],
   "source": [
    "# Make a list of distances between the test book and all other books in the same genre\n",
    "distances = []\n",
    "for i, book in same_genre_books.iterrows():\n",
    "    distance = euclidean_distance(testbook, book)\n",
    "    distances.append((i, distance))\n",
    "\n",
    "# Sort the distances list by the distance\n",
    "distances.sort(key=lambda x: x[1])\n",
    "print(distances[:5])\n",
    "\n",
    "# Get the indexes of the 5 closest books\n",
    "indexes = [index for index, distance in distances[:5]]\n",
    "\n",
    "# Print the 5 closest books\n",
    "print(naive_bayes_predictions['Book'].iloc[indexes])"
   ]
  }
 ],
 "metadata": {
  "kernelspec": {
   "display_name": "base",
   "language": "python",
   "name": "python3"
  },
  "language_info": {
   "codemirror_mode": {
    "name": "ipython",
    "version": 3
   },
   "file_extension": ".py",
   "mimetype": "text/x-python",
   "name": "python",
   "nbconvert_exporter": "python",
   "pygments_lexer": "ipython3",
   "version": "3.10.14"
  }
 },
 "nbformat": 4,
 "nbformat_minor": 2
}
