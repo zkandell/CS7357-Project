{
 "cells": [
  {
   "cell_type": "code",
   "execution_count": 24,
   "metadata": {},
   "outputs": [],
   "source": [
    "# Import pandas for data manipulation\n",
    "import pandas as pd\n",
    "# Import random for random number generation\n",
    "import random"
   ]
  },
  {
   "cell_type": "code",
   "execution_count": 33,
   "metadata": {},
   "outputs": [
    {
     "name": "stdout",
     "output_type": "stream",
     "text": [
      "                                                Book  \\\n",
      "0                              To Kill a Mockingbird   \n",
      "1  Harry Potter and the Philosopher’s Stone (Harr...   \n",
      "2                                Pride and Prejudice   \n",
      "3                          The Diary of a Young Girl   \n",
      "4                                  The Little Prince   \n",
      "\n",
      "                                         Description   Fantasy     Adult  \\\n",
      "0  The unforgettable novel of a childhood in a sl...  0.250606  0.247474   \n",
      "1  Harry Potter thinks he is an ordinary boy - un...  0.250606  0.247474   \n",
      "2  Since its immediate success in 1813, Pride and...  0.250606  0.247474   \n",
      "3  Discovered in the attic in which she spent the...  0.250606  0.247474   \n",
      "4  A pilot stranded in the desert awakes one morn...  0.250606  0.247474   \n",
      "\n",
      "   Historical     Roman   Romance  Young Adult  Historical Fiction   Science  \\\n",
      "0    0.215498  0.183754  0.241442     0.185024            0.163561  0.180285   \n",
      "1    0.215498  0.183754  0.241442     0.185024            0.163561  0.180285   \n",
      "2    0.215498  0.183754  0.241442     0.185024            0.163561  0.180285   \n",
      "3    0.215498  0.183754  0.241442     0.185024            0.163561  0.180285   \n",
      "4    0.215498  0.183754  0.241442     0.185024            0.163561  0.180285   \n",
      "\n",
      "   ...     Crime  Self Help  Psychology  Mystery Thriller    Memoir  \\\n",
      "0  ...  0.122204   0.068888    0.138574          0.119388  0.058863   \n",
      "1  ...  0.122204   0.068888    0.138574          0.119388  0.058863   \n",
      "2  ...  0.122204   0.068888    0.138574          0.119388  0.058863   \n",
      "3  ...  0.122204   0.068888    0.138574          0.119388  0.058863   \n",
      "4  ...  0.122204   0.068888    0.138574          0.119388  0.058863   \n",
      "\n",
      "   Childrens     Humor  Suspense   Horror  Predicted  \n",
      "0   0.068576  0.061425  0.052942  0.06853    Fantasy  \n",
      "1   0.068576  0.061425  0.052942  0.06853    Fantasy  \n",
      "2   0.068576  0.061425  0.052942  0.06853    Fantasy  \n",
      "3   0.068576  0.061425  0.052942  0.06853    Fantasy  \n",
      "4   0.068576  0.061425  0.052942  0.06853    Fantasy  \n",
      "\n",
      "[5 rows x 28 columns]\n"
     ]
    }
   ],
   "source": [
    "# Load the naive bayes genre predictions\n",
    "naive_bayes_predictions = pd.read_csv('Datasets/naive_bayes_goodreads_genre_scores.csv')\n",
    "# Convert all columns (except for the first two) to floats\n",
    "naive_bayes_predictions.iloc[:, 2:] = naive_bayes_predictions.iloc[:, 2:].astype(float)\n",
    "\n",
    "# Load the RNN genre predictions\n",
    "rnn_predictions = pd.read_csv('Datasets/goodreads_rnn_genre_scores.csv')\n",
    "# Convert all columns (except for the first two) to floats\n",
    "rnn_predictions.iloc[:, 2:] = rnn_predictions.iloc[:, 2:].astype(float)\n",
    "\n",
    "# For each book, select the genre with the highest score\n",
    "naive_bayes_predictions['Predicted'] = naive_bayes_predictions.iloc[:, 2:].idxmax(axis=1)\n",
    "rnn_predictions['Predicted'] = rnn_predictions.iloc[:, 2:].idxmax(axis=1)\n",
    "\n",
    "# Print the first few rows of each\n",
    "#print(naive_bayes_predictions.head())\n",
    "print(rnn_predictions.head())\n"
   ]
  },
  {
   "cell_type": "code",
   "execution_count": 22,
   "metadata": {},
   "outputs": [],
   "source": [
    "# For each book, select the genre with the highest score\n",
    "naive_bayes_predictions['Predicted'] = naive_bayes_predictions.iloc[:, 2:].idxmax(axis=1)\n",
    "rnn_predictions['Predicted'] = rnn_predictions.iloc[:, 2:].idxmax(axis=1)"
   ]
  },
  {
   "cell_type": "code",
   "execution_count": 42,
   "metadata": {},
   "outputs": [
    {
     "name": "stdout",
     "output_type": "stream",
     "text": [
      "Naive Bayes Predicted: Historical\n",
      "                         Book  \\\n",
      "2         Pride and Prejudice   \n",
      "3   The Diary of a Young Girl   \n",
      "6            The Great Gatsby   \n",
      "13           Romeo and Juliet   \n",
      "19               Little Women   \n",
      "\n",
      "                                          Description       Fantasy  \\\n",
      "2   Since its immediate success in 1813, Pride and...  1.763531e-09   \n",
      "3   Discovered in the attic in which she spent the...  5.384492e-18   \n",
      "6   Alternate Cover Edition ISBN: 0743273567 (ISBN...  1.466102e-13   \n",
      "13  In Romeo and Juliet, Shakespeare creates a vio...  1.358098e-06   \n",
      "19  This is an alternate cover edition of ISBN 978...  3.151620e-22   \n",
      "\n",
      "           Adult         Roman       Romance   Young Adult  \\\n",
      "2   1.122488e-09  9.999961e-01  9.999968e-01  4.615503e-18   \n",
      "3   1.712230e-12  2.335275e-19  2.855443e-19  7.816384e-22   \n",
      "6   1.326813e-10  2.392676e-02  2.154262e-02  1.213905e-14   \n",
      "13  7.630872e-07  1.636589e-02  3.685180e-02  4.689038e-11   \n",
      "19  5.938653e-08  1.452767e-12  4.669184e-12  9.503667e-18   \n",
      "\n",
      "    Historical Fiction       Science       Mystery  ...     Biography  \\\n",
      "2             1.000000  2.115065e-14  1.237800e-14  ...  1.338370e-12   \n",
      "3             0.001464  2.572953e-22  2.996616e-25  ...  5.213325e-02   \n",
      "6             1.000000  1.206237e-11  7.578411e-14  ...  2.252265e-10   \n",
      "13            0.138053  1.718722e-11  2.794276e-12  ...  9.620764e-17   \n",
      "19            0.988529  2.949218e-25  8.822887e-27  ...  1.914147e-24   \n",
      "\n",
      "           Crime     Self Help    Psychology  Mystery Thriller        Memoir  \\\n",
      "2   1.789491e-21  1.310157e-28  3.202655e-26      4.322972e-24  1.968875e-13   \n",
      "3   8.798828e-33  6.879882e-52  5.022548e-46      8.568571e-37  4.081317e-04   \n",
      "6   2.783578e-16  1.519654e-28  2.706375e-28      1.886454e-19  2.970610e-14   \n",
      "13  4.423293e-20  1.536614e-22  1.205981e-21      3.093045e-21  7.715114e-18   \n",
      "19  2.012212e-40  6.078171e-46  4.545429e-44      1.055018e-40  2.452629e-27   \n",
      "\n",
      "       Childrens         Humor      Suspense        Horror  \n",
      "2   1.066647e-19  1.086552e-09  1.210607e-25  5.695335e-15  \n",
      "3   1.867235e-43  1.930861e-40  1.375346e-46  6.104805e-40  \n",
      "6   1.146272e-22  2.848247e-20  9.655225e-25  5.712024e-21  \n",
      "13  9.509917e-27  1.290134e-22  7.163256e-25  4.039534e-22  \n",
      "19  1.921425e-36  1.906501e-39  2.671014e-42  2.844586e-47  \n",
      "\n",
      "[5 rows x 26 columns]\n"
     ]
    },
    {
     "name": "stderr",
     "output_type": "stream",
     "text": [
      "C:\\Users\\zkand\\AppData\\Local\\Temp\\ipykernel_122148\\2033158900.py:13: UserWarning: Boolean Series key will be reindexed to match DataFrame index.\n",
      "  same_genre_books = naive_bayes_predictions.drop(book_index)[naive_bayes_predictions['Predicted'] == genre]\n"
     ]
    }
   ],
   "source": [
    "# Select the first book in the list\n",
    "book_index = 0\n",
    "\n",
    "# Store the row representing the first book\n",
    "testbook = naive_bayes_predictions.iloc[book_index]\n",
    "\n",
    "# Print the predicted genre for the first book\n",
    "# For now, we'll just focus on the Naive Bayes predictions\n",
    "genre = naive_bayes_predictions['Predicted'][book_index]\n",
    "print(\"Naive Bayes Predicted:\", genre)\n",
    "\n",
    "# Create a smaller dataframe with books that have the same predicted genre excluding the book itself\n",
    "same_genre_books = naive_bayes_predictions.drop(book_index)[naive_bayes_predictions['Predicted'] == genre]\n",
    "# Drop the predicted genre column\n",
    "same_genre_books = same_genre_books.drop('Predicted', axis=1)\n",
    "# Drop the column with the score for the predicted genre\n",
    "same_genre_books = same_genre_books.drop(genre, axis=1)\n",
    "print(same_genre_books.head())"
   ]
  },
  {
   "cell_type": "code",
   "execution_count": 41,
   "metadata": {},
   "outputs": [],
   "source": [
    "# Function to calculate the Euclidean distance between two series\n",
    "def euclidean_distance(book1, book2):\n",
    "    # Drop the Book and Description columns\n",
    "    book1 = book1.drop(['Book', 'Description'])\n",
    "    book2 = book2.drop(['Book', 'Description'])\n",
    "    # Subtract the two series element by element\n",
    "    difference = book1 - book2\n",
    "    # Take the square of the differences\n",
    "    squared_difference = difference ** 2\n",
    "    # Sum all squared differences\n",
    "    squared_difference_sum = squared_difference.sum()\n",
    "    # Return the square root of the sum\n",
    "    return squared_difference_sum ** 0.5"
   ]
  },
  {
   "cell_type": "code",
   "execution_count": null,
   "metadata": {},
   "outputs": [],
   "source": []
  }
 ],
 "metadata": {
  "kernelspec": {
   "display_name": "base",
   "language": "python",
   "name": "python3"
  },
  "language_info": {
   "codemirror_mode": {
    "name": "ipython",
    "version": 3
   },
   "file_extension": ".py",
   "mimetype": "text/x-python",
   "name": "python",
   "nbconvert_exporter": "python",
   "pygments_lexer": "ipython3",
   "version": "3.10.14"
  }
 },
 "nbformat": 4,
 "nbformat_minor": 2
}
