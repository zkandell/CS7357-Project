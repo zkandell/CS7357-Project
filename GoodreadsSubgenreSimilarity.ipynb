{
 "cells": [
  {
   "cell_type": "code",
   "execution_count": 4,
   "metadata": {},
   "outputs": [],
   "source": [
    "# Import pandas for data manipulation\n",
    "import pandas as pd\n",
    "# Import random for random number generation\n",
    "import random"
   ]
  },
  {
   "cell_type": "code",
   "execution_count": 7,
   "metadata": {},
   "outputs": [],
   "source": [
    "# Load the naive bayes genre predictions\n",
    "naive_bayes_predictions = pd.read_csv('Datasets/naive_bayes_goodreads_genre_scores.csv')\n",
    "# Convert all columns (except for the first two) to floats\n",
    "naive_bayes_predictions.iloc[:, 2:] = naive_bayes_predictions.iloc[:, 2:].astype(float)\n",
    "\n",
    "# Load the RNN genre predictions\n",
    "rnn_predictions = pd.read_csv('Datasets/goodreads_rnn_genre_scores.csv')\n",
    "# Convert all columns (except for the first two) to floats\n",
    "rnn_predictions.iloc[:, 2:] = rnn_predictions.iloc[:, 2:].astype(float)\n",
    "\n",
    "# For each book, select the genre with the highest score\n",
    "naive_bayes_predictions['Predicted'] = naive_bayes_predictions.iloc[:, 2:].idxmax(axis=1)\n",
    "rnn_predictions['Predicted'] = rnn_predictions.iloc[:, 2:].idxmax(axis=1)\n",
    "\n",
    "# Print the first few rows of each\n",
    "#print(naive_bayes_predictions.head())\n",
    "#print(rnn_predictions.head())\n"
   ]
  },
  {
   "cell_type": "code",
   "execution_count": 6,
   "metadata": {},
   "outputs": [
    {
     "ename": "TypeError",
     "evalue": "'>' not supported between instances of 'str' and 'float'",
     "output_type": "error",
     "traceback": [
      "\u001b[1;31m---------------------------------------------------------------------------\u001b[0m",
      "\u001b[1;31mTypeError\u001b[0m                                 Traceback (most recent call last)",
      "Cell \u001b[1;32mIn[6], line 2\u001b[0m\n\u001b[0;32m      1\u001b[0m \u001b[38;5;66;03m# For each book, select the genre with the highest score\u001b[39;00m\n\u001b[1;32m----> 2\u001b[0m naive_bayes_predictions[\u001b[38;5;124m'\u001b[39m\u001b[38;5;124mPredicted\u001b[39m\u001b[38;5;124m'\u001b[39m] \u001b[38;5;241m=\u001b[39m \u001b[43mnaive_bayes_predictions\u001b[49m\u001b[38;5;241;43m.\u001b[39;49m\u001b[43miloc\u001b[49m\u001b[43m[\u001b[49m\u001b[43m:\u001b[49m\u001b[43m,\u001b[49m\u001b[43m \u001b[49m\u001b[38;5;241;43m2\u001b[39;49m\u001b[43m:\u001b[49m\u001b[43m]\u001b[49m\u001b[38;5;241;43m.\u001b[39;49m\u001b[43midxmax\u001b[49m\u001b[43m(\u001b[49m\u001b[43maxis\u001b[49m\u001b[38;5;241;43m=\u001b[39;49m\u001b[38;5;241;43m1\u001b[39;49m\u001b[43m)\u001b[49m\n\u001b[0;32m      3\u001b[0m rnn_predictions[\u001b[38;5;124m'\u001b[39m\u001b[38;5;124mPredicted\u001b[39m\u001b[38;5;124m'\u001b[39m] \u001b[38;5;241m=\u001b[39m rnn_predictions\u001b[38;5;241m.\u001b[39miloc[:, \u001b[38;5;241m2\u001b[39m:]\u001b[38;5;241m.\u001b[39midxmax(axis\u001b[38;5;241m=\u001b[39m\u001b[38;5;241m1\u001b[39m)\n",
      "File \u001b[1;32mc:\\Users\\zkand\\miniconda3\\lib\\site-packages\\pandas\\core\\frame.py:11890\u001b[0m, in \u001b[0;36mDataFrame.idxmax\u001b[1;34m(self, axis, skipna, numeric_only)\u001b[0m\n\u001b[0;32m  11887\u001b[0m \u001b[38;5;28;01melse\u001b[39;00m:\n\u001b[0;32m  11888\u001b[0m     data \u001b[38;5;241m=\u001b[39m \u001b[38;5;28mself\u001b[39m\n\u001b[1;32m> 11890\u001b[0m res \u001b[38;5;241m=\u001b[39m \u001b[43mdata\u001b[49m\u001b[38;5;241;43m.\u001b[39;49m\u001b[43m_reduce\u001b[49m\u001b[43m(\u001b[49m\n\u001b[0;32m  11891\u001b[0m \u001b[43m    \u001b[49m\u001b[43mnanops\u001b[49m\u001b[38;5;241;43m.\u001b[39;49m\u001b[43mnanargmax\u001b[49m\u001b[43m,\u001b[49m\u001b[43m \u001b[49m\u001b[38;5;124;43m\"\u001b[39;49m\u001b[38;5;124;43margmax\u001b[39;49m\u001b[38;5;124;43m\"\u001b[39;49m\u001b[43m,\u001b[49m\u001b[43m \u001b[49m\u001b[43maxis\u001b[49m\u001b[38;5;241;43m=\u001b[39;49m\u001b[43maxis\u001b[49m\u001b[43m,\u001b[49m\u001b[43m \u001b[49m\u001b[43mskipna\u001b[49m\u001b[38;5;241;43m=\u001b[39;49m\u001b[43mskipna\u001b[49m\u001b[43m,\u001b[49m\u001b[43m \u001b[49m\u001b[43mnumeric_only\u001b[49m\u001b[38;5;241;43m=\u001b[39;49m\u001b[38;5;28;43;01mFalse\u001b[39;49;00m\n\u001b[0;32m  11892\u001b[0m \u001b[43m\u001b[49m\u001b[43m)\u001b[49m\n\u001b[0;32m  11893\u001b[0m indices \u001b[38;5;241m=\u001b[39m res\u001b[38;5;241m.\u001b[39m_values\n\u001b[0;32m  11894\u001b[0m \u001b[38;5;66;03m# indices will always be 1d array since axis is not None\u001b[39;00m\n",
      "File \u001b[1;32mc:\\Users\\zkand\\miniconda3\\lib\\site-packages\\pandas\\core\\frame.py:11562\u001b[0m, in \u001b[0;36mDataFrame._reduce\u001b[1;34m(self, op, name, axis, skipna, numeric_only, filter_type, **kwds)\u001b[0m\n\u001b[0;32m  11558\u001b[0m     df \u001b[38;5;241m=\u001b[39m df\u001b[38;5;241m.\u001b[39mT\n\u001b[0;32m  11560\u001b[0m \u001b[38;5;66;03m# After possibly _get_data and transposing, we are now in the\u001b[39;00m\n\u001b[0;32m  11561\u001b[0m \u001b[38;5;66;03m#  simple case where we can use BlockManager.reduce\u001b[39;00m\n\u001b[1;32m> 11562\u001b[0m res \u001b[38;5;241m=\u001b[39m \u001b[43mdf\u001b[49m\u001b[38;5;241;43m.\u001b[39;49m\u001b[43m_mgr\u001b[49m\u001b[38;5;241;43m.\u001b[39;49m\u001b[43mreduce\u001b[49m\u001b[43m(\u001b[49m\u001b[43mblk_func\u001b[49m\u001b[43m)\u001b[49m\n\u001b[0;32m  11563\u001b[0m out \u001b[38;5;241m=\u001b[39m df\u001b[38;5;241m.\u001b[39m_constructor_from_mgr(res, axes\u001b[38;5;241m=\u001b[39mres\u001b[38;5;241m.\u001b[39maxes)\u001b[38;5;241m.\u001b[39miloc[\u001b[38;5;241m0\u001b[39m]\n\u001b[0;32m  11564\u001b[0m \u001b[38;5;28;01mif\u001b[39;00m out_dtype \u001b[38;5;129;01mis\u001b[39;00m \u001b[38;5;129;01mnot\u001b[39;00m \u001b[38;5;28;01mNone\u001b[39;00m \u001b[38;5;129;01mand\u001b[39;00m out\u001b[38;5;241m.\u001b[39mdtype \u001b[38;5;241m!=\u001b[39m \u001b[38;5;124m\"\u001b[39m\u001b[38;5;124mboolean\u001b[39m\u001b[38;5;124m\"\u001b[39m:\n",
      "File \u001b[1;32mc:\\Users\\zkand\\miniconda3\\lib\\site-packages\\pandas\\core\\internals\\managers.py:1500\u001b[0m, in \u001b[0;36mBlockManager.reduce\u001b[1;34m(self, func)\u001b[0m\n\u001b[0;32m   1498\u001b[0m res_blocks: \u001b[38;5;28mlist\u001b[39m[Block] \u001b[38;5;241m=\u001b[39m []\n\u001b[0;32m   1499\u001b[0m \u001b[38;5;28;01mfor\u001b[39;00m blk \u001b[38;5;129;01min\u001b[39;00m \u001b[38;5;28mself\u001b[39m\u001b[38;5;241m.\u001b[39mblocks:\n\u001b[1;32m-> 1500\u001b[0m     nbs \u001b[38;5;241m=\u001b[39m \u001b[43mblk\u001b[49m\u001b[38;5;241;43m.\u001b[39;49m\u001b[43mreduce\u001b[49m\u001b[43m(\u001b[49m\u001b[43mfunc\u001b[49m\u001b[43m)\u001b[49m\n\u001b[0;32m   1501\u001b[0m     res_blocks\u001b[38;5;241m.\u001b[39mextend(nbs)\n\u001b[0;32m   1503\u001b[0m index \u001b[38;5;241m=\u001b[39m Index([\u001b[38;5;28;01mNone\u001b[39;00m])  \u001b[38;5;66;03m# placeholder\u001b[39;00m\n",
      "File \u001b[1;32mc:\\Users\\zkand\\miniconda3\\lib\\site-packages\\pandas\\core\\internals\\blocks.py:404\u001b[0m, in \u001b[0;36mBlock.reduce\u001b[1;34m(self, func)\u001b[0m\n\u001b[0;32m    398\u001b[0m \u001b[38;5;129m@final\u001b[39m\n\u001b[0;32m    399\u001b[0m \u001b[38;5;28;01mdef\u001b[39;00m \u001b[38;5;21mreduce\u001b[39m(\u001b[38;5;28mself\u001b[39m, func) \u001b[38;5;241m-\u001b[39m\u001b[38;5;241m>\u001b[39m \u001b[38;5;28mlist\u001b[39m[Block]:\n\u001b[0;32m    400\u001b[0m     \u001b[38;5;66;03m# We will apply the function and reshape the result into a single-row\u001b[39;00m\n\u001b[0;32m    401\u001b[0m     \u001b[38;5;66;03m#  Block with the same mgr_locs; squeezing will be done at a higher level\u001b[39;00m\n\u001b[0;32m    402\u001b[0m     \u001b[38;5;28;01massert\u001b[39;00m \u001b[38;5;28mself\u001b[39m\u001b[38;5;241m.\u001b[39mndim \u001b[38;5;241m==\u001b[39m \u001b[38;5;241m2\u001b[39m\n\u001b[1;32m--> 404\u001b[0m     result \u001b[38;5;241m=\u001b[39m \u001b[43mfunc\u001b[49m\u001b[43m(\u001b[49m\u001b[38;5;28;43mself\u001b[39;49m\u001b[38;5;241;43m.\u001b[39;49m\u001b[43mvalues\u001b[49m\u001b[43m)\u001b[49m\n\u001b[0;32m    406\u001b[0m     \u001b[38;5;28;01mif\u001b[39;00m \u001b[38;5;28mself\u001b[39m\u001b[38;5;241m.\u001b[39mvalues\u001b[38;5;241m.\u001b[39mndim \u001b[38;5;241m==\u001b[39m \u001b[38;5;241m1\u001b[39m:\n\u001b[0;32m    407\u001b[0m         res_values \u001b[38;5;241m=\u001b[39m result\n",
      "File \u001b[1;32mc:\\Users\\zkand\\miniconda3\\lib\\site-packages\\pandas\\core\\frame.py:11481\u001b[0m, in \u001b[0;36mDataFrame._reduce.<locals>.blk_func\u001b[1;34m(values, axis)\u001b[0m\n\u001b[0;32m  11479\u001b[0m         \u001b[38;5;28;01mreturn\u001b[39;00m np\u001b[38;5;241m.\u001b[39marray([result])\n\u001b[0;32m  11480\u001b[0m \u001b[38;5;28;01melse\u001b[39;00m:\n\u001b[1;32m> 11481\u001b[0m     \u001b[38;5;28;01mreturn\u001b[39;00m op(values, axis\u001b[38;5;241m=\u001b[39maxis, skipna\u001b[38;5;241m=\u001b[39mskipna, \u001b[38;5;241m*\u001b[39m\u001b[38;5;241m*\u001b[39mkwds)\n",
      "File \u001b[1;32mc:\\Users\\zkand\\miniconda3\\lib\\site-packages\\pandas\\core\\nanops.py:1148\u001b[0m, in \u001b[0;36mnanargmax\u001b[1;34m(values, axis, skipna, mask)\u001b[0m\n\u001b[0;32m   1116\u001b[0m \u001b[38;5;250m\u001b[39m\u001b[38;5;124;03m\"\"\"\u001b[39;00m\n\u001b[0;32m   1117\u001b[0m \u001b[38;5;124;03mParameters\u001b[39;00m\n\u001b[0;32m   1118\u001b[0m \u001b[38;5;124;03m----------\u001b[39;00m\n\u001b[1;32m   (...)\u001b[0m\n\u001b[0;32m   1145\u001b[0m \u001b[38;5;124;03marray([2, 2, 1, 1])\u001b[39;00m\n\u001b[0;32m   1146\u001b[0m \u001b[38;5;124;03m\"\"\"\u001b[39;00m\n\u001b[0;32m   1147\u001b[0m values, mask \u001b[38;5;241m=\u001b[39m _get_values(values, \u001b[38;5;28;01mTrue\u001b[39;00m, fill_value_typ\u001b[38;5;241m=\u001b[39m\u001b[38;5;124m\"\u001b[39m\u001b[38;5;124m-inf\u001b[39m\u001b[38;5;124m\"\u001b[39m, mask\u001b[38;5;241m=\u001b[39mmask)\n\u001b[1;32m-> 1148\u001b[0m result \u001b[38;5;241m=\u001b[39m \u001b[43mvalues\u001b[49m\u001b[38;5;241;43m.\u001b[39;49m\u001b[43margmax\u001b[49m\u001b[43m(\u001b[49m\u001b[43maxis\u001b[49m\u001b[43m)\u001b[49m\n\u001b[0;32m   1149\u001b[0m \u001b[38;5;66;03m# error: Argument 1 to \"_maybe_arg_null_out\" has incompatible type \"Any |\u001b[39;00m\n\u001b[0;32m   1150\u001b[0m \u001b[38;5;66;03m# signedinteger[Any]\"; expected \"ndarray[Any, Any]\"\u001b[39;00m\n\u001b[0;32m   1151\u001b[0m result \u001b[38;5;241m=\u001b[39m _maybe_arg_null_out(result, axis, mask, skipna)  \u001b[38;5;66;03m# type: ignore[arg-type]\u001b[39;00m\n",
      "\u001b[1;31mTypeError\u001b[0m: '>' not supported between instances of 'str' and 'float'"
     ]
    }
   ],
   "source": [
    "# For each book, select the genre with the highest score\n",
    "#naive_bayes_predictions['Predicted'] = naive_bayes_predictions.iloc[:, 2:].idxmax(axis=1)\n",
    "#rnn_predictions['Predicted'] = rnn_predictions.iloc[:, 2:].idxmax(axis=1)"
   ]
  },
  {
   "cell_type": "code",
   "execution_count": null,
   "metadata": {},
   "outputs": [
    {
     "name": "stdout",
     "output_type": "stream",
     "text": [
      "Naive Bayes Predicted: Fantasy\n",
      "                                                 Book  \\\n",
      "1   Harry Potter and the Philosopher’s Stone (Harr...   \n",
      "8                               The Lord of the Rings   \n",
      "11  The Chronicles of Narnia (Chronicles of Narnia...   \n",
      "12                                  Lord of the Flies   \n",
      "14  Harry Potter and the Deathly Hallows (Harry Po...   \n",
      "\n",
      "                                          Description         Adult  \\\n",
      "1   Harry Potter thinks he is an ordinary boy - un...  9.999911e-01   \n",
      "8   One Ring to rule them all, One Ring to find th...  1.128224e-10   \n",
      "11  Librarian note: An alternate cover for this ed...  1.568776e-02   \n",
      "12  At the dawn of the next world war, a plane cra...  2.530432e-01   \n",
      "14  Harry has been burdened with a dark, dangerous...  9.999995e-01   \n",
      "\n",
      "      Historical         Roman       Romance   Young Adult  \\\n",
      "1   5.386035e-05  1.200312e-07  1.852226e-07  9.999975e-01   \n",
      "8   1.921959e-20  2.342692e-25  2.918123e-24  4.508422e-10   \n",
      "11  5.060656e-16  3.351258e-30  4.666826e-30  1.394083e-06   \n",
      "12  8.210265e-08  1.499683e-13  2.761545e-13  2.139268e-03   \n",
      "14  1.138578e-09  2.603989e-10  5.718115e-10  9.999876e-01   \n",
      "\n",
      "    Historical Fiction       Science       Mystery  ...     Biography  \\\n",
      "1         5.463765e-05  7.187706e-08  3.514833e-03  ...  2.726997e-13   \n",
      "8         2.653421e-20  1.000000e+00  7.938974e-23  ...  4.300873e-39   \n",
      "11        8.451595e-18  4.325561e-16  2.080004e-35  ...  7.626830e-31   \n",
      "12        3.032230e-08  3.110162e-06  4.852479e-15  ...  2.022906e-26   \n",
      "14        7.093392e-10  4.908134e-09  1.358138e-05  ...  2.041268e-22   \n",
      "\n",
      "           Crime     Self Help    Psychology  Mystery Thriller        Memoir  \\\n",
      "1   4.344908e-07  2.168471e-16  1.970955e-15      6.560340e-06  8.267815e-14   \n",
      "8   2.810297e-32  1.781926e-58  2.031232e-56      2.233105e-33  4.535084e-39   \n",
      "11  9.822902e-47  7.271496e-48  4.874490e-45      3.033224e-59  3.472719e-34   \n",
      "12  1.072166e-28  2.505465e-40  1.909765e-35      1.337772e-28  1.337256e-27   \n",
      "14  2.291759e-14  3.544788e-24  9.277054e-23      8.301317e-14  9.283522e-24   \n",
      "\n",
      "       Childrens         Humor      Suspense        Horror  \n",
      "1   9.999922e-01  6.498974e-10  1.809651e-08  5.150063e-11  \n",
      "8   6.598653e-44  1.417843e-44  9.317684e-38  2.324538e-40  \n",
      "11  2.778359e-16  1.476928e-38  2.247302e-60  1.428555e-42  \n",
      "12  1.629906e-31  1.359863e-28  1.010404e-31  1.273979e-18  \n",
      "14  1.075139e-08  8.041511e-24  2.950812e-16  1.433516e-22  \n",
      "\n",
      "[5 rows x 26 columns]\n"
     ]
    },
    {
     "name": "stderr",
     "output_type": "stream",
     "text": [
      "C:\\Users\\zkand\\AppData\\Local\\Temp\\ipykernel_122148\\3887698118.py:13: UserWarning: Boolean Series key will be reindexed to match DataFrame index.\n",
      "  same_genre_books = naive_bayes_predictions.drop(book_index)[naive_bayes_predictions['Predicted'] == genre]\n"
     ]
    }
   ],
   "source": [
    "# Select the second book in the list\n",
    "book_index = 1\n",
    "\n",
    "# Store the row representing the first book\n",
    "testbook = naive_bayes_predictions.iloc[book_index]\n",
    "\n",
    "# Print the predicted genre for the first book\n",
    "# For now, we'll just focus on the Naive Bayes predictions\n",
    "genre = naive_bayes_predictions['Predicted'][book_index]\n",
    "print(\"Naive Bayes Predicted:\", genre)\n",
    "\n",
    "# Create a smaller dataframe with books that have the same predicted genre excluding the book itself\n",
    "same_genre_books = naive_bayes_predictions.drop(book_index)[naive_bayes_predictions['Predicted'] == genre]\n",
    "# Drop the predicted genre column\n",
    "same_genre_books = same_genre_books.drop('Predicted', axis=1)\n",
    "# Drop the column with the score for the predicted genre\n",
    "same_genre_books = same_genre_books.drop(genre, axis=1)\n",
    "print(same_genre_books.head())"
   ]
  },
  {
   "cell_type": "code",
   "execution_count": null,
   "metadata": {},
   "outputs": [],
   "source": [
    "# Function to calculate the Euclidean distance between two series\n",
    "def euclidean_distance(book1, book2):\n",
    "    # Drop the Book and Description columns\n",
    "    book1 = book1.drop(['Book', 'Description'])\n",
    "    book2 = book2.drop(['Book', 'Description'])\n",
    "    # Subtract the two series element by element\n",
    "    difference = book1 - book2\n",
    "    # Take the square of the differences\n",
    "    squared_difference = difference ** 2\n",
    "    # Sum all squared differences\n",
    "    squared_difference_sum = squared_difference.sum()\n",
    "    # Return the square root of the sum\n",
    "    return squared_difference_sum ** 0.5"
   ]
  },
  {
   "cell_type": "code",
   "execution_count": null,
   "metadata": {},
   "outputs": [
    {
     "name": "stdout",
     "output_type": "stream",
     "text": [
      "[(4355, 3.2778387194732314e-05), (2610, 4.81900347443753e-05), (5328, 6.118751321767603e-05), (7680, 9.315874644322997e-05), (127, 9.785412706703963e-05)]\n",
      "4355                                       Curious George\n",
      "2610                       The Story of Babar (Babar, #1)\n",
      "5328                                       Where's Waldo?\n",
      "7680    Redemption of the Sorcerer (The Crystalon Saga...\n",
      "127                                   Alice in Wonderland\n",
      "Name: Book, dtype: object\n"
     ]
    },
    {
     "ename": "",
     "evalue": "",
     "output_type": "error",
     "traceback": [
      "\u001b[1;31mThe Kernel crashed while executing code in the current cell or a previous cell. \n",
      "\u001b[1;31mPlease review the code in the cell(s) to identify a possible cause of the failure. \n",
      "\u001b[1;31mClick <a href='https://aka.ms/vscodeJupyterKernelCrash'>here</a> for more info. \n",
      "\u001b[1;31mView Jupyter <a href='command:jupyter.viewOutput'>log</a> for further details."
     ]
    }
   ],
   "source": [
    "# Make a list of distances between the test book and all other books in the same genre\n",
    "distances = []\n",
    "for i, book in same_genre_books.iterrows():\n",
    "    distance = euclidean_distance(testbook, book)\n",
    "    distances.append((i, distance))\n",
    "\n",
    "# Sort the distances list by the distance\n",
    "distances.sort(key=lambda x: x[1])\n",
    "print(distances[:5])\n",
    "\n",
    "# Get the indexes of the 5 closest books\n",
    "indexes = [index for index, distance in distances[:5]]\n",
    "\n",
    "# Print the 5 closest books\n",
    "print(naive_bayes_predictions['Book'].iloc[indexes])"
   ]
  }
 ],
 "metadata": {
  "kernelspec": {
   "display_name": "base",
   "language": "python",
   "name": "python3"
  },
  "language_info": {
   "codemirror_mode": {
    "name": "ipython",
    "version": 3
   },
   "file_extension": ".py",
   "mimetype": "text/x-python",
   "name": "python",
   "nbconvert_exporter": "python",
   "pygments_lexer": "ipython3",
   "version": "3.10.14"
  }
 },
 "nbformat": 4,
 "nbformat_minor": 2
}
