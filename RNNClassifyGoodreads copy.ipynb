{
 "cells": [
  {
   "cell_type": "code",
   "execution_count": 1,
   "metadata": {},
   "outputs": [],
   "source": [
    "# Import PyTorch\n",
    "import torch\n",
    "# Get pandas for data manipulation\n",
    "import pandas as pd\n",
    "# Import nltk for text processing\n",
    "import nltk\n",
    "# Import os for file manipulation\n",
    "import os\n",
    "# Import train_test_split from sklearn\n",
    "from sklearn.model_selection import train_test_split\n",
    "# Import LabelEncoder from sklearn for encoding labels\n",
    "from sklearn.preprocessing import LabelEncoder"
   ]
  },
  {
   "cell_type": "code",
   "execution_count": 2,
   "metadata": {},
   "outputs": [],
   "source": [
    "# Set device to GPU if available\n",
    "device = torch.device('cuda' if torch.cuda.is_available() else 'cpu')"
   ]
  },
  {
   "cell_type": "code",
   "execution_count": 3,
   "metadata": {},
   "outputs": [
    {
     "name": "stdout",
     "output_type": "stream",
     "text": [
      "                                                Book  \\\n",
      "0                              To Kill a Mockingbird   \n",
      "1  Harry Potter and the Philosopher’s Stone (Harr...   \n",
      "2                                Pride and Prejudice   \n",
      "3                          The Diary of a Young Girl   \n",
      "4                                  The Little Prince   \n",
      "\n",
      "                                         Description  Fantasy  Adult  \\\n",
      "0  The unforgettable novel of a childhood in a sl...        0      1   \n",
      "1  Harry Potter thinks he is an ordinary boy - un...        1      1   \n",
      "2  Since its immediate success in 1813, Pride and...        0      0   \n",
      "3  Discovered in the attic in which she spent the...        0      0   \n",
      "4  A pilot stranded in the desert awakes one morn...        1      1   \n",
      "\n",
      "   Historical  Roman  Romance  Young Adult  Historical Fiction  Science  ...  \\\n",
      "0           1      0        0            1                   1        0  ...   \n",
      "1           0      0        0            1                   0        0  ...   \n",
      "2           1      1        1            0                   1        0  ...   \n",
      "3           1      0        0            0                   0        0  ...   \n",
      "4           0      0        0            1                   0        0  ...   \n",
      "\n",
      "   Biography  Crime  Self Help  Psychology  Mystery Thriller  Memoir  \\\n",
      "0          0      0          0           0                 0       0   \n",
      "1          0      0          0           0                 0       0   \n",
      "2          0      0          0           0                 0       0   \n",
      "3          1      0          0           0                 0       1   \n",
      "4          0      0          0           0                 0       0   \n",
      "\n",
      "   Childrens  Humor  Suspense  Horror  \n",
      "0          0      0         0       0  \n",
      "1          1      0         0       0  \n",
      "2          0      0         0       0  \n",
      "3          0      0         0       0  \n",
      "4          1      0         0       0  \n",
      "\n",
      "[5 rows x 27 columns]\n",
      "(8055, 27)\n"
     ]
    }
   ],
   "source": [
    "# Load the data from Datasets/goodreads_data_onehot_genres.csv\n",
    "data = pd.read_csv('Datasets/goodreads_data_onehot_genres.csv')\n",
    "# Show the first few rows of the data\n",
    "print(data.head())\n",
    "print(data.shape)"
   ]
  },
  {
   "cell_type": "code",
   "execution_count": 4,
   "metadata": {},
   "outputs": [],
   "source": [
    "# Create a dataframe with the plot column tokenized and lowercased\n",
    "tokenizeddf = data.copy()\n",
    "tokenizeddf['Description'] = tokenizeddf['Description'].apply(lambda x: nltk.word_tokenize(x.lower()))"
   ]
  },
  {
   "cell_type": "code",
   "execution_count": 5,
   "metadata": {},
   "outputs": [
    {
     "name": "stdout",
     "output_type": "stream",
     "text": [
      "Number of unique words:  80123\n"
     ]
    }
   ],
   "source": [
    "# Get the length of the longest plot\n",
    "maxlen = tokenizeddf['Description'].apply(len).max()\n",
    "\n",
    "# Get the set of all words in the plot column\n",
    "wordset = set()\n",
    "for plot in tokenizeddf['Description']:\n",
    "    wordset.update(plot)\n",
    "# Get the number of unique words\n",
    "numwords = len(wordset)\n",
    "print(\"Number of unique words: \", numwords)\n",
    "\n",
    "# Create a dictionary that maps words to integers\n",
    "word2int = {word: i for i, word in enumerate(wordset)}\n",
    "\n",
    "# Function to convert a list of words to a list of integers\n",
    "def words2ints(words):\n",
    "    # Run through each word in the list\n",
    "    ints = []\n",
    "    for word in words:\n",
    "        # If the word is in the dictionary, add the integer to the list\n",
    "        if word in word2int:\n",
    "            ints.append(word2int[word])\n",
    "    return ints"
   ]
  },
  {
   "cell_type": "code",
   "execution_count": 6,
   "metadata": {},
   "outputs": [],
   "source": [
    "# Convert the Description column to a list of integers\n",
    "tokenizeddf['Description'] = tokenizeddf['Description'].apply(words2ints)\n",
    "\n",
    "# Pad the sequences to the maximum length\n",
    "def pad_description(description):\n",
    "    return description + [0] * (maxlen - len(description))\n",
    "\n",
    "tokenizeddf['Description'] = tokenizeddf['Description'].apply(pad_description)"
   ]
  },
  {
   "cell_type": "code",
   "execution_count": 10,
   "metadata": {},
   "outputs": [
    {
     "name": "stdout",
     "output_type": "stream",
     "text": [
      "Index(['Fantasy', 'Adult', 'Historical', 'Roman', 'Romance', 'Young Adult',\n",
      "       'Historical Fiction', 'Science', 'Mystery', 'Contemporary', 'Thriller',\n",
      "       'Science Fiction', 'History', 'Adventure', 'Philosophy', 'Biography',\n",
      "       'Crime', 'Self Help', 'Psychology', 'Mystery Thriller', 'Memoir',\n",
      "       'Childrens', 'Humor', 'Suspense', 'Horror'],\n",
      "      dtype='object')\n"
     ]
    }
   ],
   "source": [
    "# Get the list of genres\n",
    "genres = data.columns[2:]\n",
    "print(genres)\n",
    "numgenres = len(genres)\n",
    "\n",
    "# Create a label encoder\n",
    "le = LabelEncoder()"
   ]
  },
  {
   "cell_type": "code",
   "execution_count": 19,
   "metadata": {},
   "outputs": [],
   "source": [
    "# Dataset class to feed the data to the model\n",
    "class RNNDataset(torch.utils.data.Dataset):\n",
    "    def __init__(self, data, labels):\n",
    "        self.data = data\n",
    "        # One-hot encode the labels\n",
    "        self.labels = torch.tensor(labels, dtype=torch.float32)\n",
    "\n",
    "    def __len__(self):\n",
    "        return len(self.data)\n",
    "    \n",
    "    def __getitem__(self, idx):\n",
    "        return self.data[idx], self.labels[idx]\n",
    "    \n",
    "# Dataloader to load the data in batches\n",
    "class RNNDataloader(torch.utils.data.DataLoader):\n",
    "    def __init__(self, dataset, batch_size=32, shuffle=True):\n",
    "        super().__init__(dataset, batch_size=batch_size, shuffle=shuffle)\n",
    "\n",
    "# RNN model\n",
    "class RNN(torch.nn.Module):\n",
    "    def __init__(self, input_size, hidden_size, output_size):\n",
    "        super().__init__()\n",
    "        self.hidden_size = hidden_size\n",
    "        self.embedding = torch.nn.Embedding(input_size, hidden_size)\n",
    "        self.rnn = torch.nn.RNN(hidden_size, hidden_size)\n",
    "        self.fc = torch.nn.Linear(hidden_size, output_size)\n",
    "    \n",
    "    def forward(self, x):\n",
    "        x = self.embedding(x)\n",
    "        x, _ = self.rnn(x)\n",
    "        x = self.fc(x)\n",
    "        return torch.sigmoid(x)"
   ]
  },
  {
   "cell_type": "code",
   "execution_count": 45,
   "metadata": {},
   "outputs": [
    {
     "name": "stderr",
     "output_type": "stream",
     "text": [
      "C:\\Users\\zkand\\AppData\\Local\\Temp\\ipykernel_106692\\2112536438.py:10: UserWarning: To copy construct from a tensor, it is recommended to use sourceTensor.clone().detach() or sourceTensor.clone().detach().requires_grad_(True), rather than torch.tensor(sourceTensor).\n",
      "  tokenizeddf['Description'] = tokenizeddf['Description'].apply(lambda x: torch.tensor(x))\n"
     ]
    },
    {
     "name": "stdout",
     "output_type": "stream",
     "text": [
      "Epoch 0, Iteration 0, Loss: 7.3828840255737305\n",
      "Epoch 0, Iteration 100, Loss: 6.436121940612793\n",
      "Epoch 0, Iteration 200, Loss: 6.47701358795166\n",
      "Epoch 1, Accuracy: 0.0\n",
      "Epoch 1, Iteration 0, Loss: 6.430018901824951\n",
      "Epoch 1, Iteration 100, Loss: 6.439828395843506\n",
      "Epoch 1, Iteration 200, Loss: 6.421042442321777\n",
      "Epoch 2, Accuracy: 0.0\n",
      "Epoch 2, Iteration 0, Loss: 6.414675235748291\n",
      "Epoch 2, Iteration 100, Loss: 6.45998477935791\n",
      "Epoch 2, Iteration 200, Loss: 6.424440383911133\n",
      "Epoch 3, Accuracy: 0.0\n",
      "Epoch 3, Iteration 0, Loss: 6.471440315246582\n",
      "Epoch 3, Iteration 100, Loss: 6.4019622802734375\n",
      "Epoch 3, Iteration 200, Loss: 6.416241645812988\n",
      "Epoch 4, Accuracy: 0.0\n",
      "Epoch 4, Iteration 0, Loss: 6.4226202964782715\n",
      "Epoch 4, Iteration 100, Loss: 6.474729537963867\n",
      "Epoch 4, Iteration 200, Loss: 6.410287380218506\n",
      "Epoch 5, Accuracy: 0.0\n",
      "Epoch 5, Iteration 0, Loss: 6.413392543792725\n",
      "Epoch 5, Iteration 100, Loss: 6.401698589324951\n",
      "Epoch 5, Iteration 200, Loss: 6.407113552093506\n",
      "Epoch 6, Accuracy: 0.0\n",
      "Epoch 6, Iteration 0, Loss: 6.408841133117676\n",
      "Epoch 6, Iteration 100, Loss: 6.462222099304199\n",
      "Epoch 6, Iteration 200, Loss: 6.4180707931518555\n",
      "Epoch 7, Accuracy: 0.0\n",
      "Epoch 7, Iteration 0, Loss: 6.3985490798950195\n",
      "Epoch 7, Iteration 100, Loss: 6.4311041831970215\n",
      "Epoch 7, Iteration 200, Loss: 6.405295372009277\n",
      "Epoch 8, Accuracy: 0.0\n",
      "Epoch 8, Iteration 0, Loss: 6.415008068084717\n",
      "Epoch 8, Iteration 100, Loss: 6.430776596069336\n",
      "Epoch 8, Iteration 200, Loss: 6.439643383026123\n",
      "Epoch 9, Accuracy: 0.0\n",
      "Epoch 9, Iteration 0, Loss: 6.405467510223389\n",
      "Epoch 9, Iteration 100, Loss: 6.403110504150391\n",
      "Epoch 9, Iteration 200, Loss: 6.406130313873291\n",
      "Epoch 10, Accuracy: 0.0\n"
     ]
    }
   ],
   "source": [
    "# Create the model\n",
    "model = RNN(numwords, 128, numgenres).to(device)\n",
    "\n",
    "# Loss function\n",
    "criterion = torch.nn.CrossEntropyLoss()\n",
    "# Optimizer\n",
    "optimizer = torch.optim.Adam(model.parameters(), lr=0.001)\n",
    "\n",
    "# Convert the data to tensors\n",
    "tokenizeddf['Description'] = tokenizeddf['Description'].apply(lambda x: torch.tensor(x))\n",
    "\n",
    "# Split the data into training and testing sets\n",
    "traindata, testdata = train_test_split(tokenizeddf, test_size=0.2, random_state=42)\n",
    "\n",
    "# Create the training and testing datasets\n",
    "traindataset = RNNDataset(traindata['Description'].values, traindata[genres].values)\n",
    "testdataset = RNNDataset(testdata['Description'].values, testdata[genres].values)\n",
    "                          \n",
    "# Create the training and testing dataloaders\n",
    "traindataloader = RNNDataloader(traindataset, batch_size=32)\n",
    "testdataloader = RNNDataloader(testdataset, batch_size=32)\n",
    "\n",
    "# Training loop\n",
    "epochs = 10\n",
    "for epoch in range(epochs):\n",
    "    model.train()\n",
    "    for i, (inputs, labels) in enumerate(traindataloader):\n",
    "        # Send the data to the device\n",
    "        inputs = inputs.to(device)\n",
    "        labels = labels.to(device)\n",
    "        # Zero the gradients\n",
    "        optimizer.zero_grad()\n",
    "        # Get the outputs\n",
    "        outputs = model(inputs)\n",
    "        # Calculate the loss\n",
    "        loss = criterion(outputs, labels.long())\n",
    "        # Backpropagate\n",
    "        loss.backward()\n",
    "        # Optimize\n",
    "        optimizer.step()\n",
    "        if i % 100 == 0:\n",
    "            print(f\"Epoch {epoch}, Iteration {i}, Loss: {loss.item()}\")\n",
    "\n",
    "\n",
    "    model.eval()\n",
    "    correct = 0\n",
    "    total = 0\n",
    "    with torch.no_grad():\n",
    "        for inputs, labels in testdataloader:\n",
    "            inputs = inputs.to(device)\n",
    "            labels = labels.to(device)\n",
    "            outputs = model(inputs)\n",
    "            _, predicted = torch.max(outputs, 2)\n",
    "            total += labels.size(0)\n",
    "            #correct += (predicted == labels).sum().item()\n",
    "    print(f\"Epoch {epoch+1}, Accuracy: {correct / total}\")"
   ]
  },
  {
   "cell_type": "code",
   "execution_count": 185,
   "metadata": {},
   "outputs": [],
   "source": [
    "# Dataset class for genres\n",
    "class GenreDataset(torch.utils.data.Dataset):\n",
    "    def __init__(self, data, genre):\n",
    "        self.plot = data[\"Description\"].values\n",
    "        self.genre = data[genre].values\n",
    "\n",
    "    def __len__(self):\n",
    "        return len(self.plot)\n",
    "    \n",
    "    def __getitem__(self, i):\n",
    "        plot = self.plot[i]\n",
    "        genre = self.genre[i]\n",
    "        return torch.tensor(plot, dtype=torch.long), torch.tensor(genre, dtype=torch.float)\n",
    "    \n",
    "# Dataloader class for genres\n",
    "class GenreDataLoader(torch.utils.data.DataLoader):\n",
    "    def __init__(self, dataset, batch_size=32, shuffle=True):\n",
    "        super().__init__(dataset, batch_size=batch_size, shuffle=shuffle)\n",
    "\n",
    "# RNN class for genres\n",
    "# Create the RNN to classify the plots as action or not\n",
    "class GenreRNN(torch.nn.Module):\n",
    "    def __init__(self, vocab_size, embedding_dim, hidden_dim, output_size):\n",
    "        super(GenreRNN, self).__init__()\n",
    "        self.embedding = torch.nn.Embedding(vocab_size, embedding_dim)\n",
    "        self.rnn = torch.nn.RNN(embedding_dim, hidden_dim, batch_first=True)\n",
    "        self.fc = torch.nn.Linear(hidden_dim, output_size)\n",
    "        self.sigmoid = torch.nn.Sigmoid()\n",
    "        self.hidden_dim = hidden_dim\n",
    "    \n",
    "    def forward(self, x):\n",
    "        x = self.embedding(x)\n",
    "        h0 = torch.zeros(1, x.size(0), self.hidden_dim).to(x.device)\n",
    "        out, _ = self.rnn(x, h0)\n",
    "        out = self.fc(out[:, -1, :])        \n",
    "        return out"
   ]
  },
  {
   "cell_type": "code",
   "execution_count": 197,
   "metadata": {},
   "outputs": [],
   "source": [
    "# Function to train a model\n",
    "def train_genre_rnn(genre, epochs, embed, hidden, output):\n",
    "    genremodel = GenreRNN(numwords, embed, hidden, output)\n",
    "    # Extract the relevant columns from the dataframe\n",
    "    genredf = tokenizeddf[['Book', 'Description', genre]]\n",
    "    # Encode the genre column\n",
    "    genredf[genre] = le.fit_transform(genredf[genre])\n",
    "    # Train test split the data\n",
    "    # We won't use the test data in this function\n",
    "    genretrain, genretest = train_test_split(genredf, test_size=0.2, random_state=42)\n",
    "    # Create a GenreDataset object\n",
    "    genretraindataset = GenreDataset(genretrain, genre)\n",
    "    # Create a DataLoader\n",
    "    genretrainloader = GenreDataLoader(genretraindataset, batch_size=32, shuffle=True)\n",
    "\n",
    "    criterion = torch.nn.CrossEntropyLoss()\n",
    "    optimizer = torch.optim.Adam(genremodel.parameters(), lr=0.01)\n",
    "\n",
    "    # Set the device\n",
    "    device = torch.device(\"cuda\" if torch.cuda.is_available() else \"cpu\")\n",
    "\n",
    "    # Send the model to the device\n",
    "    genremodel.to(device)\n",
    "\n",
    "    # Train the model\n",
    "    num_epochs = epochs\n",
    "    for epoch in range(num_epochs):\n",
    "        epoch_loss = 0\n",
    "        genremodel.train()\n",
    "        for plots, genres in genretrainloader:\n",
    "            # Send the data to the device\n",
    "            plots = plots.to(device)\n",
    "            genres = genres.to(device)\n",
    "            outputs = genremodel(plots)\n",
    "            loss = criterion(outputs, genres.long())\n",
    "\n",
    "            optimizer.zero_grad()\n",
    "            loss.backward()\n",
    "            optimizer.step()\n",
    "\n",
    "            epoch_loss += loss.item()\n",
    "        print(f\"Epoch {epoch+1}/{num_epochs}, Loss: {loss.item()}\")\n",
    "\n",
    "    # Return the model\n",
    "    return genremodel"
   ]
  },
  {
   "cell_type": "code",
   "execution_count": 198,
   "metadata": {},
   "outputs": [],
   "source": [
    "# Save a model\n",
    "def save_model(model, genre):\n",
    "    if not os.path.exists(\"models/rnn\"):\n",
    "        os.makedirs(\"models/rnn\")\n",
    "    torch.save(model.state_dict(), f\"models/rnn/{genre}modelgoodreads.pth\")"
   ]
  },
  {
   "cell_type": "code",
   "execution_count": 188,
   "metadata": {},
   "outputs": [
    {
     "name": "stdout",
     "output_type": "stream",
     "text": [
      "Index(['Fantasy', 'Adult', 'Historical', 'Roman', 'Romance', 'Young Adult',\n",
      "       'Historical Fiction', 'Science', 'Mystery', 'Contemporary', 'Thriller',\n",
      "       'Science Fiction', 'History', 'Adventure', 'Philosophy', 'Biography',\n",
      "       'Crime', 'Self Help', 'Psychology', 'Mystery Thriller', 'Memoir',\n",
      "       'Childrens', 'Humor', 'Suspense', 'Horror'],\n",
      "      dtype='object')\n"
     ]
    }
   ],
   "source": [
    "# Get all the genres\n",
    "genres = data.columns[2:]\n",
    "print(genres)"
   ]
  },
  {
   "cell_type": "code",
   "execution_count": 199,
   "metadata": {},
   "outputs": [
    {
     "name": "stdout",
     "output_type": "stream",
     "text": [
      "Training model for Fantasy\n"
     ]
    },
    {
     "name": "stderr",
     "output_type": "stream",
     "text": [
      "C:\\Users\\zkand\\AppData\\Local\\Temp\\ipykernel_48300\\1723805196.py:7: SettingWithCopyWarning: \n",
      "A value is trying to be set on a copy of a slice from a DataFrame.\n",
      "Try using .loc[row_indexer,col_indexer] = value instead\n",
      "\n",
      "See the caveats in the documentation: https://pandas.pydata.org/pandas-docs/stable/user_guide/indexing.html#returning-a-view-versus-a-copy\n",
      "  genredf[genre] = le.fit_transform(genredf[genre])\n"
     ]
    },
    {
     "name": "stdout",
     "output_type": "stream",
     "text": [
      "Epoch 1/10, Loss: 0.45378658175468445\n",
      "Epoch 2/10, Loss: 0.6822710633277893\n",
      "Epoch 3/10, Loss: 0.7687479853630066\n",
      "Epoch 4/10, Loss: 0.6806064248085022\n",
      "Epoch 5/10, Loss: 0.4537822902202606\n",
      "Epoch 6/10, Loss: 0.637323796749115\n",
      "Epoch 7/10, Loss: 0.49676191806793213\n",
      "Epoch 8/10, Loss: 0.37705138325691223\n",
      "Epoch 9/10, Loss: 0.5785762071609497\n",
      "Epoch 10/10, Loss: 0.7937762141227722\n",
      "Training model for Adult\n"
     ]
    },
    {
     "name": "stderr",
     "output_type": "stream",
     "text": [
      "C:\\Users\\zkand\\AppData\\Local\\Temp\\ipykernel_48300\\1723805196.py:7: SettingWithCopyWarning: \n",
      "A value is trying to be set on a copy of a slice from a DataFrame.\n",
      "Try using .loc[row_indexer,col_indexer] = value instead\n",
      "\n",
      "See the caveats in the documentation: https://pandas.pydata.org/pandas-docs/stable/user_guide/indexing.html#returning-a-view-versus-a-copy\n",
      "  genredf[genre] = le.fit_transform(genredf[genre])\n"
     ]
    },
    {
     "name": "stdout",
     "output_type": "stream",
     "text": [
      "Epoch 1/10, Loss: 0.5647515058517456\n",
      "Epoch 2/10, Loss: 0.4574686288833618\n",
      "Epoch 3/10, Loss: 0.5970885157585144\n",
      "Epoch 4/10, Loss: 0.5634920001029968\n",
      "Epoch 5/10, Loss: 0.6033783555030823\n",
      "Epoch 6/10, Loss: 0.46666255593299866\n",
      "Epoch 7/10, Loss: 0.4614276587963104\n",
      "Epoch 8/10, Loss: 0.9936614036560059\n",
      "Epoch 9/10, Loss: 0.8872262835502625\n",
      "Epoch 10/10, Loss: 0.5059335231781006\n",
      "Training model for Historical\n"
     ]
    },
    {
     "name": "stderr",
     "output_type": "stream",
     "text": [
      "C:\\Users\\zkand\\AppData\\Local\\Temp\\ipykernel_48300\\1723805196.py:7: SettingWithCopyWarning: \n",
      "A value is trying to be set on a copy of a slice from a DataFrame.\n",
      "Try using .loc[row_indexer,col_indexer] = value instead\n",
      "\n",
      "See the caveats in the documentation: https://pandas.pydata.org/pandas-docs/stable/user_guide/indexing.html#returning-a-view-versus-a-copy\n",
      "  genredf[genre] = le.fit_transform(genredf[genre])\n"
     ]
    },
    {
     "name": "stdout",
     "output_type": "stream",
     "text": [
      "Epoch 1/10, Loss: 0.29311272501945496\n",
      "Epoch 2/10, Loss: 0.6253640055656433\n",
      "Epoch 3/10, Loss: 0.6202725172042847\n",
      "Epoch 4/10, Loss: 0.4998610019683838\n",
      "Epoch 5/10, Loss: 0.2873847484588623\n",
      "Epoch 6/10, Loss: 0.4518500864505768\n",
      "Epoch 7/10, Loss: 0.7651438117027283\n",
      "Epoch 8/10, Loss: 0.5673539638519287\n",
      "Epoch 9/10, Loss: 0.9360573291778564\n",
      "Epoch 10/10, Loss: 0.4909355640411377\n",
      "Training model for Roman\n"
     ]
    },
    {
     "name": "stderr",
     "output_type": "stream",
     "text": [
      "C:\\Users\\zkand\\AppData\\Local\\Temp\\ipykernel_48300\\1723805196.py:7: SettingWithCopyWarning: \n",
      "A value is trying to be set on a copy of a slice from a DataFrame.\n",
      "Try using .loc[row_indexer,col_indexer] = value instead\n",
      "\n",
      "See the caveats in the documentation: https://pandas.pydata.org/pandas-docs/stable/user_guide/indexing.html#returning-a-view-versus-a-copy\n",
      "  genredf[genre] = le.fit_transform(genredf[genre])\n"
     ]
    },
    {
     "name": "stdout",
     "output_type": "stream",
     "text": [
      "Epoch 1/10, Loss: 0.5149520039558411\n",
      "Epoch 2/10, Loss: 0.49177050590515137\n",
      "Epoch 3/10, Loss: 0.4586270749568939\n",
      "Epoch 4/10, Loss: 0.71673983335495\n",
      "Epoch 5/10, Loss: 0.47216737270355225\n",
      "Epoch 6/10, Loss: 0.6425043940544128\n",
      "Epoch 7/10, Loss: 0.7707116007804871\n",
      "Epoch 8/10, Loss: 0.6036862134933472\n",
      "Epoch 9/10, Loss: 0.41404202580451965\n",
      "Epoch 10/10, Loss: 0.5841596722602844\n",
      "Training model for Romance\n"
     ]
    },
    {
     "name": "stderr",
     "output_type": "stream",
     "text": [
      "C:\\Users\\zkand\\AppData\\Local\\Temp\\ipykernel_48300\\1723805196.py:7: SettingWithCopyWarning: \n",
      "A value is trying to be set on a copy of a slice from a DataFrame.\n",
      "Try using .loc[row_indexer,col_indexer] = value instead\n",
      "\n",
      "See the caveats in the documentation: https://pandas.pydata.org/pandas-docs/stable/user_guide/indexing.html#returning-a-view-versus-a-copy\n",
      "  genredf[genre] = le.fit_transform(genredf[genre])\n"
     ]
    },
    {
     "name": "stdout",
     "output_type": "stream",
     "text": [
      "Epoch 1/10, Loss: 0.5151139497756958\n",
      "Epoch 2/10, Loss: 0.8410816788673401\n",
      "Epoch 3/10, Loss: 1.1159148216247559\n",
      "Epoch 4/10, Loss: 0.6546376347541809\n"
     ]
    }
   ],
   "source": [
    "# Train a model for every genre\n",
    "for genre in genres:\n",
    "    print(f\"Training model for {genre}\")\n",
    "    model = train_genre_rnn(genre, 10, 128, 128, 2)\n",
    "    save_model(model, genre)"
   ]
  },
  {
   "cell_type": "code",
   "execution_count": null,
   "metadata": {},
   "outputs": [],
   "source": [
    "# Test the models\n",
    "# Returns the accuracy, precision, recall, and F1 score of the model on the test data\n",
    "def test_models(genres):\n",
    "    # Create a dictionary to store the metrics\n",
    "    results = {}\n",
    "    # Run through each genre\n",
    "    for genre in genres:\n",
    "        # Load the model from the file (if it exists)\n",
    "        if os.path.exists(f\"models/rnn/{genre}modelgoodreads.pth\"):\n",
    "            model = GenreRNN(numwords, 128, 128, 2)\n",
    "            model.load_state_dict(torch.load(f\"models/rnn/{genre}modelgoodreads.pth\"))\n",
    "            model.eval()\n",
    "            # Extract the relevant columns from the dataframe\n",
    "            genredf = tokenizeddf[['Book', 'Description', genre]]\n",
    "            # Encode the genre column\n",
    "            genredf[genre] = le.fit_transform(genredf[genre])\n",
    "            # Train test split the data\n",
    "            genretrain, genretest = train_test_split(genredf, test_size=0.3, random_state=42)\n",
    "            genretestdataset = GenreDataset(genretest, genre)\n",
    "            genretestloader = GenreDataLoader(genretestdataset, batch_size=32, shuffle=True)\n",
    "            # Set the device\n",
    "            device = torch.device(\"cuda\" if torch.cuda.is_available() else \"cpu\")\n",
    "            # Send the model to the device\n",
    "            model.to(device)\n",
    "            # Initialize the metrics\n",
    "            tp = 0\n",
    "            tn = 0\n",
    "            fp = 0\n",
    "            fn = 0\n",
    "            # Turn off gradients\n",
    "            with torch.no_grad():\n",
    "                for plots, genres in genretestloader:\n",
    "                    plots = plots.to(device)\n",
    "                    genres = genres.to(device)\n",
    "                    # Get the outputs\n",
    "                    outputs = model(plots)\n",
    "                    _, preds = torch.max(outputs, 1)\n",
    "                    # Increment the metrics\n",
    "                    newtp = torch.sum((preds == 1) & (genres == 1)).item()\n",
    "                    newtn = torch.sum((preds == 0) & (genres == 0)).item()\n",
    "                    newfp = torch.sum((preds == 1) & (genres == 0)).item()\n",
    "                    newfn = torch.sum((preds == 0) & (genres == 1)).item()\n",
    "                    tp += newtp\n",
    "                    tn += newtn\n",
    "                    fp += newfp\n",
    "                    fn += newfn\n",
    "            # Calculate the metrics\n",
    "            accuracy = (tp + tn) / (tp + tn + fp + fn)\n",
    "            precision = tp / (tp + fp) if tp + fp != 0 else 0\n",
    "            recall = tp / (tp + fn) if tp + fn != 0 else 0\n",
    "            f1 = 2 * precision * recall / (precision + recall) if precision + recall != 0 else 0                    \n",
    "            results[genre] = { \"Accuracy\": accuracy, \"Precision\": precision, \"Recall\": recall, \"F1\": f1 }\n",
    "    return results"
   ]
  },
  {
   "cell_type": "code",
   "execution_count": 191,
   "metadata": {},
   "outputs": [
    {
     "name": "stderr",
     "output_type": "stream",
     "text": [
      "C:\\Users\\zkand\\AppData\\Local\\Temp\\ipykernel_48300\\4076232601.py:16: SettingWithCopyWarning: \n",
      "A value is trying to be set on a copy of a slice from a DataFrame.\n",
      "Try using .loc[row_indexer,col_indexer] = value instead\n",
      "\n",
      "See the caveats in the documentation: https://pandas.pydata.org/pandas-docs/stable/user_guide/indexing.html#returning-a-view-versus-a-copy\n",
      "  genredf[genre] = le.fit_transform(genredf[genre])\n",
      "C:\\Users\\zkand\\AppData\\Local\\Temp\\ipykernel_48300\\4076232601.py:16: SettingWithCopyWarning: \n",
      "A value is trying to be set on a copy of a slice from a DataFrame.\n",
      "Try using .loc[row_indexer,col_indexer] = value instead\n",
      "\n",
      "See the caveats in the documentation: https://pandas.pydata.org/pandas-docs/stable/user_guide/indexing.html#returning-a-view-versus-a-copy\n",
      "  genredf[genre] = le.fit_transform(genredf[genre])\n",
      "C:\\Users\\zkand\\AppData\\Local\\Temp\\ipykernel_48300\\4076232601.py:16: SettingWithCopyWarning: \n",
      "A value is trying to be set on a copy of a slice from a DataFrame.\n",
      "Try using .loc[row_indexer,col_indexer] = value instead\n",
      "\n",
      "See the caveats in the documentation: https://pandas.pydata.org/pandas-docs/stable/user_guide/indexing.html#returning-a-view-versus-a-copy\n",
      "  genredf[genre] = le.fit_transform(genredf[genre])\n",
      "C:\\Users\\zkand\\AppData\\Local\\Temp\\ipykernel_48300\\4076232601.py:16: SettingWithCopyWarning: \n",
      "A value is trying to be set on a copy of a slice from a DataFrame.\n",
      "Try using .loc[row_indexer,col_indexer] = value instead\n",
      "\n",
      "See the caveats in the documentation: https://pandas.pydata.org/pandas-docs/stable/user_guide/indexing.html#returning-a-view-versus-a-copy\n",
      "  genredf[genre] = le.fit_transform(genredf[genre])\n",
      "C:\\Users\\zkand\\AppData\\Local\\Temp\\ipykernel_48300\\4076232601.py:16: SettingWithCopyWarning: \n",
      "A value is trying to be set on a copy of a slice from a DataFrame.\n",
      "Try using .loc[row_indexer,col_indexer] = value instead\n",
      "\n",
      "See the caveats in the documentation: https://pandas.pydata.org/pandas-docs/stable/user_guide/indexing.html#returning-a-view-versus-a-copy\n",
      "  genredf[genre] = le.fit_transform(genredf[genre])\n",
      "C:\\Users\\zkand\\AppData\\Local\\Temp\\ipykernel_48300\\4076232601.py:16: SettingWithCopyWarning: \n",
      "A value is trying to be set on a copy of a slice from a DataFrame.\n",
      "Try using .loc[row_indexer,col_indexer] = value instead\n",
      "\n",
      "See the caveats in the documentation: https://pandas.pydata.org/pandas-docs/stable/user_guide/indexing.html#returning-a-view-versus-a-copy\n",
      "  genredf[genre] = le.fit_transform(genredf[genre])\n",
      "C:\\Users\\zkand\\AppData\\Local\\Temp\\ipykernel_48300\\4076232601.py:16: SettingWithCopyWarning: \n",
      "A value is trying to be set on a copy of a slice from a DataFrame.\n",
      "Try using .loc[row_indexer,col_indexer] = value instead\n",
      "\n",
      "See the caveats in the documentation: https://pandas.pydata.org/pandas-docs/stable/user_guide/indexing.html#returning-a-view-versus-a-copy\n",
      "  genredf[genre] = le.fit_transform(genredf[genre])\n",
      "C:\\Users\\zkand\\AppData\\Local\\Temp\\ipykernel_48300\\4076232601.py:16: SettingWithCopyWarning: \n",
      "A value is trying to be set on a copy of a slice from a DataFrame.\n",
      "Try using .loc[row_indexer,col_indexer] = value instead\n",
      "\n",
      "See the caveats in the documentation: https://pandas.pydata.org/pandas-docs/stable/user_guide/indexing.html#returning-a-view-versus-a-copy\n",
      "  genredf[genre] = le.fit_transform(genredf[genre])\n",
      "C:\\Users\\zkand\\AppData\\Local\\Temp\\ipykernel_48300\\4076232601.py:16: SettingWithCopyWarning: \n",
      "A value is trying to be set on a copy of a slice from a DataFrame.\n",
      "Try using .loc[row_indexer,col_indexer] = value instead\n",
      "\n",
      "See the caveats in the documentation: https://pandas.pydata.org/pandas-docs/stable/user_guide/indexing.html#returning-a-view-versus-a-copy\n",
      "  genredf[genre] = le.fit_transform(genredf[genre])\n",
      "C:\\Users\\zkand\\AppData\\Local\\Temp\\ipykernel_48300\\4076232601.py:16: SettingWithCopyWarning: \n",
      "A value is trying to be set on a copy of a slice from a DataFrame.\n",
      "Try using .loc[row_indexer,col_indexer] = value instead\n",
      "\n",
      "See the caveats in the documentation: https://pandas.pydata.org/pandas-docs/stable/user_guide/indexing.html#returning-a-view-versus-a-copy\n",
      "  genredf[genre] = le.fit_transform(genredf[genre])\n",
      "C:\\Users\\zkand\\AppData\\Local\\Temp\\ipykernel_48300\\4076232601.py:16: SettingWithCopyWarning: \n",
      "A value is trying to be set on a copy of a slice from a DataFrame.\n",
      "Try using .loc[row_indexer,col_indexer] = value instead\n",
      "\n",
      "See the caveats in the documentation: https://pandas.pydata.org/pandas-docs/stable/user_guide/indexing.html#returning-a-view-versus-a-copy\n",
      "  genredf[genre] = le.fit_transform(genredf[genre])\n",
      "C:\\Users\\zkand\\AppData\\Local\\Temp\\ipykernel_48300\\4076232601.py:16: SettingWithCopyWarning: \n",
      "A value is trying to be set on a copy of a slice from a DataFrame.\n",
      "Try using .loc[row_indexer,col_indexer] = value instead\n",
      "\n",
      "See the caveats in the documentation: https://pandas.pydata.org/pandas-docs/stable/user_guide/indexing.html#returning-a-view-versus-a-copy\n",
      "  genredf[genre] = le.fit_transform(genredf[genre])\n",
      "C:\\Users\\zkand\\AppData\\Local\\Temp\\ipykernel_48300\\4076232601.py:16: SettingWithCopyWarning: \n",
      "A value is trying to be set on a copy of a slice from a DataFrame.\n",
      "Try using .loc[row_indexer,col_indexer] = value instead\n",
      "\n",
      "See the caveats in the documentation: https://pandas.pydata.org/pandas-docs/stable/user_guide/indexing.html#returning-a-view-versus-a-copy\n",
      "  genredf[genre] = le.fit_transform(genredf[genre])\n",
      "C:\\Users\\zkand\\AppData\\Local\\Temp\\ipykernel_48300\\4076232601.py:16: SettingWithCopyWarning: \n",
      "A value is trying to be set on a copy of a slice from a DataFrame.\n",
      "Try using .loc[row_indexer,col_indexer] = value instead\n",
      "\n",
      "See the caveats in the documentation: https://pandas.pydata.org/pandas-docs/stable/user_guide/indexing.html#returning-a-view-versus-a-copy\n",
      "  genredf[genre] = le.fit_transform(genredf[genre])\n",
      "C:\\Users\\zkand\\AppData\\Local\\Temp\\ipykernel_48300\\4076232601.py:16: SettingWithCopyWarning: \n",
      "A value is trying to be set on a copy of a slice from a DataFrame.\n",
      "Try using .loc[row_indexer,col_indexer] = value instead\n",
      "\n",
      "See the caveats in the documentation: https://pandas.pydata.org/pandas-docs/stable/user_guide/indexing.html#returning-a-view-versus-a-copy\n",
      "  genredf[genre] = le.fit_transform(genredf[genre])\n",
      "C:\\Users\\zkand\\AppData\\Local\\Temp\\ipykernel_48300\\4076232601.py:16: SettingWithCopyWarning: \n",
      "A value is trying to be set on a copy of a slice from a DataFrame.\n",
      "Try using .loc[row_indexer,col_indexer] = value instead\n",
      "\n",
      "See the caveats in the documentation: https://pandas.pydata.org/pandas-docs/stable/user_guide/indexing.html#returning-a-view-versus-a-copy\n",
      "  genredf[genre] = le.fit_transform(genredf[genre])\n",
      "C:\\Users\\zkand\\AppData\\Local\\Temp\\ipykernel_48300\\4076232601.py:16: SettingWithCopyWarning: \n",
      "A value is trying to be set on a copy of a slice from a DataFrame.\n",
      "Try using .loc[row_indexer,col_indexer] = value instead\n",
      "\n",
      "See the caveats in the documentation: https://pandas.pydata.org/pandas-docs/stable/user_guide/indexing.html#returning-a-view-versus-a-copy\n",
      "  genredf[genre] = le.fit_transform(genredf[genre])\n",
      "C:\\Users\\zkand\\AppData\\Local\\Temp\\ipykernel_48300\\4076232601.py:16: SettingWithCopyWarning: \n",
      "A value is trying to be set on a copy of a slice from a DataFrame.\n",
      "Try using .loc[row_indexer,col_indexer] = value instead\n",
      "\n",
      "See the caveats in the documentation: https://pandas.pydata.org/pandas-docs/stable/user_guide/indexing.html#returning-a-view-versus-a-copy\n",
      "  genredf[genre] = le.fit_transform(genredf[genre])\n",
      "C:\\Users\\zkand\\AppData\\Local\\Temp\\ipykernel_48300\\4076232601.py:16: SettingWithCopyWarning: \n",
      "A value is trying to be set on a copy of a slice from a DataFrame.\n",
      "Try using .loc[row_indexer,col_indexer] = value instead\n",
      "\n",
      "See the caveats in the documentation: https://pandas.pydata.org/pandas-docs/stable/user_guide/indexing.html#returning-a-view-versus-a-copy\n",
      "  genredf[genre] = le.fit_transform(genredf[genre])\n",
      "C:\\Users\\zkand\\AppData\\Local\\Temp\\ipykernel_48300\\4076232601.py:16: SettingWithCopyWarning: \n",
      "A value is trying to be set on a copy of a slice from a DataFrame.\n",
      "Try using .loc[row_indexer,col_indexer] = value instead\n",
      "\n",
      "See the caveats in the documentation: https://pandas.pydata.org/pandas-docs/stable/user_guide/indexing.html#returning-a-view-versus-a-copy\n",
      "  genredf[genre] = le.fit_transform(genredf[genre])\n",
      "C:\\Users\\zkand\\AppData\\Local\\Temp\\ipykernel_48300\\4076232601.py:16: SettingWithCopyWarning: \n",
      "A value is trying to be set on a copy of a slice from a DataFrame.\n",
      "Try using .loc[row_indexer,col_indexer] = value instead\n",
      "\n",
      "See the caveats in the documentation: https://pandas.pydata.org/pandas-docs/stable/user_guide/indexing.html#returning-a-view-versus-a-copy\n",
      "  genredf[genre] = le.fit_transform(genredf[genre])\n",
      "C:\\Users\\zkand\\AppData\\Local\\Temp\\ipykernel_48300\\4076232601.py:16: SettingWithCopyWarning: \n",
      "A value is trying to be set on a copy of a slice from a DataFrame.\n",
      "Try using .loc[row_indexer,col_indexer] = value instead\n",
      "\n",
      "See the caveats in the documentation: https://pandas.pydata.org/pandas-docs/stable/user_guide/indexing.html#returning-a-view-versus-a-copy\n",
      "  genredf[genre] = le.fit_transform(genredf[genre])\n",
      "C:\\Users\\zkand\\AppData\\Local\\Temp\\ipykernel_48300\\4076232601.py:16: SettingWithCopyWarning: \n",
      "A value is trying to be set on a copy of a slice from a DataFrame.\n",
      "Try using .loc[row_indexer,col_indexer] = value instead\n",
      "\n",
      "See the caveats in the documentation: https://pandas.pydata.org/pandas-docs/stable/user_guide/indexing.html#returning-a-view-versus-a-copy\n",
      "  genredf[genre] = le.fit_transform(genredf[genre])\n",
      "C:\\Users\\zkand\\AppData\\Local\\Temp\\ipykernel_48300\\4076232601.py:16: SettingWithCopyWarning: \n",
      "A value is trying to be set on a copy of a slice from a DataFrame.\n",
      "Try using .loc[row_indexer,col_indexer] = value instead\n",
      "\n",
      "See the caveats in the documentation: https://pandas.pydata.org/pandas-docs/stable/user_guide/indexing.html#returning-a-view-versus-a-copy\n",
      "  genredf[genre] = le.fit_transform(genredf[genre])\n",
      "C:\\Users\\zkand\\AppData\\Local\\Temp\\ipykernel_48300\\4076232601.py:16: SettingWithCopyWarning: \n",
      "A value is trying to be set on a copy of a slice from a DataFrame.\n",
      "Try using .loc[row_indexer,col_indexer] = value instead\n",
      "\n",
      "See the caveats in the documentation: https://pandas.pydata.org/pandas-docs/stable/user_guide/indexing.html#returning-a-view-versus-a-copy\n",
      "  genredf[genre] = le.fit_transform(genredf[genre])\n"
     ]
    }
   ],
   "source": [
    "# Write the results to a file\n",
    "results = test_models(genres)\n",
    "with open(\"goodreads_rnn_results.txt\", \"w\") as f:\n",
    "    for genre, metrics in results.items():\n",
    "        f.write(f\"{genre}:\\n\")\n",
    "        for metric, value in metrics.items():\n",
    "            f.write(f\"{metric}: {value}\\n\")\n",
    "        f.write(\"\\n\")"
   ]
  },
  {
   "cell_type": "code",
   "execution_count": 192,
   "metadata": {},
   "outputs": [
    {
     "name": "stdout",
     "output_type": "stream",
     "text": [
      "0.24978426098823547\n"
     ]
    }
   ],
   "source": [
    "# Predict the probability that a plot is a certain genre\n",
    "def score_genre(description,genre):\n",
    "    # Get the tokenized version of the plot\n",
    "    tokenplot = nltk.word_tokenize(description.lower())\n",
    "    tokenplot = words2ints(tokenplot)\n",
    "    tokenplot = pad_description(tokenplot)\n",
    "    # Check if the model exists and load it\n",
    "    if not os.path.exists(f\"models/rnn/{genre}modelgoodreads.pth\"):\n",
    "        print(\"Model does not exist\")\n",
    "        return None\n",
    "    model = GenreRNN(numwords, 128, 128, 2)\n",
    "    model.load_state_dict(torch.load(f\"models/rnn/{genre}modelgoodreads.pth\"))\n",
    "    model.eval()\n",
    "    # Convert the plot to a tensor\n",
    "    tokenplot = torch.tensor(tokenplot, dtype=torch.long).unsqueeze(0)\n",
    "    # Get the device\n",
    "    device = torch.device(\"cuda\" if torch.cuda.is_available() else \"cpu\")\n",
    "    # Send the plot and the model to the device\n",
    "    tokenplot = tokenplot.to(device)\n",
    "    model.to(device)\n",
    "    # Get the output of the model\n",
    "    output = model(tokenplot)\n",
    "    # Turn the output into a probability that the plot is the genre\n",
    "    prob = torch.nn.functional.softmax(output, dim=1)[:, 1]\n",
    "    return prob.item()\n",
    "\n",
    "# Test the function\n",
    "print(score_genre(data['Description'][0], 'Fantasy'))"
   ]
  },
  {
   "cell_type": "code",
   "execution_count": 193,
   "metadata": {},
   "outputs": [],
   "source": [
    "# Function to get the genre score for a plot\n",
    "def predict_genres(description, genre):\n",
    "    # Tokenize and pad the plot\n",
    "    description = nltk.word_tokenize(description.lower())\n",
    "    description = words2ints(description)\n",
    "    description = pad_description(description)\n",
    "    description = torch.tensor(description, dtype=torch.long).unsqueeze(0)\n",
    "    # Check if the model exists\n",
    "    if not os.path.exists(f\"models/rnn/{genre}modelgoodreads.pth\"):\n",
    "        print(f\"Model for {genre} does not exist\")\n",
    "        return None\n",
    "    #print(f\"Predicting {genre}\")\n",
    "    # Load the model\n",
    "    model = GenreRNN(numwords, 128, 128, 2)\n",
    "    model.load_state_dict(torch.load(f\"models/rnn/{genre}modelgoodreads.pth\"))\n",
    "    # Set the device\n",
    "    device = torch.device(\"cuda\" if torch.cuda.is_available() else \"cpu\")\n",
    "    # Send the model to the device\n",
    "    model.to(device)\n",
    "    # Send the plot to the device\n",
    "    description = description.to(device)\n",
    "    # Turn off gradients\n",
    "    with torch.no_grad():\n",
    "        # Get the output\n",
    "        output = model(description)\n",
    "        _, preds = torch.max(output, 1)\n",
    "        return preds.item()"
   ]
  },
  {
   "cell_type": "code",
   "execution_count": 194,
   "metadata": {},
   "outputs": [
    {
     "name": "stderr",
     "output_type": "stream",
     "text": [
      "C:\\Users\\zkand\\AppData\\Local\\Temp\\ipykernel_48300\\4115772836.py:5: SettingWithCopyWarning: \n",
      "A value is trying to be set on a copy of a slice from a DataFrame.\n",
      "Try using .loc[row_indexer,col_indexer] = value instead\n",
      "\n",
      "See the caveats in the documentation: https://pandas.pydata.org/pandas-docs/stable/user_guide/indexing.html#returning-a-view-versus-a-copy\n",
      "  genre_scores[genre] = 0\n",
      "C:\\Users\\zkand\\AppData\\Local\\Temp\\ipykernel_48300\\4115772836.py:5: SettingWithCopyWarning: \n",
      "A value is trying to be set on a copy of a slice from a DataFrame.\n",
      "Try using .loc[row_indexer,col_indexer] = value instead\n",
      "\n",
      "See the caveats in the documentation: https://pandas.pydata.org/pandas-docs/stable/user_guide/indexing.html#returning-a-view-versus-a-copy\n",
      "  genre_scores[genre] = 0\n",
      "C:\\Users\\zkand\\AppData\\Local\\Temp\\ipykernel_48300\\4115772836.py:5: SettingWithCopyWarning: \n",
      "A value is trying to be set on a copy of a slice from a DataFrame.\n",
      "Try using .loc[row_indexer,col_indexer] = value instead\n",
      "\n",
      "See the caveats in the documentation: https://pandas.pydata.org/pandas-docs/stable/user_guide/indexing.html#returning-a-view-versus-a-copy\n",
      "  genre_scores[genre] = 0\n",
      "C:\\Users\\zkand\\AppData\\Local\\Temp\\ipykernel_48300\\4115772836.py:5: SettingWithCopyWarning: \n",
      "A value is trying to be set on a copy of a slice from a DataFrame.\n",
      "Try using .loc[row_indexer,col_indexer] = value instead\n",
      "\n",
      "See the caveats in the documentation: https://pandas.pydata.org/pandas-docs/stable/user_guide/indexing.html#returning-a-view-versus-a-copy\n",
      "  genre_scores[genre] = 0\n",
      "C:\\Users\\zkand\\AppData\\Local\\Temp\\ipykernel_48300\\4115772836.py:5: SettingWithCopyWarning: \n",
      "A value is trying to be set on a copy of a slice from a DataFrame.\n",
      "Try using .loc[row_indexer,col_indexer] = value instead\n",
      "\n",
      "See the caveats in the documentation: https://pandas.pydata.org/pandas-docs/stable/user_guide/indexing.html#returning-a-view-versus-a-copy\n",
      "  genre_scores[genre] = 0\n",
      "C:\\Users\\zkand\\AppData\\Local\\Temp\\ipykernel_48300\\4115772836.py:5: SettingWithCopyWarning: \n",
      "A value is trying to be set on a copy of a slice from a DataFrame.\n",
      "Try using .loc[row_indexer,col_indexer] = value instead\n",
      "\n",
      "See the caveats in the documentation: https://pandas.pydata.org/pandas-docs/stable/user_guide/indexing.html#returning-a-view-versus-a-copy\n",
      "  genre_scores[genre] = 0\n",
      "C:\\Users\\zkand\\AppData\\Local\\Temp\\ipykernel_48300\\4115772836.py:5: SettingWithCopyWarning: \n",
      "A value is trying to be set on a copy of a slice from a DataFrame.\n",
      "Try using .loc[row_indexer,col_indexer] = value instead\n",
      "\n",
      "See the caveats in the documentation: https://pandas.pydata.org/pandas-docs/stable/user_guide/indexing.html#returning-a-view-versus-a-copy\n",
      "  genre_scores[genre] = 0\n",
      "C:\\Users\\zkand\\AppData\\Local\\Temp\\ipykernel_48300\\4115772836.py:5: SettingWithCopyWarning: \n",
      "A value is trying to be set on a copy of a slice from a DataFrame.\n",
      "Try using .loc[row_indexer,col_indexer] = value instead\n",
      "\n",
      "See the caveats in the documentation: https://pandas.pydata.org/pandas-docs/stable/user_guide/indexing.html#returning-a-view-versus-a-copy\n",
      "  genre_scores[genre] = 0\n",
      "C:\\Users\\zkand\\AppData\\Local\\Temp\\ipykernel_48300\\4115772836.py:5: SettingWithCopyWarning: \n",
      "A value is trying to be set on a copy of a slice from a DataFrame.\n",
      "Try using .loc[row_indexer,col_indexer] = value instead\n",
      "\n",
      "See the caveats in the documentation: https://pandas.pydata.org/pandas-docs/stable/user_guide/indexing.html#returning-a-view-versus-a-copy\n",
      "  genre_scores[genre] = 0\n",
      "C:\\Users\\zkand\\AppData\\Local\\Temp\\ipykernel_48300\\4115772836.py:5: SettingWithCopyWarning: \n",
      "A value is trying to be set on a copy of a slice from a DataFrame.\n",
      "Try using .loc[row_indexer,col_indexer] = value instead\n",
      "\n",
      "See the caveats in the documentation: https://pandas.pydata.org/pandas-docs/stable/user_guide/indexing.html#returning-a-view-versus-a-copy\n",
      "  genre_scores[genre] = 0\n",
      "C:\\Users\\zkand\\AppData\\Local\\Temp\\ipykernel_48300\\4115772836.py:5: SettingWithCopyWarning: \n",
      "A value is trying to be set on a copy of a slice from a DataFrame.\n",
      "Try using .loc[row_indexer,col_indexer] = value instead\n",
      "\n",
      "See the caveats in the documentation: https://pandas.pydata.org/pandas-docs/stable/user_guide/indexing.html#returning-a-view-versus-a-copy\n",
      "  genre_scores[genre] = 0\n",
      "C:\\Users\\zkand\\AppData\\Local\\Temp\\ipykernel_48300\\4115772836.py:5: SettingWithCopyWarning: \n",
      "A value is trying to be set on a copy of a slice from a DataFrame.\n",
      "Try using .loc[row_indexer,col_indexer] = value instead\n",
      "\n",
      "See the caveats in the documentation: https://pandas.pydata.org/pandas-docs/stable/user_guide/indexing.html#returning-a-view-versus-a-copy\n",
      "  genre_scores[genre] = 0\n",
      "C:\\Users\\zkand\\AppData\\Local\\Temp\\ipykernel_48300\\4115772836.py:5: SettingWithCopyWarning: \n",
      "A value is trying to be set on a copy of a slice from a DataFrame.\n",
      "Try using .loc[row_indexer,col_indexer] = value instead\n",
      "\n",
      "See the caveats in the documentation: https://pandas.pydata.org/pandas-docs/stable/user_guide/indexing.html#returning-a-view-versus-a-copy\n",
      "  genre_scores[genre] = 0\n",
      "C:\\Users\\zkand\\AppData\\Local\\Temp\\ipykernel_48300\\4115772836.py:5: SettingWithCopyWarning: \n",
      "A value is trying to be set on a copy of a slice from a DataFrame.\n",
      "Try using .loc[row_indexer,col_indexer] = value instead\n",
      "\n",
      "See the caveats in the documentation: https://pandas.pydata.org/pandas-docs/stable/user_guide/indexing.html#returning-a-view-versus-a-copy\n",
      "  genre_scores[genre] = 0\n",
      "C:\\Users\\zkand\\AppData\\Local\\Temp\\ipykernel_48300\\4115772836.py:5: SettingWithCopyWarning: \n",
      "A value is trying to be set on a copy of a slice from a DataFrame.\n",
      "Try using .loc[row_indexer,col_indexer] = value instead\n",
      "\n",
      "See the caveats in the documentation: https://pandas.pydata.org/pandas-docs/stable/user_guide/indexing.html#returning-a-view-versus-a-copy\n",
      "  genre_scores[genre] = 0\n",
      "C:\\Users\\zkand\\AppData\\Local\\Temp\\ipykernel_48300\\4115772836.py:5: SettingWithCopyWarning: \n",
      "A value is trying to be set on a copy of a slice from a DataFrame.\n",
      "Try using .loc[row_indexer,col_indexer] = value instead\n",
      "\n",
      "See the caveats in the documentation: https://pandas.pydata.org/pandas-docs/stable/user_guide/indexing.html#returning-a-view-versus-a-copy\n",
      "  genre_scores[genre] = 0\n",
      "C:\\Users\\zkand\\AppData\\Local\\Temp\\ipykernel_48300\\4115772836.py:5: SettingWithCopyWarning: \n",
      "A value is trying to be set on a copy of a slice from a DataFrame.\n",
      "Try using .loc[row_indexer,col_indexer] = value instead\n",
      "\n",
      "See the caveats in the documentation: https://pandas.pydata.org/pandas-docs/stable/user_guide/indexing.html#returning-a-view-versus-a-copy\n",
      "  genre_scores[genre] = 0\n",
      "C:\\Users\\zkand\\AppData\\Local\\Temp\\ipykernel_48300\\4115772836.py:5: SettingWithCopyWarning: \n",
      "A value is trying to be set on a copy of a slice from a DataFrame.\n",
      "Try using .loc[row_indexer,col_indexer] = value instead\n",
      "\n",
      "See the caveats in the documentation: https://pandas.pydata.org/pandas-docs/stable/user_guide/indexing.html#returning-a-view-versus-a-copy\n",
      "  genre_scores[genre] = 0\n",
      "C:\\Users\\zkand\\AppData\\Local\\Temp\\ipykernel_48300\\4115772836.py:5: SettingWithCopyWarning: \n",
      "A value is trying to be set on a copy of a slice from a DataFrame.\n",
      "Try using .loc[row_indexer,col_indexer] = value instead\n",
      "\n",
      "See the caveats in the documentation: https://pandas.pydata.org/pandas-docs/stable/user_guide/indexing.html#returning-a-view-versus-a-copy\n",
      "  genre_scores[genre] = 0\n",
      "C:\\Users\\zkand\\AppData\\Local\\Temp\\ipykernel_48300\\4115772836.py:5: SettingWithCopyWarning: \n",
      "A value is trying to be set on a copy of a slice from a DataFrame.\n",
      "Try using .loc[row_indexer,col_indexer] = value instead\n",
      "\n",
      "See the caveats in the documentation: https://pandas.pydata.org/pandas-docs/stable/user_guide/indexing.html#returning-a-view-versus-a-copy\n",
      "  genre_scores[genre] = 0\n",
      "C:\\Users\\zkand\\AppData\\Local\\Temp\\ipykernel_48300\\4115772836.py:5: SettingWithCopyWarning: \n",
      "A value is trying to be set on a copy of a slice from a DataFrame.\n",
      "Try using .loc[row_indexer,col_indexer] = value instead\n",
      "\n",
      "See the caveats in the documentation: https://pandas.pydata.org/pandas-docs/stable/user_guide/indexing.html#returning-a-view-versus-a-copy\n",
      "  genre_scores[genre] = 0\n",
      "C:\\Users\\zkand\\AppData\\Local\\Temp\\ipykernel_48300\\4115772836.py:5: SettingWithCopyWarning: \n",
      "A value is trying to be set on a copy of a slice from a DataFrame.\n",
      "Try using .loc[row_indexer,col_indexer] = value instead\n",
      "\n",
      "See the caveats in the documentation: https://pandas.pydata.org/pandas-docs/stable/user_guide/indexing.html#returning-a-view-versus-a-copy\n",
      "  genre_scores[genre] = 0\n",
      "C:\\Users\\zkand\\AppData\\Local\\Temp\\ipykernel_48300\\4115772836.py:5: SettingWithCopyWarning: \n",
      "A value is trying to be set on a copy of a slice from a DataFrame.\n",
      "Try using .loc[row_indexer,col_indexer] = value instead\n",
      "\n",
      "See the caveats in the documentation: https://pandas.pydata.org/pandas-docs/stable/user_guide/indexing.html#returning-a-view-versus-a-copy\n",
      "  genre_scores[genre] = 0\n",
      "C:\\Users\\zkand\\AppData\\Local\\Temp\\ipykernel_48300\\4115772836.py:5: SettingWithCopyWarning: \n",
      "A value is trying to be set on a copy of a slice from a DataFrame.\n",
      "Try using .loc[row_indexer,col_indexer] = value instead\n",
      "\n",
      "See the caveats in the documentation: https://pandas.pydata.org/pandas-docs/stable/user_guide/indexing.html#returning-a-view-versus-a-copy\n",
      "  genre_scores[genre] = 0\n"
     ]
    }
   ],
   "source": [
    "# Create a new dataframe with the Book and Description columns\n",
    "genre_scores = data[['Book', 'Description']]\n",
    "# Add a new column for the genre scores\n",
    "for genre in genres:\n",
    "    genre_scores[genre] = 0"
   ]
  },
  {
   "cell_type": "code",
   "execution_count": 195,
   "metadata": {},
   "outputs": [
    {
     "name": "stdout",
     "output_type": "stream",
     "text": [
      "Fantasy: 0.24978426098823547\n",
      "Adult: 0.2589132487773895\n"
     ]
    },
    {
     "name": "stderr",
     "output_type": "stream",
     "text": [
      "C:\\Users\\zkand\\AppData\\Local\\Temp\\ipykernel_48300\\810474042.py:9: FutureWarning: Setting an item of incompatible dtype is deprecated and will raise an error in a future version of pandas. Value '0.24978426098823547' has dtype incompatible with int64, please explicitly cast to a compatible dtype first.\n",
      "  genre_scores.at[0, genre] = score\n",
      "C:\\Users\\zkand\\AppData\\Local\\Temp\\ipykernel_48300\\810474042.py:9: FutureWarning: Setting an item of incompatible dtype is deprecated and will raise an error in a future version of pandas. Value '0.2589132487773895' has dtype incompatible with int64, please explicitly cast to a compatible dtype first.\n",
      "  genre_scores.at[0, genre] = score\n",
      "C:\\Users\\zkand\\AppData\\Local\\Temp\\ipykernel_48300\\810474042.py:9: FutureWarning: Setting an item of incompatible dtype is deprecated and will raise an error in a future version of pandas. Value '0.21866098046302795' has dtype incompatible with int64, please explicitly cast to a compatible dtype first.\n",
      "  genre_scores.at[0, genre] = score\n"
     ]
    },
    {
     "name": "stdout",
     "output_type": "stream",
     "text": [
      "Historical: 0.21866098046302795\n",
      "Roman: 0.174833282828331\n",
      "Romance: 0.1999729573726654\n",
      "Young Adult: 0.21275590360164642\n"
     ]
    },
    {
     "name": "stderr",
     "output_type": "stream",
     "text": [
      "C:\\Users\\zkand\\AppData\\Local\\Temp\\ipykernel_48300\\810474042.py:9: FutureWarning: Setting an item of incompatible dtype is deprecated and will raise an error in a future version of pandas. Value '0.174833282828331' has dtype incompatible with int64, please explicitly cast to a compatible dtype first.\n",
      "  genre_scores.at[0, genre] = score\n",
      "C:\\Users\\zkand\\AppData\\Local\\Temp\\ipykernel_48300\\810474042.py:9: FutureWarning: Setting an item of incompatible dtype is deprecated and will raise an error in a future version of pandas. Value '0.1999729573726654' has dtype incompatible with int64, please explicitly cast to a compatible dtype first.\n",
      "  genre_scores.at[0, genre] = score\n",
      "C:\\Users\\zkand\\AppData\\Local\\Temp\\ipykernel_48300\\810474042.py:9: FutureWarning: Setting an item of incompatible dtype is deprecated and will raise an error in a future version of pandas. Value '0.21275590360164642' has dtype incompatible with int64, please explicitly cast to a compatible dtype first.\n",
      "  genre_scores.at[0, genre] = score\n"
     ]
    },
    {
     "name": "stdout",
     "output_type": "stream",
     "text": [
      "Historical Fiction: 0.17600159347057343\n",
      "Science: 0.1967347264289856\n"
     ]
    },
    {
     "name": "stderr",
     "output_type": "stream",
     "text": [
      "C:\\Users\\zkand\\AppData\\Local\\Temp\\ipykernel_48300\\810474042.py:9: FutureWarning: Setting an item of incompatible dtype is deprecated and will raise an error in a future version of pandas. Value '0.17600159347057343' has dtype incompatible with int64, please explicitly cast to a compatible dtype first.\n",
      "  genre_scores.at[0, genre] = score\n",
      "C:\\Users\\zkand\\AppData\\Local\\Temp\\ipykernel_48300\\810474042.py:9: FutureWarning: Setting an item of incompatible dtype is deprecated and will raise an error in a future version of pandas. Value '0.1967347264289856' has dtype incompatible with int64, please explicitly cast to a compatible dtype first.\n",
      "  genre_scores.at[0, genre] = score\n"
     ]
    },
    {
     "name": "stdout",
     "output_type": "stream",
     "text": [
      "Mystery: 0.1720680594444275\n",
      "Contemporary: 0.1538202315568924\n"
     ]
    },
    {
     "name": "stderr",
     "output_type": "stream",
     "text": [
      "C:\\Users\\zkand\\AppData\\Local\\Temp\\ipykernel_48300\\810474042.py:9: FutureWarning: Setting an item of incompatible dtype is deprecated and will raise an error in a future version of pandas. Value '0.1720680594444275' has dtype incompatible with int64, please explicitly cast to a compatible dtype first.\n",
      "  genre_scores.at[0, genre] = score\n",
      "C:\\Users\\zkand\\AppData\\Local\\Temp\\ipykernel_48300\\810474042.py:9: FutureWarning: Setting an item of incompatible dtype is deprecated and will raise an error in a future version of pandas. Value '0.1538202315568924' has dtype incompatible with int64, please explicitly cast to a compatible dtype first.\n",
      "  genre_scores.at[0, genre] = score\n"
     ]
    },
    {
     "name": "stdout",
     "output_type": "stream",
     "text": [
      "Thriller: 0.1474837064743042\n",
      "Science Fiction: 0.11311233043670654\n"
     ]
    },
    {
     "name": "stderr",
     "output_type": "stream",
     "text": [
      "C:\\Users\\zkand\\AppData\\Local\\Temp\\ipykernel_48300\\810474042.py:9: FutureWarning: Setting an item of incompatible dtype is deprecated and will raise an error in a future version of pandas. Value '0.1474837064743042' has dtype incompatible with int64, please explicitly cast to a compatible dtype first.\n",
      "  genre_scores.at[0, genre] = score\n",
      "C:\\Users\\zkand\\AppData\\Local\\Temp\\ipykernel_48300\\810474042.py:9: FutureWarning: Setting an item of incompatible dtype is deprecated and will raise an error in a future version of pandas. Value '0.11311233043670654' has dtype incompatible with int64, please explicitly cast to a compatible dtype first.\n",
      "  genre_scores.at[0, genre] = score\n"
     ]
    },
    {
     "name": "stdout",
     "output_type": "stream",
     "text": [
      "History: 0.10035471618175507\n",
      "Adventure: 0.08986809104681015\n"
     ]
    },
    {
     "name": "stderr",
     "output_type": "stream",
     "text": [
      "C:\\Users\\zkand\\AppData\\Local\\Temp\\ipykernel_48300\\810474042.py:9: FutureWarning: Setting an item of incompatible dtype is deprecated and will raise an error in a future version of pandas. Value '0.10035471618175507' has dtype incompatible with int64, please explicitly cast to a compatible dtype first.\n",
      "  genre_scores.at[0, genre] = score\n",
      "C:\\Users\\zkand\\AppData\\Local\\Temp\\ipykernel_48300\\810474042.py:9: FutureWarning: Setting an item of incompatible dtype is deprecated and will raise an error in a future version of pandas. Value '0.08986809104681015' has dtype incompatible with int64, please explicitly cast to a compatible dtype first.\n",
      "  genre_scores.at[0, genre] = score\n"
     ]
    },
    {
     "name": "stdout",
     "output_type": "stream",
     "text": [
      "Philosophy: 0.0732497125864029\n"
     ]
    },
    {
     "name": "stderr",
     "output_type": "stream",
     "text": [
      "C:\\Users\\zkand\\AppData\\Local\\Temp\\ipykernel_48300\\810474042.py:9: FutureWarning: Setting an item of incompatible dtype is deprecated and will raise an error in a future version of pandas. Value '0.0732497125864029' has dtype incompatible with int64, please explicitly cast to a compatible dtype first.\n",
      "  genre_scores.at[0, genre] = score\n"
     ]
    },
    {
     "name": "stdout",
     "output_type": "stream",
     "text": [
      "Biography: 0.09064341336488724\n",
      "Crime: 0.0889410600066185\n"
     ]
    },
    {
     "name": "stderr",
     "output_type": "stream",
     "text": [
      "C:\\Users\\zkand\\AppData\\Local\\Temp\\ipykernel_48300\\810474042.py:9: FutureWarning: Setting an item of incompatible dtype is deprecated and will raise an error in a future version of pandas. Value '0.09064341336488724' has dtype incompatible with int64, please explicitly cast to a compatible dtype first.\n",
      "  genre_scores.at[0, genre] = score\n",
      "C:\\Users\\zkand\\AppData\\Local\\Temp\\ipykernel_48300\\810474042.py:9: FutureWarning: Setting an item of incompatible dtype is deprecated and will raise an error in a future version of pandas. Value '0.0889410600066185' has dtype incompatible with int64, please explicitly cast to a compatible dtype first.\n",
      "  genre_scores.at[0, genre] = score\n"
     ]
    },
    {
     "name": "stdout",
     "output_type": "stream",
     "text": [
      "Self Help: 0.09301909804344177\n"
     ]
    },
    {
     "name": "stderr",
     "output_type": "stream",
     "text": [
      "C:\\Users\\zkand\\AppData\\Local\\Temp\\ipykernel_48300\\810474042.py:9: FutureWarning: Setting an item of incompatible dtype is deprecated and will raise an error in a future version of pandas. Value '0.09301909804344177' has dtype incompatible with int64, please explicitly cast to a compatible dtype first.\n",
      "  genre_scores.at[0, genre] = score\n"
     ]
    },
    {
     "name": "stdout",
     "output_type": "stream",
     "text": [
      "Psychology: 0.08704997599124908\n",
      "Mystery Thriller: 0.08307088166475296\n",
      "Memoir: 0.07320615649223328\n"
     ]
    },
    {
     "name": "stderr",
     "output_type": "stream",
     "text": [
      "C:\\Users\\zkand\\AppData\\Local\\Temp\\ipykernel_48300\\810474042.py:9: FutureWarning: Setting an item of incompatible dtype is deprecated and will raise an error in a future version of pandas. Value '0.08704997599124908' has dtype incompatible with int64, please explicitly cast to a compatible dtype first.\n",
      "  genre_scores.at[0, genre] = score\n",
      "C:\\Users\\zkand\\AppData\\Local\\Temp\\ipykernel_48300\\810474042.py:9: FutureWarning: Setting an item of incompatible dtype is deprecated and will raise an error in a future version of pandas. Value '0.08307088166475296' has dtype incompatible with int64, please explicitly cast to a compatible dtype first.\n",
      "  genre_scores.at[0, genre] = score\n",
      "C:\\Users\\zkand\\AppData\\Local\\Temp\\ipykernel_48300\\810474042.py:9: FutureWarning: Setting an item of incompatible dtype is deprecated and will raise an error in a future version of pandas. Value '0.07320615649223328' has dtype incompatible with int64, please explicitly cast to a compatible dtype first.\n",
      "  genre_scores.at[0, genre] = score\n"
     ]
    },
    {
     "name": "stdout",
     "output_type": "stream",
     "text": [
      "Childrens: 0.06173611432313919\n"
     ]
    },
    {
     "name": "stderr",
     "output_type": "stream",
     "text": [
      "C:\\Users\\zkand\\AppData\\Local\\Temp\\ipykernel_48300\\810474042.py:9: FutureWarning: Setting an item of incompatible dtype is deprecated and will raise an error in a future version of pandas. Value '0.06173611432313919' has dtype incompatible with int64, please explicitly cast to a compatible dtype first.\n",
      "  genre_scores.at[0, genre] = score\n"
     ]
    },
    {
     "name": "stdout",
     "output_type": "stream",
     "text": [
      "Humor: 0.07380232959985733\n",
      "Suspense: 0.07185681164264679\n",
      "Horror: 0.05504041910171509\n"
     ]
    },
    {
     "name": "stderr",
     "output_type": "stream",
     "text": [
      "C:\\Users\\zkand\\AppData\\Local\\Temp\\ipykernel_48300\\810474042.py:9: FutureWarning: Setting an item of incompatible dtype is deprecated and will raise an error in a future version of pandas. Value '0.07380232959985733' has dtype incompatible with int64, please explicitly cast to a compatible dtype first.\n",
      "  genre_scores.at[0, genre] = score\n",
      "C:\\Users\\zkand\\AppData\\Local\\Temp\\ipykernel_48300\\810474042.py:9: FutureWarning: Setting an item of incompatible dtype is deprecated and will raise an error in a future version of pandas. Value '0.07185681164264679' has dtype incompatible with int64, please explicitly cast to a compatible dtype first.\n",
      "  genre_scores.at[0, genre] = score\n",
      "C:\\Users\\zkand\\AppData\\Local\\Temp\\ipykernel_48300\\810474042.py:9: FutureWarning: Setting an item of incompatible dtype is deprecated and will raise an error in a future version of pandas. Value '0.05504041910171509' has dtype incompatible with int64, please explicitly cast to a compatible dtype first.\n",
      "  genre_scores.at[0, genre] = score\n"
     ]
    },
    {
     "name": "stdout",
     "output_type": "stream",
     "text": [
      "Fantasy: 0.24978426098823547\n",
      "Adult: 0.25891321897506714\n",
      "Historical: 0.21866096556186676\n",
      "Roman: 0.1748332679271698\n",
      "Romance: 0.1999729573726654\n",
      "Young Adult: 0.21275590360164642\n",
      "Historical Fiction: 0.17600159347057343\n",
      "Science: 0.1967347264289856\n",
      "Mystery: 0.1720680594444275\n",
      "Contemporary: 0.1538202315568924\n",
      "Thriller: 0.1474837064743042\n",
      "Science Fiction: 0.11311233043670654\n",
      "History: 0.10035469383001328\n",
      "Adventure: 0.08986809104681015\n",
      "Philosophy: 0.0732497125864029\n",
      "Biography: 0.09064339101314545\n",
      "Crime: 0.0889410600066185\n",
      "Self Help: 0.09301909804344177\n",
      "Psychology: 0.08704997599124908\n",
      "Mystery Thriller: 0.08307089656591415\n",
      "Memoir: 0.07320615649223328\n",
      "Childrens: 0.061736129224300385\n",
      "Humor: 0.07380231469869614\n",
      "Suspense: 0.07185681164264679\n",
      "Horror: 0.05504041910171509\n",
      "The unforgettable novel of a childhood in a sleepy Southern town and the crisis of conscience that rocked it. \"To Kill A Mockingbird\" became both an instant bestseller and a critical success when it was first published in 1960. It went on to win the Pulitzer Prize in 1961 and was later made into an Academy Award-winning film, also a classic.Compassionate, dramatic, and deeply moving, \"To Kill A Mockingbird\" takes readers to the roots of human behavior - to innocence and experience, kindness and cruelty, love and hatred, humor and pathos. Now with over 18 million copies in print and translated into forty languages, this regional story by a young Alabama woman claims universal appeal. Harper Lee always considered her book to be a simple love story. Today it is regarded as a masterpiece of American literature.\n",
      "Harry Potter thinks he is an ordinary boy - until he is rescued by an owl, taken to Hogwarts School of Witchcraft and Wizardry, learns to play Quidditch and does battle in a deadly duel. The Reason ... HARRY POTTER IS A WIZARD!\n",
      "0.24978426098823547\n",
      "0.24978426098823547\n"
     ]
    }
   ],
   "source": [
    "# Predict genres for the first book\n",
    "row = genre_scores.iloc[0]\n",
    "for genre in genres:\n",
    "    # Predict the genre score for the plot\n",
    "    score = score_genre(row['Description'], genre)\n",
    "    # Print the score and genre\n",
    "    print(f\"{genre}: {score}\")\n",
    "    # Overwrite the genre score in the dataframe\n",
    "    genre_scores.at[0, genre] = score\n",
    "\n",
    "row = genre_scores.iloc[1]\n",
    "for genre in genres:\n",
    "    # Predict the genre score for the plot\n",
    "    score = score_genre(row['Description'], genre)\n",
    "    # Print the score and genre\n",
    "    print(f\"{genre}: {score}\")\n",
    "    # Overwrite the genre score in the dataframe\n",
    "    genre_scores.at[1, genre] = score\n",
    "\n",
    "print(data['Description'][0])\n",
    "print(data['Description'][1])\n",
    "\n",
    "print(score_genre(data['Description'][0], 'Fantasy'))\n",
    "print(score_genre(data['Description'][1], 'Fantasy'))"
   ]
  },
  {
   "cell_type": "code",
   "execution_count": 196,
   "metadata": {},
   "outputs": [
    {
     "name": "stdout",
     "output_type": "stream",
     "text": [
      "                                                Book  \\\n",
      "0                              To Kill a Mockingbird   \n",
      "1  Harry Potter and the Philosopher’s Stone (Harr...   \n",
      "2                                Pride and Prejudice   \n",
      "3                          The Diary of a Young Girl   \n",
      "4                                  The Little Prince   \n",
      "\n",
      "                                         Description   Fantasy     Adult  \\\n",
      "0  The unforgettable novel of a childhood in a sl...  0.249784  0.258913   \n",
      "1  Harry Potter thinks he is an ordinary boy - un...  0.249784  0.258913   \n",
      "2  Since its immediate success in 1813, Pride and...  0.000000  0.000000   \n",
      "3  Discovered in the attic in which she spent the...  0.000000  0.000000   \n",
      "4  A pilot stranded in the desert awakes one morn...  0.000000  0.000000   \n",
      "\n",
      "   Historical     Roman   Romance  Young Adult  Historical Fiction   Science  \\\n",
      "0    0.218661  0.174833  0.199973     0.212756            0.176002  0.196735   \n",
      "1    0.218661  0.174833  0.199973     0.212756            0.176002  0.196735   \n",
      "2    0.000000  0.000000  0.000000     0.000000            0.000000  0.000000   \n",
      "3    0.000000  0.000000  0.000000     0.000000            0.000000  0.000000   \n",
      "4    0.000000  0.000000  0.000000     0.000000            0.000000  0.000000   \n",
      "\n",
      "   ...  Biography     Crime  Self Help  Psychology  Mystery Thriller  \\\n",
      "0  ...   0.090643  0.088941   0.093019     0.08705          0.083071   \n",
      "1  ...   0.090643  0.088941   0.093019     0.08705          0.083071   \n",
      "2  ...   0.000000  0.000000   0.000000     0.00000          0.000000   \n",
      "3  ...   0.000000  0.000000   0.000000     0.00000          0.000000   \n",
      "4  ...   0.000000  0.000000   0.000000     0.00000          0.000000   \n",
      "\n",
      "     Memoir  Childrens     Humor  Suspense   Horror  \n",
      "0  0.073206   0.061736  0.073802  0.071857  0.05504  \n",
      "1  0.073206   0.061736  0.073802  0.071857  0.05504  \n",
      "2  0.000000   0.000000  0.000000  0.000000  0.00000  \n",
      "3  0.000000   0.000000  0.000000  0.000000  0.00000  \n",
      "4  0.000000   0.000000  0.000000  0.000000  0.00000  \n",
      "\n",
      "[5 rows x 27 columns]\n"
     ]
    }
   ],
   "source": [
    "print(genre_scores.head())"
   ]
  },
  {
   "cell_type": "code",
   "execution_count": 131,
   "metadata": {},
   "outputs": [
    {
     "name": "stdout",
     "output_type": "stream",
     "text": [
      "Scoring Fantasy\n",
      "Scoring Adult\n",
      "Scoring Historical\n",
      "Scoring Roman\n",
      "Scoring Romance\n",
      "Scoring Young Adult\n",
      "Scoring Historical Fiction\n",
      "Scoring Science\n",
      "Scoring Mystery\n",
      "Scoring Contemporary\n",
      "Scoring Thriller\n",
      "Scoring Science Fiction\n",
      "Scoring History\n",
      "Scoring Adventure\n",
      "Scoring Philosophy\n",
      "Scoring Biography\n",
      "Scoring Crime\n",
      "Scoring Self Help\n",
      "Scoring Psychology\n",
      "Scoring Mystery Thriller\n",
      "Scoring Memoir\n",
      "Scoring Childrens\n",
      "Scoring Humor\n",
      "Scoring Suspense\n",
      "Scoring Horror\n"
     ]
    }
   ],
   "source": [
    "# Score each plot for each genre\n",
    "for genre in genres:\n",
    "    print(f\"Scoring {genre}\")\n",
    "    genre_scores[genre] = genre_scores['Description'].apply(lambda x: score_genre(x, genre))"
   ]
  },
  {
   "cell_type": "code",
   "execution_count": 132,
   "metadata": {},
   "outputs": [],
   "source": [
    "# Save the dataframe to a CSV file\n",
    "genre_scores.to_csv('Datasets/goodreads_rnn_genre_scores.csv', index=False)"
   ]
  }
 ],
 "metadata": {
  "kernelspec": {
   "display_name": "base",
   "language": "python",
   "name": "python3"
  },
  "language_info": {
   "codemirror_mode": {
    "name": "ipython",
    "version": 3
   },
   "file_extension": ".py",
   "mimetype": "text/x-python",
   "name": "python",
   "nbconvert_exporter": "python",
   "pygments_lexer": "ipython3",
   "version": "3.10.14"
  }
 },
 "nbformat": 4,
 "nbformat_minor": 2
}
