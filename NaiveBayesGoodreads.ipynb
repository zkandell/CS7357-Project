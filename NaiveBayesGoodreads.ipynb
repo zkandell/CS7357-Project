{
 "cells": [
  {
   "cell_type": "code",
   "execution_count": 28,
   "metadata": {},
   "outputs": [],
   "source": [
    "# sklearn for various machine learning algorithms\n",
    "from sklearn.model_selection import train_test_split\n",
    "from sklearn.naive_bayes import MultinomialNB\n",
    "# CountVectorizer for converting text data into a matrix of token counts\n",
    "# Not the only way to do this, but a simple and common way\n",
    "from sklearn.feature_extraction.text import CountVectorizer\n",
    "\n",
    "# Pandas for working with dataframes (including the one already created by the data processing notebook)\n",
    "import pandas as pd"
   ]
  },
  {
   "cell_type": "code",
   "execution_count": 32,
   "metadata": {},
   "outputs": [
    {
     "name": "stdout",
     "output_type": "stream",
     "text": [
      "                                                Book  \\\n",
      "0                              To Kill a Mockingbird   \n",
      "1  Harry Potter and the Philosopher’s Stone (Harr...   \n",
      "2                                Pride and Prejudice   \n",
      "3                          The Diary of a Young Girl   \n",
      "4                                        Animal Farm   \n",
      "\n",
      "                                         Description  Fiction  Nonfiction  \\\n",
      "0  The unforgettable novel of a childhood in a sl...        1           0   \n",
      "1  Harry Potter thinks he is an ordinary boy - un...        1           0   \n",
      "2  Since its immediate success in 1813, Pride and...        1           0   \n",
      "3  Discovered in the attic in which she spent the...        0           1   \n",
      "4  Librarian's note: There is an Alternate Cover ...        1           0   \n",
      "\n",
      "   Fantasy  Adult  Classics  Historical  Roman  Literature  ...  Audiobook  \\\n",
      "0        0      1         1           1      0           1  ...          0   \n",
      "1        1      1         1           0      0           0  ...          0   \n",
      "2        0      0         1           1      1           1  ...          1   \n",
      "3        0      0         1           1      0           0  ...          0   \n",
      "4        1      0         1           0      0           1  ...          0   \n",
      "\n",
      "   Thriller  Science Fiction  History  Adventure  Philosophy  Biography  \\\n",
      "0         0                0        0          0           0          0   \n",
      "1         0                0        0          0           0          0   \n",
      "2         0                0        0          0           0          0   \n",
      "3         0                0        1          0           0          1   \n",
      "4         0                0        0          0           0          0   \n",
      "\n",
      "   Crime  Self Help  Psychology  \n",
      "0      0          0           0  \n",
      "1      0          0           0  \n",
      "2      0          0           0  \n",
      "3      0          0           0  \n",
      "4      0          0           0  \n",
      "\n",
      "[5 rows x 27 columns]\n",
      "(8469, 27)\n"
     ]
    }
   ],
   "source": [
    "# Load the data\n",
    "data = pd.read_csv('Datasets/goodreads_data_onehot_genres.csv')\n",
    "\n",
    "# Print the first few rows of the data\n",
    "print(data.head())\n",
    "# Print the shape of the data\n",
    "print(data.shape)"
   ]
  },
  {
   "cell_type": "code",
   "execution_count": 30,
   "metadata": {},
   "outputs": [
    {
     "name": "stdout",
     "output_type": "stream",
     "text": [
      "Index(['Fiction', 'Nonfiction', 'Fantasy', 'Adult', 'Classics', 'Historical',\n",
      "       'Roman', 'Literature', 'Romance', 'Young Adult', 'Historical Fiction',\n",
      "       'Science', 'Mystery', 'Contemporary', 'Novels', 'Audiobook', 'Thriller',\n",
      "       'Science Fiction', 'History', 'Adventure', 'Philosophy', 'Biography',\n",
      "       'Crime', 'Self Help', 'Psychology'],\n",
      "      dtype='object')\n"
     ]
    }
   ],
   "source": [
    "# Get the list of genres from the columns of the dataframe\n",
    "genres = data.columns[2:]\n",
    "print(genres)"
   ]
  },
  {
   "cell_type": "code",
   "execution_count": 34,
   "metadata": {},
   "outputs": [],
   "source": [
    "# Split the data into training and testing sets\n",
    "X_train, X_test, y_train, y_test = train_test_split(data['Description'], data[genres], test_size=0.2, random_state=42)\n",
    "\n",
    "# Create a vectorizer to convert the text data into a matrix of token counts\n",
    "vectorizer = CountVectorizer()\n",
    "\n",
    "# Fit the vectorizer to the training data\n",
    "vectorizer.fit(X_train)\n",
    "\n",
    "# Transform the training and testing data\n",
    "X_train = vectorizer.transform(X_train)\n",
    "X_test = vectorizer.transform(X_test)"
   ]
  },
  {
   "cell_type": "code",
   "execution_count": 35,
   "metadata": {},
   "outputs": [],
   "source": [
    "# Function to train a Naive Bayes classifier for a given genre\n",
    "def train_genre_classifier(genre):\n",
    "    # Create a Naive Bayes classifier\n",
    "    classifier = MultinomialNB()\n",
    "    # Train the classifier on the training data\n",
    "    classifier.fit(X_train, y_train[genre])\n",
    "    return classifier"
   ]
  },
  {
   "cell_type": "code",
   "execution_count": 36,
   "metadata": {},
   "outputs": [
    {
     "name": "stdout",
     "output_type": "stream",
     "text": [
      "Index(['Fiction', 'Nonfiction', 'Fantasy', 'Adult', 'Classics', 'Historical',\n",
      "       'Roman', 'Literature', 'Romance', 'Young Adult', 'Historical Fiction',\n",
      "       'Science', 'Mystery', 'Contemporary', 'Novels', 'Audiobook', 'Thriller',\n",
      "       'Science Fiction', 'History', 'Adventure', 'Philosophy', 'Biography',\n",
      "       'Crime', 'Self Help', 'Psychology'],\n",
      "      dtype='object')\n"
     ]
    }
   ],
   "source": [
    "# Get the list of genres from the columns of the dataframe\n",
    "genres = data.columns[2:]\n",
    "print(genres)\n",
    "\n",
    "# Create a dictionary to store the classifiers for each genre\n",
    "classifiers = {}"
   ]
  },
  {
   "cell_type": "code",
   "execution_count": 37,
   "metadata": {},
   "outputs": [
    {
     "name": "stdout",
     "output_type": "stream",
     "text": [
      "Training classifier for Fiction\n",
      "Done training classifier for Fiction\n",
      "Training classifier for Nonfiction\n",
      "Done training classifier for Nonfiction\n",
      "Training classifier for Fantasy\n",
      "Done training classifier for Fantasy\n",
      "Training classifier for Adult\n",
      "Done training classifier for Adult\n",
      "Training classifier for Classics\n",
      "Done training classifier for Classics\n",
      "Training classifier for Historical\n",
      "Done training classifier for Historical\n",
      "Training classifier for Roman\n",
      "Done training classifier for Roman\n",
      "Training classifier for Literature\n",
      "Done training classifier for Literature\n",
      "Training classifier for Romance\n",
      "Done training classifier for Romance\n",
      "Training classifier for Young Adult\n",
      "Done training classifier for Young Adult\n",
      "Training classifier for Historical Fiction\n",
      "Done training classifier for Historical Fiction\n",
      "Training classifier for Science\n",
      "Done training classifier for Science\n",
      "Training classifier for Mystery\n",
      "Done training classifier for Mystery\n",
      "Training classifier for Contemporary\n",
      "Done training classifier for Contemporary\n",
      "Training classifier for Novels\n",
      "Done training classifier for Novels\n",
      "Training classifier for Audiobook\n",
      "Done training classifier for Audiobook\n",
      "Training classifier for Thriller\n",
      "Done training classifier for Thriller\n",
      "Training classifier for Science Fiction\n",
      "Done training classifier for Science Fiction\n",
      "Training classifier for History\n",
      "Done training classifier for History\n",
      "Training classifier for Adventure\n",
      "Done training classifier for Adventure\n",
      "Training classifier for Philosophy\n",
      "Done training classifier for Philosophy\n",
      "Training classifier for Biography\n",
      "Done training classifier for Biography\n",
      "Training classifier for Crime\n",
      "Done training classifier for Crime\n",
      "Training classifier for Self Help\n",
      "Done training classifier for Self Help\n",
      "Training classifier for Psychology\n",
      "Done training classifier for Psychology\n"
     ]
    }
   ],
   "source": [
    "# Train a classifier for each genre\n",
    "# Check if the classifier is already trained\n",
    "for genre in genres:\n",
    "    if genre not in classifiers:\n",
    "        print('Training classifier for', genre)\n",
    "        classifiers[genre] = train_genre_classifier(genre)\n",
    "        print('Done training classifier for', genre)"
   ]
  },
  {
   "cell_type": "code",
   "execution_count": 38,
   "metadata": {},
   "outputs": [],
   "source": [
    "# Function to calculate the accurace, precision, recall, and F1 score of a classifier for a given genre\n",
    "def evaluate_classifier(classifier, genre):\n",
    "    # Get the predictions of the classifier\n",
    "    predictions = classifier.predict(X_test)\n",
    "    # Calculate the accuracy of the classifier\n",
    "    accuracy = classifier.score(X_test, y_test[genre])\n",
    "    # Calculate the precision, recall, and F1 score of the classifier\n",
    "    true_positives = (predictions == 1) & (y_test[genre] == 1)\n",
    "    false_positives = (predictions == 1) & (y_test[genre] == 0)\n",
    "    false_negatives = (predictions == 0) & (y_test[genre] == 1)\n",
    "    precision = true_positives.sum() / (true_positives.sum() + false_positives.sum())\n",
    "    recall = true_positives.sum() / (true_positives.sum() + false_negatives.sum())\n",
    "    f1 = 2 * precision * recall / (precision + recall)\n",
    "    # Create a dictionary to store the evaluation metrics\n",
    "    evaluation = {\n",
    "        'accuracy': accuracy,\n",
    "        'precision': precision,\n",
    "        'recall': recall,\n",
    "        'f1': f1\n",
    "    }\n",
    "    return evaluation"
   ]
  },
  {
   "cell_type": "code",
   "execution_count": 39,
   "metadata": {},
   "outputs": [
    {
     "name": "stdout",
     "output_type": "stream",
     "text": [
      "Evaluating classifier for Fiction\n",
      "Done evaluating classifier for Fiction\n",
      "Evaluating classifier for Nonfiction\n",
      "Done evaluating classifier for Nonfiction\n",
      "Evaluating classifier for Fantasy\n",
      "Done evaluating classifier for Fantasy\n",
      "Evaluating classifier for Adult\n",
      "Done evaluating classifier for Adult\n",
      "Evaluating classifier for Classics\n",
      "Done evaluating classifier for Classics\n",
      "Evaluating classifier for Historical\n",
      "Done evaluating classifier for Historical\n",
      "Evaluating classifier for Roman\n",
      "Done evaluating classifier for Roman\n",
      "Evaluating classifier for Literature\n",
      "Done evaluating classifier for Literature\n",
      "Evaluating classifier for Romance\n",
      "Done evaluating classifier for Romance\n",
      "Evaluating classifier for Young Adult\n",
      "Done evaluating classifier for Young Adult\n",
      "Evaluating classifier for Historical Fiction\n",
      "Done evaluating classifier for Historical Fiction\n",
      "Evaluating classifier for Science\n",
      "Done evaluating classifier for Science\n",
      "Evaluating classifier for Mystery\n",
      "Done evaluating classifier for Mystery\n",
      "Evaluating classifier for Contemporary\n",
      "Done evaluating classifier for Contemporary\n",
      "Evaluating classifier for Novels\n",
      "Done evaluating classifier for Novels\n",
      "Evaluating classifier for Audiobook\n",
      "Done evaluating classifier for Audiobook\n",
      "Evaluating classifier for Thriller\n",
      "Done evaluating classifier for Thriller\n",
      "Evaluating classifier for Science Fiction\n",
      "Done evaluating classifier for Science Fiction\n",
      "Evaluating classifier for History\n",
      "Done evaluating classifier for History\n",
      "Evaluating classifier for Adventure\n",
      "Done evaluating classifier for Adventure\n",
      "Evaluating classifier for Philosophy\n",
      "Done evaluating classifier for Philosophy\n",
      "Evaluating classifier for Biography\n",
      "Done evaluating classifier for Biography\n",
      "Evaluating classifier for Crime\n",
      "Done evaluating classifier for Crime\n",
      "Evaluating classifier for Self Help\n",
      "Done evaluating classifier for Self Help\n",
      "Evaluating classifier for Psychology\n",
      "Done evaluating classifier for Psychology\n"
     ]
    }
   ],
   "source": [
    "# Create a dictionary to store the evaluation metrics for each genre\n",
    "evaluations = {}\n",
    "for genre in genres:\n",
    "    print('Evaluating classifier for', genre)\n",
    "    evaluations[genre] = evaluate_classifier(classifiers[genre], genre)\n",
    "    print('Done evaluating classifier for', genre)"
   ]
  },
  {
   "cell_type": "code",
   "execution_count": 40,
   "metadata": {},
   "outputs": [
    {
     "name": "stdout",
     "output_type": "stream",
     "text": [
      "Fiction\n",
      "{'accuracy': 0.8482880755608029, 'precision': 0.8505392912172574, 'recall': 0.9460154241645244, 'f1': 0.895740365111562}\n",
      "Nonfiction\n",
      "{'accuracy': 0.9096812278630461, 'precision': 0.8524590163934426, 'recall': 0.7591240875912408, 'f1': 0.803088803088803}\n",
      "Fantasy\n",
      "{'accuracy': 0.8636363636363636, 'precision': 0.7868421052631579, 'recall': 0.6659242761692651, 'f1': 0.721351025331725}\n",
      "Adult\n",
      "{'accuracy': 0.8057851239669421, 'precision': 0.6328600405679513, 'recall': 0.6782608695652174, 'f1': 0.6547743966421826}\n",
      "Classics\n",
      "{'accuracy': 0.8258559622195986, 'precision': 0.7185185185185186, 'recall': 0.46973365617433416, 'f1': 0.568081991215227}\n",
      "Historical\n",
      "{'accuracy': 0.8476977567886659, 'precision': 0.6633663366336634, 'recall': 0.41358024691358025, 'f1': 0.5095057034220533}\n",
      "Roman\n",
      "{'accuracy': 0.8689492325855962, 'precision': 0.6506024096385542, 'recall': 0.5454545454545454, 'f1': 0.5934065934065933}\n",
      "Literature\n",
      "{'accuracy': 0.8435655253837072, 'precision': 0.7054794520547946, 'recall': 0.3169230769230769, 'f1': 0.43736730360934184}\n",
      "Romance\n",
      "{'accuracy': 0.8772136953955135, 'precision': 0.6561264822134387, 'recall': 0.578397212543554, 'f1': 0.6148148148148149}\n",
      "Young Adult\n",
      "{'accuracy': 0.8766233766233766, 'precision': 0.7476190476190476, 'recall': 0.5015974440894568, 'f1': 0.6003824091778203}\n",
      "Historical Fiction\n",
      "{'accuracy': 0.8553719008264463, 'precision': 0.6625, 'recall': 0.3569023569023569, 'f1': 0.4638949671772429}\n",
      "Science\n",
      "{'accuracy': 0.8795749704840614, 'precision': 0.8613861386138614, 'recall': 0.3140794223826715, 'f1': 0.4603174603174604}\n",
      "Mystery\n",
      "{'accuracy': 0.8949232585596222, 'precision': 0.8397435897435898, 'recall': 0.4612676056338028, 'f1': 0.5954545454545455}\n",
      "Contemporary\n",
      "{'accuracy': 0.8600944510035419, 'precision': 0.5409836065573771, 'recall': 0.26720647773279355, 'f1': 0.3577235772357724}\n",
      "Novels\n",
      "{'accuracy': 0.8447461629279811, 'precision': 0.4084507042253521, 'recall': 0.116, 'f1': 0.18068535825545173}\n",
      "Audiobook\n",
      "{'accuracy': 0.8547815820543093, 'precision': 0.71875, 'recall': 0.08846153846153847, 'f1': 0.15753424657534248}\n",
      "Thriller\n",
      "{'accuracy': 0.8996458087367178, 'precision': 0.875, 'recall': 0.34710743801652894, 'f1': 0.4970414201183432}\n",
      "Science Fiction\n",
      "{'accuracy': 0.898465171192444, 'precision': 0.8571428571428571, 'recall': 0.1782178217821782, 'f1': 0.2950819672131147}\n",
      "History\n",
      "{'accuracy': 0.9031877213695395, 'precision': 0.5806451612903226, 'recall': 0.3016759776536313, 'f1': 0.3970588235294118}\n",
      "Adventure\n",
      "{'accuracy': 0.9043683589138135, 'precision': 0.47619047619047616, 'recall': 0.062111801242236024, 'f1': 0.10989010989010989}\n",
      "Philosophy\n",
      "{'accuracy': 0.9173553719008265, 'precision': 0.5578947368421052, 'recall': 0.3509933774834437, 'f1': 0.43089430894308944}\n",
      "Biography\n",
      "{'accuracy': 0.897874852420307, 'precision': 0.14705882352941177, 'recall': 0.03355704697986577, 'f1': 0.0546448087431694}\n",
      "Crime\n",
      "{'accuracy': 0.9179456906729634, 'precision': 0.6530612244897959, 'recall': 0.2077922077922078, 'f1': 0.31527093596059114}\n",
      "Self Help\n",
      "{'accuracy': 0.9669421487603306, 'precision': 0.824, 'recall': 0.7518248175182481, 'f1': 0.7862595419847328}\n",
      "Psychology\n",
      "{'accuracy': 0.9427390791027155, 'precision': 0.631578947368421, 'recall': 0.5669291338582677, 'f1': 0.5975103734439833}\n"
     ]
    }
   ],
   "source": [
    "# Print the evaluation metrics for each genre\n",
    "for genre in genres:\n",
    "    print(genre)\n",
    "    print(evaluations[genre])"
   ]
  }
 ],
 "metadata": {
  "kernelspec": {
   "display_name": "base",
   "language": "python",
   "name": "python3"
  },
  "language_info": {
   "codemirror_mode": {
    "name": "ipython",
    "version": 3
   },
   "file_extension": ".py",
   "mimetype": "text/x-python",
   "name": "python",
   "nbconvert_exporter": "python",
   "pygments_lexer": "ipython3",
   "version": "3.10.14"
  }
 },
 "nbformat": 4,
 "nbformat_minor": 2
}
