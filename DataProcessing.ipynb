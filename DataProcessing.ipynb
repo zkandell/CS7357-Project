{
 "cells": [
  {
   "cell_type": "markdown",
   "metadata": {},
   "source": [
    "Before running this, genres.zip needs to be unzipped to put genres.list in Datasets, and the plot.part files need to be unzipped to put plot.list in the Datasets folder. Once those files are present, then this can run properly. (Thanks to Github issues with very large files)"
   ]
  },
  {
   "cell_type": "code",
   "execution_count": 32,
   "metadata": {},
   "outputs": [],
   "source": [
    "import pandas as pd"
   ]
  },
  {
   "cell_type": "markdown",
   "metadata": {},
   "source": [
    "Let's get the genres.list file from the Datasets folder"
   ]
  },
  {
   "cell_type": "code",
   "execution_count": 33,
   "metadata": {},
   "outputs": [
    {
     "name": "stdout",
     "output_type": "stream",
     "text": [
      "(2658941, 2)\n",
      "                   Title        Genre\n",
      "0          !Next? (1994)  Documentary\n",
      "1       #1 Single (2006)   Reality-TV\n",
      "2  #15SecondScare (2015)       Horror\n",
      "3  #15SecondScare (2015)        Short\n",
      "4  #15SecondScare (2015)     Thriller\n"
     ]
    }
   ],
   "source": [
    "# Let's get the genres.list file from the Datasets folder\n",
    "# Each line has the name of the media and one genre\n",
    "# A single piece of media can have multiple genres, so the same media can appear multiple times\n",
    "# We'll deal with that later, for now let's just pull in the data\n",
    "# This has been edited from the original version to remove duplicated tab characters that were causing issues\n",
    "\n",
    "genredf = pd.read_csv('Datasets/genres.list', sep='\\t', encoding='latin1', header=None, names=['Title', 'Genre'])\n",
    "print(genredf.shape)\n",
    "print(genredf.head())"
   ]
  },
  {
   "cell_type": "code",
   "execution_count": 34,
   "metadata": {},
   "outputs": [
    {
     "name": "stdout",
     "output_type": "stream",
     "text": [
      "36\n",
      "['Documentary' 'Reality-TV' 'Horror' 'Short' 'Thriller' 'Drama' 'Crime'\n",
      " 'Comedy' 'Talk-Show' 'Musical' 'Romance' 'Family' 'Mystery' 'Action'\n",
      " 'News' 'Sport' 'Sci-Fi' 'Biography' 'Adventure' 'History' 'Music'\n",
      " 'Game-Show' 'War' 'Fantasy' 'Animation' 'Adult' 'Western' 'Reality-tv'\n",
      " 'Lifestyle' 'Sci-fi' 'Film-Noir' 'Hardcore' 'Sex' 'Experimental'\n",
      " 'Commercial' 'Erotica']\n",
      "1466038\n"
     ]
    }
   ],
   "source": [
    "# Let's see how many unique genres we have\n",
    "print(genredf['Genre'].nunique())\n",
    "\n",
    "# Put all the unique genres into a list\n",
    "genrelist = genredf['Genre'].unique()\n",
    "\n",
    "# Let's see what the list looks like\n",
    "print(genrelist)\n",
    "\n",
    "# And let's see how many unique titles we have\n",
    "print(genredf['Title'].nunique())\n",
    "\n",
    "# No, not going to print all the titles, that would be dumb"
   ]
  },
  {
   "cell_type": "code",
   "execution_count": 35,
   "metadata": {},
   "outputs": [
    {
     "name": "stdout",
     "output_type": "stream",
     "text": [
      "21165\n",
      "(2637776, 2)\n",
      "1451587\n"
     ]
    }
   ],
   "source": [
    "# If something is an episode of a TV show, it will have a section between {} in the title\n",
    "# We can use this to filter out the episodes\n",
    "# Let's see how many titles have this\n",
    "print(genredf['Title'].str.contains('{').sum())\n",
    "\n",
    "# Create a new dataframe that only contains titles that don't have a { in them\n",
    "moviegenredf = genredf[~genredf['Title'].str.contains('{')]\n",
    "print(moviegenredf.shape)\n",
    "# Let's see how many unique titles we have now\n",
    "print(moviegenredf['Title'].nunique())"
   ]
  },
  {
   "cell_type": "code",
   "execution_count": 36,
   "metadata": {},
   "outputs": [
    {
     "name": "stdout",
     "output_type": "stream",
     "text": [
      "(600698, 2)\n",
      "                                           Title  \\\n",
      "0                             #7DaysLater (2013)   \n",
      "1  #BlackLove (2015) {Bringing Sexy Back (#1.3)}   \n",
      "2     #BlackLove (2015) {Crash the Party (#1.9)}   \n",
      "3       #BlackLove (2015) {Like a Virgin (#1.4)}   \n",
      "4          #BlackLove (2015) {Maybe Baby (#1.8)}   \n",
      "\n",
      "                                                Plot  \n",
      "0  #7dayslater is an interactive comedy series fe...  \n",
      "1  This week, the five women work on getting what...  \n",
      "2  With just one week left in the workshops, the ...  \n",
      "3  All of the women are struggling with what make...  \n",
      "4  As the women focus on what commitment means to...  \n"
     ]
    }
   ],
   "source": [
    "# Get the plot.list file from the Datasets folder\n",
    "# Each line has the name of the media and a plot summary\n",
    "\n",
    "plotdf = pd.read_csv('Datasets/plot.list', sep='\\t', encoding='latin1', header=None, names=['Title', 'Plot'], on_bad_lines='skip')\n",
    "print(plotdf.shape)\n",
    "print(plotdf.head())"
   ]
  },
  {
   "cell_type": "code",
   "execution_count": 37,
   "metadata": {},
   "outputs": [
    {
     "name": "stdout",
     "output_type": "stream",
     "text": [
      "244469\n",
      "(356229, 2)\n"
     ]
    }
   ],
   "source": [
    "# If something is an episode of a TV show, it will have a section between {} in the title\n",
    "# We can use this to filter out the episodes\n",
    "# Let's see how many titles have this\n",
    "print(plotdf['Title'].str.contains('{').sum())\n",
    "\n",
    "# Create a new dataframe that only contains titles that don't have a { in them\n",
    "movieplotdf = plotdf[~plotdf['Title'].str.contains('{')]\n",
    "print(movieplotdf.shape)"
   ]
  },
  {
   "cell_type": "code",
   "execution_count": 38,
   "metadata": {},
   "outputs": [
    {
     "name": "stdout",
     "output_type": "stream",
     "text": [
      "(744545, 3)\n",
      "                Title   Genre  \\\n",
      "0  #7DaysLater (2013)  Comedy   \n",
      "1        #Cake (2015)  Comedy   \n",
      "2  #DaddyLeaks (????)  Comedy   \n",
      "3      #Elmira (2014)  Comedy   \n",
      "4        #Fuga (2016)  Action   \n",
      "\n",
      "                                                Plot  \n",
      "0  #7dayslater is an interactive comedy series fe...  \n",
      "1  #CAKE is a hour-long serial narrative comedy a...  \n",
      "2  The life of four close friends in their late t...  \n",
      "3  #Elmira follows the story of a bunch of strang...  \n",
      "4  Months after an apocalyptic event, a group of ...  \n",
      "344291\n"
     ]
    }
   ],
   "source": [
    "# Now, let's merge the two dataframes on the Title column so we have a single dataframe with the genre and plot\n",
    "# Any titles that are in one dataframe but not the other will be dropped\n",
    "mergedf = pd.merge(moviegenredf, movieplotdf, on='Title', how='inner')\n",
    "print(mergedf.shape)\n",
    "print(mergedf.head())\n",
    "\n",
    "# Let's see how many unique titles we have now\n",
    "print(mergedf['Title'].nunique())"
   ]
  },
  {
   "cell_type": "code",
   "execution_count": 39,
   "metadata": {},
   "outputs": [
    {
     "name": "stdout",
     "output_type": "stream",
     "text": [
      "['Comedy' 'Action' 'Drama' 'Horror' 'Family' 'Sci-Fi' 'Romance'\n",
      " 'Biography' 'Crime' 'Reality-TV' 'Talk-Show' 'Music' 'Game-Show'\n",
      " 'Adventure' 'War' 'Sport' 'Documentary' 'Animation' 'Fantasy' 'Mystery'\n",
      " 'Thriller' 'Short' 'History' 'News' 'Adult' 'Musical' 'Western'\n",
      " 'Lifestyle' 'Reality-tv' 'Film-Noir' 'Hardcore' 'Sex']\n"
     ]
    }
   ],
   "source": [
    "# A list of all the unique genres\n",
    "genrelist = mergedf['Genre'].unique()\n",
    "\n",
    "print(genrelist)"
   ]
  },
  {
   "cell_type": "code",
   "execution_count": 40,
   "metadata": {},
   "outputs": [
    {
     "name": "stdout",
     "output_type": "stream",
     "text": [
      "(344291, 34)\n",
      "                                    Title  \\\n",
      "0                             # (2012/II)   \n",
      "1                               #1 (2018)   \n",
      "2          #1 Cheerleader Camp (2010) (V)   \n",
      "3                 #1 Serial Killer (2013)   \n",
      "4  #1 at the Apocalypse Box Office (2015)   \n",
      "\n",
      "                                                Plot  Action  Adult  \\\n",
      "0  The night falls on the big city and a hooded f...       0      0   \n",
      "1  After reaching #1 at Mutual of New York and se...       0      0   \n",
      "2  When they're hired to work at a cheerleading c...       0      0   \n",
      "3  Years of seething rage against the racism he's...       0      0   \n",
      "4  Jules is, self declared, the most useless pers...       0      0   \n",
      "\n",
      "   Adventure  Animation  Biography  Comedy  Crime  Documentary  ...  \\\n",
      "0          0          1          0       0      0            0  ...   \n",
      "1          0          0          0       0      0            1  ...   \n",
      "2          0          0          0       1      0            0  ...   \n",
      "3          0          0          0       0      0            0  ...   \n",
      "4          0          0          0       1      0            0  ...   \n",
      "\n",
      "   Reality-tv  Romance  Sci-Fi  Sex  Short  Sport  Talk-Show  Thriller  War  \\\n",
      "0           0        0       0    0      1      0          0         0    0   \n",
      "1           0        0       0    0      0      0          0         0    0   \n",
      "2           0        0       0    0      0      0          0         0    0   \n",
      "3           0        0       0    0      0      0          0         0    0   \n",
      "4           0        0       1    0      1      0          0         0    0   \n",
      "\n",
      "   Western  \n",
      "0        0  \n",
      "1        0  \n",
      "2        0  \n",
      "3        0  \n",
      "4        0  \n",
      "\n",
      "[5 rows x 34 columns]\n"
     ]
    }
   ],
   "source": [
    "# That is the same as before, so we haven't lost any genres\n",
    "# So, here's the issue: some titles have multiple genres and are listed multiple times, but we don't want to lose any of the genres\n",
    "# So, instead of a single genre column, we'll create a column for each genre\n",
    "# If a title has that genre, the column will be 1, otherwise it will be 0 - one-hot encoding\n",
    "# A lot of columns, but that's fine\n",
    "\n",
    "# Create a new dataframe with the one-hot encoded genres\n",
    "onehotdf = pd.get_dummies(mergedf['Genre'])\n",
    "\n",
    "# Add the Title column back in\n",
    "onehotdf['Title'] = mergedf['Title']\n",
    "\n",
    "# Add the Plot column back in\n",
    "onehotdf['Plot'] = mergedf['Plot']\n",
    "\n",
    "# Reorder the columns so Title and Plot are first\n",
    "cols = onehotdf.columns.tolist()\n",
    "cols = cols[-2:] + cols[:-2]\n",
    "onehotdf = onehotdf[cols]\n",
    "\n",
    "# Combine any rows with the same title, adding the one-hot encoded genres together but keeping the title and plot\n",
    "# If any of the genres are greater than 1, set them to 1\n",
    "onehotdf = onehotdf.groupby('Title').sum().reset_index()\n",
    "\n",
    "print(onehotdf.shape)\n",
    "print(onehotdf.head())"
   ]
  },
  {
   "cell_type": "code",
   "execution_count": 41,
   "metadata": {},
   "outputs": [
    {
     "name": "stdout",
     "output_type": "stream",
     "text": [
      "344291\n",
      "344291\n",
      "232218\n",
      "112073\n",
      "33\n",
      "33\n"
     ]
    }
   ],
   "source": [
    "# Print the number of total rows in the dataframe\n",
    "print(onehotdf.shape[0])\n",
    "\n",
    "# Print the number of unique titles in the dataframe\n",
    "print(onehotdf['Title'].nunique())\n",
    "\n",
    "# Find the number of titles that have more than one genre\n",
    "print(onehotdf[onehotdf.columns[2:]].sum(axis=1).gt(1).sum())\n",
    "\n",
    "# Find the number of titles that have only one genre\n",
    "print(onehotdf[onehotdf.columns[2:]].sum(axis=1).eq(1).sum())\n",
    "\n",
    "# Merge together the 'Reality-TV' and 'Reality-tv' columns into a single column\n",
    "onehotdf['Reality-TV'] = onehotdf['Reality-TV'] + onehotdf['Reality-tv']\n",
    "\n",
    "# Drop the 'Reality-tv' column\n",
    "onehotdf.drop(columns=['Reality-tv'], inplace=True)\n",
    "\n",
    "# Identify any titles where the genre values are greater than 1\n",
    "# If any of the genres are greater than 1, set them to 1\n",
    "onehotdf[onehotdf.columns[2:]] = onehotdf[onehotdf.columns[2:]].clip(upper=1)\n",
    "\n",
    "# Print the number of columns in the dataframe\n",
    "print(onehotdf.shape[1])\n",
    "\n",
    "# If any columns have a sum of 0, remove them\n",
    "onehotdf = onehotdf.loc[:, (onehotdf != 0).any(axis=0)]\n",
    "\n",
    "# Print the number of columns in the dataframe\n",
    "print(onehotdf.shape[1])"
   ]
  },
  {
   "cell_type": "code",
   "execution_count": 42,
   "metadata": {},
   "outputs": [],
   "source": [
    "# Write the onehot dataframe to a CSV file\n",
    "onehotdf.to_csv('Datasets/onehotplotgenre.csv', index=False)"
   ]
  }
 ],
 "metadata": {
  "kernelspec": {
   "display_name": "base",
   "language": "python",
   "name": "python3"
  },
  "language_info": {
   "codemirror_mode": {
    "name": "ipython",
    "version": 3
   },
   "file_extension": ".py",
   "mimetype": "text/x-python",
   "name": "python",
   "nbconvert_exporter": "python",
   "pygments_lexer": "ipython3",
   "version": "3.10.14"
  }
 },
 "nbformat": 4,
 "nbformat_minor": 2
}
