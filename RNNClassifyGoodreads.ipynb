{
 "cells": [
  {
   "cell_type": "code",
   "execution_count": 57,
   "metadata": {},
   "outputs": [],
   "source": [
    "# Import PyTorch\n",
    "import torch\n",
    "# Get pandas for data manipulation\n",
    "import pandas as pd\n",
    "# Import nltk for text processing\n",
    "import nltk\n",
    "# Import os for file manipulation\n",
    "import os\n",
    "# Import train_test_split from sklearn\n",
    "from sklearn.model_selection import train_test_split\n",
    "# Import LabelEncoder from sklearn for encoding labels\n",
    "from sklearn.preprocessing import LabelEncoder"
   ]
  },
  {
   "cell_type": "code",
   "execution_count": 58,
   "metadata": {},
   "outputs": [],
   "source": [
    "# Set device to GPU if available\n",
    "device = torch.device('cuda' if torch.cuda.is_available() else 'cpu')"
   ]
  },
  {
   "cell_type": "code",
   "execution_count": 59,
   "metadata": {},
   "outputs": [
    {
     "name": "stdout",
     "output_type": "stream",
     "text": [
      "                                                Book  \\\n",
      "0                              To Kill a Mockingbird   \n",
      "1  Harry Potter and the Philosopher’s Stone (Harr...   \n",
      "2                                Pride and Prejudice   \n",
      "3                          The Diary of a Young Girl   \n",
      "4                                        Animal Farm   \n",
      "\n",
      "                                         Description  Fiction  Nonfiction  \\\n",
      "0  The unforgettable novel of a childhood in a sl...        1           0   \n",
      "1  Harry Potter thinks he is an ordinary boy - un...        1           0   \n",
      "2  Since its immediate success in 1813, Pride and...        1           0   \n",
      "3  Discovered in the attic in which she spent the...        0           1   \n",
      "4  Librarian's note: There is an Alternate Cover ...        1           0   \n",
      "\n",
      "   Fantasy  Adult  Classics  Historical  Roman  Literature  ...  Audiobook  \\\n",
      "0        0      1         1           1      0           1  ...          0   \n",
      "1        1      1         1           0      0           0  ...          0   \n",
      "2        0      0         1           1      1           1  ...          1   \n",
      "3        0      0         1           1      0           0  ...          0   \n",
      "4        1      0         1           0      0           1  ...          0   \n",
      "\n",
      "   Thriller  Science Fiction  History  Adventure  Philosophy  Biography  \\\n",
      "0         0                0        0          0           0          0   \n",
      "1         0                0        0          0           0          0   \n",
      "2         0                0        0          0           0          0   \n",
      "3         0                0        1          0           0          1   \n",
      "4         0                0        0          0           0          0   \n",
      "\n",
      "   Crime  Self Help  Psychology  \n",
      "0      0          0           0  \n",
      "1      0          0           0  \n",
      "2      0          0           0  \n",
      "3      0          0           0  \n",
      "4      0          0           0  \n",
      "\n",
      "[5 rows x 27 columns]\n",
      "(8469, 27)\n"
     ]
    }
   ],
   "source": [
    "# Load the data from Datasets/goodreads_data_onehot_genres.csv\n",
    "data = pd.read_csv('Datasets/goodreads_data_onehot_genres.csv')\n",
    "# Show the first few rows of the data\n",
    "print(data.head())\n",
    "print(data.shape)"
   ]
  },
  {
   "cell_type": "code",
   "execution_count": 60,
   "metadata": {},
   "outputs": [],
   "source": [
    "# Create a dataframe with the plot column tokenized and lowercased\n",
    "tokenizeddf = data.copy()\n",
    "tokenizeddf['Description'] = tokenizeddf['Description'].apply(lambda x: nltk.word_tokenize(x.lower()))"
   ]
  },
  {
   "cell_type": "code",
   "execution_count": 61,
   "metadata": {},
   "outputs": [
    {
     "name": "stdout",
     "output_type": "stream",
     "text": [
      "Number of unique words:  83267\n"
     ]
    }
   ],
   "source": [
    "# Get the length of the longest plot\n",
    "maxlen = tokenizeddf['Description'].apply(len).max()\n",
    "\n",
    "# Get the set of all words in the plot column\n",
    "wordset = set()\n",
    "for plot in tokenizeddf['Description']:\n",
    "    wordset.update(plot)\n",
    "# Get the number of unique words\n",
    "numwords = len(wordset)\n",
    "print(\"Number of unique words: \", numwords)\n",
    "\n",
    "# Create a dictionary that maps words to integers\n",
    "word2int = {word: i for i, word in enumerate(wordset)}\n",
    "\n",
    "# Function to convert a list of words to a list of integers\n",
    "def words2ints(words):\n",
    "    # Run through each word in the list\n",
    "    ints = []\n",
    "    for word in words:\n",
    "        # If the word is in the dictionary, add the integer to the list\n",
    "        if word in word2int:\n",
    "            ints.append(word2int[word])\n",
    "    return ints"
   ]
  },
  {
   "cell_type": "code",
   "execution_count": 62,
   "metadata": {},
   "outputs": [],
   "source": [
    "# Convert the Description column to a list of integers\n",
    "tokenizeddf['Description'] = tokenizeddf['Description'].apply(words2ints)\n",
    "\n",
    "# Pad the sequences to the maximum length\n",
    "def pad_description(description):\n",
    "    return description + [0] * (maxlen - len(description))\n",
    "\n",
    "tokenizeddf['Description'] = tokenizeddf['Description'].apply(pad_description)"
   ]
  },
  {
   "cell_type": "code",
   "execution_count": 63,
   "metadata": {},
   "outputs": [],
   "source": [
    "# Create a label encoder\n",
    "le = LabelEncoder()"
   ]
  },
  {
   "cell_type": "code",
   "execution_count": 64,
   "metadata": {},
   "outputs": [],
   "source": [
    "# Dataset class for genres\n",
    "class GenreDataset(torch.utils.data.Dataset):\n",
    "    def __init__(self, data, genre):\n",
    "        self.plot = data[\"Description\"].values\n",
    "        self.genre = data[genre].values\n",
    "\n",
    "    def __len__(self):\n",
    "        return len(self.plot)\n",
    "    \n",
    "    def __getitem__(self, i):\n",
    "        plot = self.plot[i]\n",
    "        genre = self.genre[i]\n",
    "        return torch.tensor(plot, dtype=torch.long), torch.tensor(genre, dtype=torch.float)\n",
    "    \n",
    "# Dataloader class for genres\n",
    "class GenreDataLoader(torch.utils.data.DataLoader):\n",
    "    def __init__(self, dataset, batch_size=32, shuffle=True):\n",
    "        super().__init__(dataset, batch_size=batch_size, shuffle=shuffle)\n",
    "\n",
    "# RNN class for genres\n",
    "# Create the RNN to classify the plots as action or not\n",
    "class GenreRNN(torch.nn.Module):\n",
    "    def __init__(self, vocab_size, embedding_dim, hidden_dim, output_size):\n",
    "        super(GenreRNN, self).__init__()\n",
    "        self.embedding = torch.nn.Embedding(vocab_size, embedding_dim)\n",
    "        self.rnn = torch.nn.RNN(embedding_dim, hidden_dim, batch_first=True)\n",
    "        self.fc = torch.nn.Linear(hidden_dim, output_size)\n",
    "        self.sigmoid = torch.nn.Sigmoid()\n",
    "        self.hidden_dim = hidden_dim\n",
    "    \n",
    "    def forward(self, x):\n",
    "        x = self.embedding(x)\n",
    "        h0 = torch.zeros(1, x.size(0), self.hidden_dim).to(x.device)\n",
    "        out, _ = self.rnn(x, h0)\n",
    "        out = self.fc(out[:, -1, :])        \n",
    "        return out"
   ]
  },
  {
   "cell_type": "code",
   "execution_count": 65,
   "metadata": {},
   "outputs": [],
   "source": [
    "# Function to train a model\n",
    "def train_genre_rnn(genre, epochs, embed, hidden, output):\n",
    "    genremodel = GenreRNN(numwords, embed, hidden, output)\n",
    "    # Extract the relevant columns from the dataframe\n",
    "    genredf = tokenizeddf[['Book', 'Description', genre]]\n",
    "    # Encode the genre column\n",
    "    genredf[genre] = le.fit_transform(genredf[genre])\n",
    "    # Train test split the data\n",
    "    # We won't use the test data in this function\n",
    "    genretrain, genretest = train_test_split(genredf, test_size=0.2, random_state=42)\n",
    "    # Create a GenreDataset object\n",
    "    genretraindataset = GenreDataset(genretrain, genre)\n",
    "    # Create a DataLoader\n",
    "    genretrainloader = GenreDataLoader(genretraindataset, batch_size=32, shuffle=True)\n",
    "\n",
    "    criterion = torch.nn.CrossEntropyLoss()\n",
    "    optimizer = torch.optim.Adam(genremodel.parameters(), lr=0.001)\n",
    "\n",
    "    # Set the device\n",
    "    device = torch.device(\"cuda\" if torch.cuda.is_available() else \"cpu\")\n",
    "\n",
    "    # Send the model to the device\n",
    "    genremodel.to(device)\n",
    "\n",
    "    # Train the model\n",
    "    num_epochs = epochs\n",
    "    for epoch in range(num_epochs):\n",
    "        epoch_loss = 0\n",
    "        genremodel.train()\n",
    "        for plots, genres in genretrainloader:\n",
    "            # Send the data to the device\n",
    "            plots = plots.to(device)\n",
    "            genres = genres.to(device)\n",
    "            outputs = genremodel(plots)\n",
    "            loss = criterion(outputs, genres.long())\n",
    "\n",
    "            optimizer.zero_grad()\n",
    "            loss.backward()\n",
    "            optimizer.step()\n",
    "\n",
    "            epoch_loss += loss.item()\n",
    "        print(f\"Epoch {epoch+1}/{num_epochs}, Loss: {loss.item()}\")\n",
    "\n",
    "    # Return the model\n",
    "    return genremodel"
   ]
  },
  {
   "cell_type": "code",
   "execution_count": 66,
   "metadata": {},
   "outputs": [],
   "source": [
    "# Save a model\n",
    "def save_model(model, genre):\n",
    "    if not os.path.exists(\"models/rnn\"):\n",
    "        os.makedirs(\"models/rnn\")\n",
    "    torch.save(model.state_dict(), f\"models/rnn/{genre}modelgoodreads.pth\")"
   ]
  },
  {
   "cell_type": "code",
   "execution_count": 67,
   "metadata": {},
   "outputs": [
    {
     "name": "stdout",
     "output_type": "stream",
     "text": [
      "Index(['Fiction', 'Nonfiction', 'Fantasy', 'Adult', 'Classics', 'Historical',\n",
      "       'Roman', 'Literature', 'Romance', 'Young Adult', 'Historical Fiction',\n",
      "       'Science', 'Mystery', 'Contemporary', 'Novels', 'Audiobook', 'Thriller',\n",
      "       'Science Fiction', 'History', 'Adventure', 'Philosophy', 'Biography',\n",
      "       'Crime', 'Self Help', 'Psychology'],\n",
      "      dtype='object')\n"
     ]
    }
   ],
   "source": [
    "# Get all the genres\n",
    "genres = data.columns[2:]\n",
    "print(genres)"
   ]
  },
  {
   "cell_type": "code",
   "execution_count": 68,
   "metadata": {},
   "outputs": [
    {
     "name": "stdout",
     "output_type": "stream",
     "text": [
      "Training model for Fiction\n"
     ]
    },
    {
     "name": "stderr",
     "output_type": "stream",
     "text": [
      "C:\\Users\\zkand\\AppData\\Local\\Temp\\ipykernel_48300\\449715828.py:7: SettingWithCopyWarning: \n",
      "A value is trying to be set on a copy of a slice from a DataFrame.\n",
      "Try using .loc[row_indexer,col_indexer] = value instead\n",
      "\n",
      "See the caveats in the documentation: https://pandas.pydata.org/pandas-docs/stable/user_guide/indexing.html#returning-a-view-versus-a-copy\n",
      "  genredf[genre] = le.fit_transform(genredf[genre])\n"
     ]
    },
    {
     "name": "stdout",
     "output_type": "stream",
     "text": [
      "Epoch 1/10, Loss: 0.5811673998832703\n",
      "Epoch 2/10, Loss: 0.6149108409881592\n",
      "Epoch 3/10, Loss: 0.7427389025688171\n",
      "Epoch 4/10, Loss: 0.7472535967826843\n",
      "Epoch 5/10, Loss: 0.5904498100280762\n",
      "Epoch 6/10, Loss: 0.6463415026664734\n",
      "Epoch 7/10, Loss: 0.711590051651001\n",
      "Epoch 8/10, Loss: 0.556352436542511\n",
      "Epoch 9/10, Loss: 0.6196823120117188\n",
      "Epoch 10/10, Loss: 0.5471309423446655\n",
      "Training model for Nonfiction\n"
     ]
    },
    {
     "name": "stderr",
     "output_type": "stream",
     "text": [
      "C:\\Users\\zkand\\AppData\\Local\\Temp\\ipykernel_48300\\449715828.py:7: SettingWithCopyWarning: \n",
      "A value is trying to be set on a copy of a slice from a DataFrame.\n",
      "Try using .loc[row_indexer,col_indexer] = value instead\n",
      "\n",
      "See the caveats in the documentation: https://pandas.pydata.org/pandas-docs/stable/user_guide/indexing.html#returning-a-view-versus-a-copy\n",
      "  genredf[genre] = le.fit_transform(genredf[genre])\n"
     ]
    },
    {
     "name": "stdout",
     "output_type": "stream",
     "text": [
      "Epoch 1/10, Loss: 0.7153573036193848\n",
      "Epoch 2/10, Loss: 0.523811936378479\n",
      "Epoch 3/10, Loss: 0.7292189598083496\n",
      "Epoch 4/10, Loss: 0.6164149045944214\n",
      "Epoch 5/10, Loss: 0.6169933080673218\n",
      "Epoch 6/10, Loss: 0.5301514267921448\n",
      "Epoch 7/10, Loss: 0.525027871131897\n",
      "Epoch 8/10, Loss: 0.473521888256073\n",
      "Epoch 9/10, Loss: 0.6822282671928406\n",
      "Epoch 10/10, Loss: 0.5750346183776855\n",
      "Training model for Fantasy\n"
     ]
    },
    {
     "name": "stderr",
     "output_type": "stream",
     "text": [
      "C:\\Users\\zkand\\AppData\\Local\\Temp\\ipykernel_48300\\449715828.py:7: SettingWithCopyWarning: \n",
      "A value is trying to be set on a copy of a slice from a DataFrame.\n",
      "Try using .loc[row_indexer,col_indexer] = value instead\n",
      "\n",
      "See the caveats in the documentation: https://pandas.pydata.org/pandas-docs/stable/user_guide/indexing.html#returning-a-view-versus-a-copy\n",
      "  genredf[genre] = le.fit_transform(genredf[genre])\n"
     ]
    },
    {
     "name": "stdout",
     "output_type": "stream",
     "text": [
      "Epoch 1/10, Loss: 0.5319236516952515\n",
      "Epoch 2/10, Loss: 0.5881352424621582\n",
      "Epoch 3/10, Loss: 0.5247480273246765\n",
      "Epoch 4/10, Loss: 0.5376967787742615\n",
      "Epoch 5/10, Loss: 0.343781441450119\n",
      "Epoch 6/10, Loss: 0.5786932706832886\n",
      "Epoch 7/10, Loss: 0.5433744788169861\n",
      "Epoch 8/10, Loss: 0.6641574501991272\n",
      "Epoch 9/10, Loss: 0.6203317046165466\n",
      "Epoch 10/10, Loss: 0.45549219846725464\n",
      "Training model for Adult\n"
     ]
    },
    {
     "name": "stderr",
     "output_type": "stream",
     "text": [
      "C:\\Users\\zkand\\AppData\\Local\\Temp\\ipykernel_48300\\449715828.py:7: SettingWithCopyWarning: \n",
      "A value is trying to be set on a copy of a slice from a DataFrame.\n",
      "Try using .loc[row_indexer,col_indexer] = value instead\n",
      "\n",
      "See the caveats in the documentation: https://pandas.pydata.org/pandas-docs/stable/user_guide/indexing.html#returning-a-view-versus-a-copy\n",
      "  genredf[genre] = le.fit_transform(genredf[genre])\n"
     ]
    },
    {
     "name": "stdout",
     "output_type": "stream",
     "text": [
      "Epoch 1/10, Loss: 0.46431484818458557\n",
      "Epoch 2/10, Loss: 0.6236187219619751\n",
      "Epoch 3/10, Loss: 0.6964054703712463\n",
      "Epoch 4/10, Loss: 0.6973980069160461\n",
      "Epoch 5/10, Loss: 0.6151685118675232\n",
      "Epoch 6/10, Loss: 0.42815664410591125\n",
      "Epoch 7/10, Loss: 0.6151887774467468\n",
      "Epoch 8/10, Loss: 0.800076425075531\n",
      "Epoch 9/10, Loss: 0.5862473845481873\n",
      "Epoch 10/10, Loss: 0.5512269735336304\n",
      "Training model for Classics\n"
     ]
    },
    {
     "name": "stderr",
     "output_type": "stream",
     "text": [
      "C:\\Users\\zkand\\AppData\\Local\\Temp\\ipykernel_48300\\449715828.py:7: SettingWithCopyWarning: \n",
      "A value is trying to be set on a copy of a slice from a DataFrame.\n",
      "Try using .loc[row_indexer,col_indexer] = value instead\n",
      "\n",
      "See the caveats in the documentation: https://pandas.pydata.org/pandas-docs/stable/user_guide/indexing.html#returning-a-view-versus-a-copy\n",
      "  genredf[genre] = le.fit_transform(genredf[genre])\n"
     ]
    },
    {
     "name": "stdout",
     "output_type": "stream",
     "text": [
      "Epoch 1/10, Loss: 0.7129296064376831\n",
      "Epoch 2/10, Loss: 0.5739978551864624\n",
      "Epoch 3/10, Loss: 0.4724239408969879\n",
      "Epoch 4/10, Loss: 0.7863049507141113\n",
      "Epoch 5/10, Loss: 0.6604352593421936\n",
      "Epoch 6/10, Loss: 0.7267174124717712\n",
      "Epoch 7/10, Loss: 0.5830719470977783\n",
      "Epoch 8/10, Loss: 0.4899440109729767\n",
      "Epoch 9/10, Loss: 0.6431561708450317\n",
      "Epoch 10/10, Loss: 0.5260992646217346\n",
      "Training model for Historical\n"
     ]
    },
    {
     "name": "stderr",
     "output_type": "stream",
     "text": [
      "C:\\Users\\zkand\\AppData\\Local\\Temp\\ipykernel_48300\\449715828.py:7: SettingWithCopyWarning: \n",
      "A value is trying to be set on a copy of a slice from a DataFrame.\n",
      "Try using .loc[row_indexer,col_indexer] = value instead\n",
      "\n",
      "See the caveats in the documentation: https://pandas.pydata.org/pandas-docs/stable/user_guide/indexing.html#returning-a-view-versus-a-copy\n",
      "  genredf[genre] = le.fit_transform(genredf[genre])\n"
     ]
    },
    {
     "name": "stdout",
     "output_type": "stream",
     "text": [
      "Epoch 1/10, Loss: 0.4638904631137848\n",
      "Epoch 2/10, Loss: 0.34241464734077454\n",
      "Epoch 3/10, Loss: 0.5289293527603149\n",
      "Epoch 4/10, Loss: 0.5749608278274536\n",
      "Epoch 5/10, Loss: 0.650684654712677\n",
      "Epoch 6/10, Loss: 0.46391379833221436\n",
      "Epoch 7/10, Loss: 0.28295618295669556\n",
      "Epoch 8/10, Loss: 0.5413981676101685\n",
      "Epoch 9/10, Loss: 0.4637724757194519\n",
      "Epoch 10/10, Loss: 0.28448715806007385\n",
      "Training model for Roman\n"
     ]
    },
    {
     "name": "stderr",
     "output_type": "stream",
     "text": [
      "C:\\Users\\zkand\\AppData\\Local\\Temp\\ipykernel_48300\\449715828.py:7: SettingWithCopyWarning: \n",
      "A value is trying to be set on a copy of a slice from a DataFrame.\n",
      "Try using .loc[row_indexer,col_indexer] = value instead\n",
      "\n",
      "See the caveats in the documentation: https://pandas.pydata.org/pandas-docs/stable/user_guide/indexing.html#returning-a-view-versus-a-copy\n",
      "  genredf[genre] = le.fit_transform(genredf[genre])\n"
     ]
    },
    {
     "name": "stdout",
     "output_type": "stream",
     "text": [
      "Epoch 1/10, Loss: 0.40064236521720886\n",
      "Epoch 2/10, Loss: 0.5372135043144226\n",
      "Epoch 3/10, Loss: 0.5285096168518066\n",
      "Epoch 4/10, Loss: 0.5922372341156006\n",
      "Epoch 5/10, Loss: 0.4234701097011566\n",
      "Epoch 6/10, Loss: 0.42577213048934937\n",
      "Epoch 7/10, Loss: 0.4622529447078705\n",
      "Epoch 8/10, Loss: 0.5275209546089172\n",
      "Epoch 9/10, Loss: 0.62665855884552\n",
      "Epoch 10/10, Loss: 0.6846196055412292\n",
      "Training model for Literature\n"
     ]
    },
    {
     "name": "stderr",
     "output_type": "stream",
     "text": [
      "C:\\Users\\zkand\\AppData\\Local\\Temp\\ipykernel_48300\\449715828.py:7: SettingWithCopyWarning: \n",
      "A value is trying to be set on a copy of a slice from a DataFrame.\n",
      "Try using .loc[row_indexer,col_indexer] = value instead\n",
      "\n",
      "See the caveats in the documentation: https://pandas.pydata.org/pandas-docs/stable/user_guide/indexing.html#returning-a-view-versus-a-copy\n",
      "  genredf[genre] = le.fit_transform(genredf[genre])\n"
     ]
    },
    {
     "name": "stdout",
     "output_type": "stream",
     "text": [
      "Epoch 1/10, Loss: 0.5990660190582275\n",
      "Epoch 2/10, Loss: 0.4038030505180359\n",
      "Epoch 3/10, Loss: 0.46740835905075073\n",
      "Epoch 4/10, Loss: 0.7288740277290344\n",
      "Epoch 5/10, Loss: 0.6962839365005493\n",
      "Epoch 6/10, Loss: 0.4631202816963196\n",
      "Epoch 7/10, Loss: 0.46487483382225037\n",
      "Epoch 8/10, Loss: 0.6561890244483948\n",
      "Epoch 9/10, Loss: 0.7732166647911072\n",
      "Epoch 10/10, Loss: 0.6746751666069031\n",
      "Training model for Romance\n"
     ]
    },
    {
     "name": "stderr",
     "output_type": "stream",
     "text": [
      "C:\\Users\\zkand\\AppData\\Local\\Temp\\ipykernel_48300\\449715828.py:7: SettingWithCopyWarning: \n",
      "A value is trying to be set on a copy of a slice from a DataFrame.\n",
      "Try using .loc[row_indexer,col_indexer] = value instead\n",
      "\n",
      "See the caveats in the documentation: https://pandas.pydata.org/pandas-docs/stable/user_guide/indexing.html#returning-a-view-versus-a-copy\n",
      "  genredf[genre] = le.fit_transform(genredf[genre])\n"
     ]
    },
    {
     "name": "stdout",
     "output_type": "stream",
     "text": [
      "Epoch 1/10, Loss: 0.46986284852027893\n",
      "Epoch 2/10, Loss: 0.4745616614818573\n",
      "Epoch 3/10, Loss: 0.4621402621269226\n",
      "Epoch 4/10, Loss: 0.5822260975837708\n",
      "Epoch 5/10, Loss: 0.4243162274360657\n",
      "Epoch 6/10, Loss: 0.34603410959243774\n",
      "Epoch 7/10, Loss: 0.531764805316925\n",
      "Epoch 8/10, Loss: 0.46253588795661926\n",
      "Epoch 9/10, Loss: 0.5256127119064331\n",
      "Epoch 10/10, Loss: 0.7046588659286499\n",
      "Training model for Young Adult\n"
     ]
    },
    {
     "name": "stderr",
     "output_type": "stream",
     "text": [
      "C:\\Users\\zkand\\AppData\\Local\\Temp\\ipykernel_48300\\449715828.py:7: SettingWithCopyWarning: \n",
      "A value is trying to be set on a copy of a slice from a DataFrame.\n",
      "Try using .loc[row_indexer,col_indexer] = value instead\n",
      "\n",
      "See the caveats in the documentation: https://pandas.pydata.org/pandas-docs/stable/user_guide/indexing.html#returning-a-view-versus-a-copy\n",
      "  genredf[genre] = le.fit_transform(genredf[genre])\n"
     ]
    },
    {
     "name": "stdout",
     "output_type": "stream",
     "text": [
      "Epoch 1/10, Loss: 0.3941115140914917\n",
      "Epoch 2/10, Loss: 0.46212077140808105\n",
      "Epoch 3/10, Loss: 0.6118588447570801\n",
      "Epoch 4/10, Loss: 0.39754223823547363\n",
      "Epoch 5/10, Loss: 0.4632491171360016\n",
      "Epoch 6/10, Loss: 0.39722493290901184\n",
      "Epoch 7/10, Loss: 0.46203699707984924\n",
      "Epoch 8/10, Loss: 0.525845468044281\n",
      "Epoch 9/10, Loss: 0.5237642526626587\n",
      "Epoch 10/10, Loss: 0.40204355120658875\n",
      "Training model for Historical Fiction\n"
     ]
    },
    {
     "name": "stderr",
     "output_type": "stream",
     "text": [
      "C:\\Users\\zkand\\AppData\\Local\\Temp\\ipykernel_48300\\449715828.py:7: SettingWithCopyWarning: \n",
      "A value is trying to be set on a copy of a slice from a DataFrame.\n",
      "Try using .loc[row_indexer,col_indexer] = value instead\n",
      "\n",
      "See the caveats in the documentation: https://pandas.pydata.org/pandas-docs/stable/user_guide/indexing.html#returning-a-view-versus-a-copy\n",
      "  genredf[genre] = le.fit_transform(genredf[genre])\n"
     ]
    },
    {
     "name": "stdout",
     "output_type": "stream",
     "text": [
      "Epoch 1/10, Loss: 0.4667236804962158\n",
      "Epoch 2/10, Loss: 0.4622923731803894\n",
      "Epoch 3/10, Loss: 0.39318034052848816\n",
      "Epoch 4/10, Loss: 0.46204739809036255\n",
      "Epoch 5/10, Loss: 0.4010013937950134\n",
      "Epoch 6/10, Loss: 0.46436551213264465\n",
      "Epoch 7/10, Loss: 0.46231162548065186\n",
      "Epoch 8/10, Loss: 0.30741509795188904\n",
      "Epoch 9/10, Loss: 0.577991783618927\n",
      "Epoch 10/10, Loss: 0.464781790971756\n",
      "Training model for Science\n"
     ]
    },
    {
     "name": "stderr",
     "output_type": "stream",
     "text": [
      "C:\\Users\\zkand\\AppData\\Local\\Temp\\ipykernel_48300\\449715828.py:7: SettingWithCopyWarning: \n",
      "A value is trying to be set on a copy of a slice from a DataFrame.\n",
      "Try using .loc[row_indexer,col_indexer] = value instead\n",
      "\n",
      "See the caveats in the documentation: https://pandas.pydata.org/pandas-docs/stable/user_guide/indexing.html#returning-a-view-versus-a-copy\n",
      "  genredf[genre] = le.fit_transform(genredf[genre])\n"
     ]
    },
    {
     "name": "stdout",
     "output_type": "stream",
     "text": [
      "Epoch 1/10, Loss: 0.539563775062561\n",
      "Epoch 2/10, Loss: 0.39638710021972656\n",
      "Epoch 3/10, Loss: 0.5380809903144836\n",
      "Epoch 4/10, Loss: 0.39610764384269714\n",
      "Epoch 5/10, Loss: 0.39953771233558655\n",
      "Epoch 6/10, Loss: 0.3909679055213928\n",
      "Epoch 7/10, Loss: 0.6328111290931702\n",
      "Epoch 8/10, Loss: 0.5475412607192993\n",
      "Epoch 9/10, Loss: 0.463397353887558\n",
      "Epoch 10/10, Loss: 0.39892566204071045\n",
      "Training model for Mystery\n"
     ]
    },
    {
     "name": "stderr",
     "output_type": "stream",
     "text": [
      "C:\\Users\\zkand\\AppData\\Local\\Temp\\ipykernel_48300\\449715828.py:7: SettingWithCopyWarning: \n",
      "A value is trying to be set on a copy of a slice from a DataFrame.\n",
      "Try using .loc[row_indexer,col_indexer] = value instead\n",
      "\n",
      "See the caveats in the documentation: https://pandas.pydata.org/pandas-docs/stable/user_guide/indexing.html#returning-a-view-versus-a-copy\n",
      "  genredf[genre] = le.fit_transform(genredf[genre])\n"
     ]
    },
    {
     "name": "stdout",
     "output_type": "stream",
     "text": [
      "Epoch 1/10, Loss: 0.46507540345191956\n",
      "Epoch 2/10, Loss: 0.2183750569820404\n",
      "Epoch 3/10, Loss: 0.4642665982246399\n",
      "Epoch 4/10, Loss: 0.38783496618270874\n",
      "Epoch 5/10, Loss: 0.6423743963241577\n",
      "Epoch 6/10, Loss: 0.5255969762802124\n",
      "Epoch 7/10, Loss: 0.5955123901367188\n",
      "Epoch 8/10, Loss: 0.46241721510887146\n",
      "Epoch 9/10, Loss: 0.39650672674179077\n",
      "Epoch 10/10, Loss: 0.4626135230064392\n",
      "Training model for Contemporary\n"
     ]
    },
    {
     "name": "stderr",
     "output_type": "stream",
     "text": [
      "C:\\Users\\zkand\\AppData\\Local\\Temp\\ipykernel_48300\\449715828.py:7: SettingWithCopyWarning: \n",
      "A value is trying to be set on a copy of a slice from a DataFrame.\n",
      "Try using .loc[row_indexer,col_indexer] = value instead\n",
      "\n",
      "See the caveats in the documentation: https://pandas.pydata.org/pandas-docs/stable/user_guide/indexing.html#returning-a-view-versus-a-copy\n",
      "  genredf[genre] = le.fit_transform(genredf[genre])\n"
     ]
    },
    {
     "name": "stdout",
     "output_type": "stream",
     "text": [
      "Epoch 1/10, Loss: 0.589992344379425\n",
      "Epoch 2/10, Loss: 0.305400550365448\n",
      "Epoch 3/10, Loss: 0.3901953101158142\n",
      "Epoch 4/10, Loss: 0.7219871282577515\n",
      "Epoch 5/10, Loss: 0.2428559809923172\n",
      "Epoch 6/10, Loss: 0.46643131971359253\n",
      "Epoch 7/10, Loss: 0.19528748095035553\n",
      "Epoch 8/10, Loss: 0.389587938785553\n",
      "Epoch 9/10, Loss: 0.6002389788627625\n",
      "Epoch 10/10, Loss: 0.23789891600608826\n",
      "Training model for Novels\n"
     ]
    },
    {
     "name": "stderr",
     "output_type": "stream",
     "text": [
      "C:\\Users\\zkand\\AppData\\Local\\Temp\\ipykernel_48300\\449715828.py:7: SettingWithCopyWarning: \n",
      "A value is trying to be set on a copy of a slice from a DataFrame.\n",
      "Try using .loc[row_indexer,col_indexer] = value instead\n",
      "\n",
      "See the caveats in the documentation: https://pandas.pydata.org/pandas-docs/stable/user_guide/indexing.html#returning-a-view-versus-a-copy\n",
      "  genredf[genre] = le.fit_transform(genredf[genre])\n"
     ]
    },
    {
     "name": "stdout",
     "output_type": "stream",
     "text": [
      "Epoch 1/10, Loss: 0.31014859676361084\n",
      "Epoch 2/10, Loss: 0.21470578014850616\n",
      "Epoch 3/10, Loss: 0.38789311051368713\n",
      "Epoch 4/10, Loss: 0.39506953954696655\n",
      "Epoch 5/10, Loss: 0.3129497468471527\n",
      "Epoch 6/10, Loss: 0.390417218208313\n",
      "Epoch 7/10, Loss: 0.32773828506469727\n",
      "Epoch 8/10, Loss: 0.3886682987213135\n",
      "Epoch 9/10, Loss: 0.21139337122440338\n",
      "Epoch 10/10, Loss: 0.26874732971191406\n",
      "Training model for Audiobook\n"
     ]
    },
    {
     "name": "stderr",
     "output_type": "stream",
     "text": [
      "C:\\Users\\zkand\\AppData\\Local\\Temp\\ipykernel_48300\\449715828.py:7: SettingWithCopyWarning: \n",
      "A value is trying to be set on a copy of a slice from a DataFrame.\n",
      "Try using .loc[row_indexer,col_indexer] = value instead\n",
      "\n",
      "See the caveats in the documentation: https://pandas.pydata.org/pandas-docs/stable/user_guide/indexing.html#returning-a-view-versus-a-copy\n",
      "  genredf[genre] = le.fit_transform(genredf[genre])\n"
     ]
    },
    {
     "name": "stdout",
     "output_type": "stream",
     "text": [
      "Epoch 1/10, Loss: 0.5501933693885803\n",
      "Epoch 2/10, Loss: 0.30650585889816284\n",
      "Epoch 3/10, Loss: 0.5504992604255676\n",
      "Epoch 4/10, Loss: 0.5655574798583984\n",
      "Epoch 5/10, Loss: 0.4633801579475403\n",
      "Epoch 6/10, Loss: 0.3880937695503235\n",
      "Epoch 7/10, Loss: 0.4703161120414734\n",
      "Epoch 8/10, Loss: 0.24392497539520264\n",
      "Epoch 9/10, Loss: 0.2494899034500122\n",
      "Epoch 10/10, Loss: 0.38739320635795593\n",
      "Training model for Thriller\n"
     ]
    },
    {
     "name": "stderr",
     "output_type": "stream",
     "text": [
      "C:\\Users\\zkand\\AppData\\Local\\Temp\\ipykernel_48300\\449715828.py:7: SettingWithCopyWarning: \n",
      "A value is trying to be set on a copy of a slice from a DataFrame.\n",
      "Try using .loc[row_indexer,col_indexer] = value instead\n",
      "\n",
      "See the caveats in the documentation: https://pandas.pydata.org/pandas-docs/stable/user_guide/indexing.html#returning-a-view-versus-a-copy\n",
      "  genredf[genre] = le.fit_transform(genredf[genre])\n"
     ]
    },
    {
     "name": "stdout",
     "output_type": "stream",
     "text": [
      "Epoch 1/10, Loss: 0.38735684752464294\n",
      "Epoch 2/10, Loss: 0.3116750419139862\n",
      "Epoch 3/10, Loss: 0.5645803213119507\n",
      "Epoch 4/10, Loss: 0.3873264789581299\n",
      "Epoch 5/10, Loss: 0.4821839928627014\n",
      "Epoch 6/10, Loss: 0.47854161262512207\n",
      "Epoch 7/10, Loss: 0.8731848001480103\n",
      "Epoch 8/10, Loss: 0.5416310429573059\n",
      "Epoch 9/10, Loss: 0.3060191571712494\n",
      "Epoch 10/10, Loss: 0.30677881836891174\n",
      "Training model for Science Fiction\n"
     ]
    },
    {
     "name": "stderr",
     "output_type": "stream",
     "text": [
      "C:\\Users\\zkand\\AppData\\Local\\Temp\\ipykernel_48300\\449715828.py:7: SettingWithCopyWarning: \n",
      "A value is trying to be set on a copy of a slice from a DataFrame.\n",
      "Try using .loc[row_indexer,col_indexer] = value instead\n",
      "\n",
      "See the caveats in the documentation: https://pandas.pydata.org/pandas-docs/stable/user_guide/indexing.html#returning-a-view-versus-a-copy\n",
      "  genredf[genre] = le.fit_transform(genredf[genre])\n"
     ]
    },
    {
     "name": "stdout",
     "output_type": "stream",
     "text": [
      "Epoch 1/10, Loss: 0.4815935790538788\n",
      "Epoch 2/10, Loss: 0.5697762966156006\n",
      "Epoch 3/10, Loss: 0.3981761038303375\n",
      "Epoch 4/10, Loss: 0.6527815461158752\n",
      "Epoch 5/10, Loss: 0.46462589502334595\n",
      "Epoch 6/10, Loss: 0.12585733830928802\n",
      "Epoch 7/10, Loss: 0.12658001482486725\n",
      "Epoch 8/10, Loss: 0.1327376514673233\n",
      "Epoch 9/10, Loss: 0.2963642477989197\n",
      "Epoch 10/10, Loss: 0.26536062359809875\n",
      "Training model for History\n"
     ]
    },
    {
     "name": "stderr",
     "output_type": "stream",
     "text": [
      "C:\\Users\\zkand\\AppData\\Local\\Temp\\ipykernel_48300\\449715828.py:7: SettingWithCopyWarning: \n",
      "A value is trying to be set on a copy of a slice from a DataFrame.\n",
      "Try using .loc[row_indexer,col_indexer] = value instead\n",
      "\n",
      "See the caveats in the documentation: https://pandas.pydata.org/pandas-docs/stable/user_guide/indexing.html#returning-a-view-versus-a-copy\n",
      "  genredf[genre] = le.fit_transform(genredf[genre])\n"
     ]
    },
    {
     "name": "stdout",
     "output_type": "stream",
     "text": [
      "Epoch 1/10, Loss: 0.39620164036750793\n",
      "Epoch 2/10, Loss: 0.3873351514339447\n",
      "Epoch 3/10, Loss: 0.3050714135169983\n",
      "Epoch 4/10, Loss: 0.47657838463783264\n",
      "Epoch 5/10, Loss: 0.2954410910606384\n",
      "Epoch 6/10, Loss: 0.30174216628074646\n",
      "Epoch 7/10, Loss: 0.1951168328523636\n",
      "Epoch 8/10, Loss: 0.10456773638725281\n",
      "Epoch 9/10, Loss: 0.20882584154605865\n",
      "Epoch 10/10, Loss: 0.3985051214694977\n",
      "Training model for Adventure\n"
     ]
    },
    {
     "name": "stderr",
     "output_type": "stream",
     "text": [
      "C:\\Users\\zkand\\AppData\\Local\\Temp\\ipykernel_48300\\449715828.py:7: SettingWithCopyWarning: \n",
      "A value is trying to be set on a copy of a slice from a DataFrame.\n",
      "Try using .loc[row_indexer,col_indexer] = value instead\n",
      "\n",
      "See the caveats in the documentation: https://pandas.pydata.org/pandas-docs/stable/user_guide/indexing.html#returning-a-view-versus-a-copy\n",
      "  genredf[genre] = le.fit_transform(genredf[genre])\n"
     ]
    },
    {
     "name": "stdout",
     "output_type": "stream",
     "text": [
      "Epoch 1/10, Loss: 0.2956039309501648\n",
      "Epoch 2/10, Loss: 0.18149933218955994\n",
      "Epoch 3/10, Loss: 0.3884679079055786\n",
      "Epoch 4/10, Loss: 0.42873457074165344\n",
      "Epoch 5/10, Loss: 0.19800910353660583\n",
      "Epoch 6/10, Loss: 0.2994796633720398\n",
      "Epoch 7/10, Loss: 0.12368037551641464\n",
      "Epoch 8/10, Loss: 0.3936085104942322\n",
      "Epoch 9/10, Loss: 0.2961726188659668\n",
      "Epoch 10/10, Loss: 0.19629134237766266\n",
      "Training model for Philosophy\n"
     ]
    },
    {
     "name": "stderr",
     "output_type": "stream",
     "text": [
      "C:\\Users\\zkand\\AppData\\Local\\Temp\\ipykernel_48300\\449715828.py:7: SettingWithCopyWarning: \n",
      "A value is trying to be set on a copy of a slice from a DataFrame.\n",
      "Try using .loc[row_indexer,col_indexer] = value instead\n",
      "\n",
      "See the caveats in the documentation: https://pandas.pydata.org/pandas-docs/stable/user_guide/indexing.html#returning-a-view-versus-a-copy\n",
      "  genredf[genre] = le.fit_transform(genredf[genre])\n"
     ]
    },
    {
     "name": "stdout",
     "output_type": "stream",
     "text": [
      "Epoch 1/10, Loss: 0.394802063703537\n",
      "Epoch 2/10, Loss: 0.1931035816669464\n",
      "Epoch 3/10, Loss: 0.5021136403083801\n",
      "Epoch 4/10, Loss: 0.39046943187713623\n",
      "Epoch 5/10, Loss: 0.39804205298423767\n",
      "Epoch 6/10, Loss: 0.0852210596203804\n",
      "Epoch 7/10, Loss: 0.3899667263031006\n",
      "Epoch 8/10, Loss: 0.39686551690101624\n",
      "Epoch 9/10, Loss: 0.2069048285484314\n",
      "Epoch 10/10, Loss: 0.39943793416023254\n",
      "Training model for Biography\n"
     ]
    },
    {
     "name": "stderr",
     "output_type": "stream",
     "text": [
      "C:\\Users\\zkand\\AppData\\Local\\Temp\\ipykernel_48300\\449715828.py:7: SettingWithCopyWarning: \n",
      "A value is trying to be set on a copy of a slice from a DataFrame.\n",
      "Try using .loc[row_indexer,col_indexer] = value instead\n",
      "\n",
      "See the caveats in the documentation: https://pandas.pydata.org/pandas-docs/stable/user_guide/indexing.html#returning-a-view-versus-a-copy\n",
      "  genredf[genre] = le.fit_transform(genredf[genre])\n"
     ]
    },
    {
     "name": "stdout",
     "output_type": "stream",
     "text": [
      "Epoch 1/10, Loss: 0.3911270797252655\n",
      "Epoch 2/10, Loss: 0.4023967683315277\n",
      "Epoch 3/10, Loss: 0.07214104384183884\n",
      "Epoch 4/10, Loss: 0.18236276507377625\n",
      "Epoch 5/10, Loss: 0.3880949020385742\n",
      "Epoch 6/10, Loss: 0.40126627683639526\n",
      "Epoch 7/10, Loss: 0.17910289764404297\n",
      "Epoch 8/10, Loss: 0.2954467535018921\n",
      "Epoch 9/10, Loss: 0.29687488079071045\n",
      "Epoch 10/10, Loss: 0.21963787078857422\n",
      "Training model for Crime\n"
     ]
    },
    {
     "name": "stderr",
     "output_type": "stream",
     "text": [
      "C:\\Users\\zkand\\AppData\\Local\\Temp\\ipykernel_48300\\449715828.py:7: SettingWithCopyWarning: \n",
      "A value is trying to be set on a copy of a slice from a DataFrame.\n",
      "Try using .loc[row_indexer,col_indexer] = value instead\n",
      "\n",
      "See the caveats in the documentation: https://pandas.pydata.org/pandas-docs/stable/user_guide/indexing.html#returning-a-view-versus-a-copy\n",
      "  genredf[genre] = le.fit_transform(genredf[genre])\n"
     ]
    },
    {
     "name": "stdout",
     "output_type": "stream",
     "text": [
      "Epoch 1/10, Loss: 0.19572974741458893\n",
      "Epoch 2/10, Loss: 0.07818961888551712\n",
      "Epoch 3/10, Loss: 0.389210045337677\n",
      "Epoch 4/10, Loss: 0.29707080125808716\n",
      "Epoch 5/10, Loss: 0.11028219014406204\n",
      "Epoch 6/10, Loss: 0.6707258224487305\n",
      "Epoch 7/10, Loss: 0.29551538825035095\n",
      "Epoch 8/10, Loss: 0.29714640974998474\n",
      "Epoch 9/10, Loss: 0.15451140701770782\n",
      "Epoch 10/10, Loss: 0.22032871842384338\n",
      "Training model for Self Help\n"
     ]
    },
    {
     "name": "stderr",
     "output_type": "stream",
     "text": [
      "C:\\Users\\zkand\\AppData\\Local\\Temp\\ipykernel_48300\\449715828.py:7: SettingWithCopyWarning: \n",
      "A value is trying to be set on a copy of a slice from a DataFrame.\n",
      "Try using .loc[row_indexer,col_indexer] = value instead\n",
      "\n",
      "See the caveats in the documentation: https://pandas.pydata.org/pandas-docs/stable/user_guide/indexing.html#returning-a-view-versus-a-copy\n",
      "  genredf[genre] = le.fit_transform(genredf[genre])\n"
     ]
    },
    {
     "name": "stdout",
     "output_type": "stream",
     "text": [
      "Epoch 1/10, Loss: 0.09086693823337555\n",
      "Epoch 2/10, Loss: 0.2956627905368805\n",
      "Epoch 3/10, Loss: 0.20036062598228455\n",
      "Epoch 4/10, Loss: 0.4056042432785034\n",
      "Epoch 5/10, Loss: 0.21339786052703857\n",
      "Epoch 6/10, Loss: 0.4038906395435333\n",
      "Epoch 7/10, Loss: 0.4101579189300537\n",
      "Epoch 8/10, Loss: 0.18395909667015076\n",
      "Epoch 9/10, Loss: 0.3919121325016022\n",
      "Epoch 10/10, Loss: 0.29845568537712097\n",
      "Training model for Psychology\n"
     ]
    },
    {
     "name": "stderr",
     "output_type": "stream",
     "text": [
      "C:\\Users\\zkand\\AppData\\Local\\Temp\\ipykernel_48300\\449715828.py:7: SettingWithCopyWarning: \n",
      "A value is trying to be set on a copy of a slice from a DataFrame.\n",
      "Try using .loc[row_indexer,col_indexer] = value instead\n",
      "\n",
      "See the caveats in the documentation: https://pandas.pydata.org/pandas-docs/stable/user_guide/indexing.html#returning-a-view-versus-a-copy\n",
      "  genredf[genre] = le.fit_transform(genredf[genre])\n"
     ]
    },
    {
     "name": "stdout",
     "output_type": "stream",
     "text": [
      "Epoch 1/10, Loss: 0.19425608217716217\n",
      "Epoch 2/10, Loss: 0.4821975827217102\n",
      "Epoch 3/10, Loss: 0.5617338418960571\n",
      "Epoch 4/10, Loss: 0.5152472257614136\n",
      "Epoch 5/10, Loss: 0.08311616629362106\n",
      "Epoch 6/10, Loss: 0.18667761981487274\n",
      "Epoch 7/10, Loss: 0.18424713611602783\n",
      "Epoch 8/10, Loss: 0.2955438494682312\n",
      "Epoch 9/10, Loss: 0.1929691582918167\n",
      "Epoch 10/10, Loss: 0.2956337630748749\n"
     ]
    }
   ],
   "source": [
    "# Train a model for every genre\n",
    "for genre in genres:\n",
    "    print(f\"Training model for {genre}\")\n",
    "    model = train_genre_rnn(genre, 10, 128, 128, 2)\n",
    "    save_model(model, genre)"
   ]
  },
  {
   "cell_type": "code",
   "execution_count": 74,
   "metadata": {},
   "outputs": [],
   "source": [
    "# Test the models\n",
    "# Returns the accuracy, precision, recall, and F1 score of the model on the test data\n",
    "def test_models(genres):\n",
    "    # Create a dictionary to store the metrics\n",
    "    results = {}\n",
    "    # Run through each genre\n",
    "    for genre in genres:\n",
    "        # Load the model from the file (if it exists)\n",
    "        if os.path.exists(f\"models/rnn/{genre}modelgoodreads.pth\"):\n",
    "            model = GenreRNN(numwords, 128, 128, 2)\n",
    "            model.load_state_dict(torch.load(f\"models/rnn/{genre}modelgoodreads.pth\"))\n",
    "            model.eval()\n",
    "            # Extract the relevant columns from the dataframe\n",
    "            genredf = tokenizeddf[['Book', 'Description', genre]]\n",
    "            # Encode the genre column\n",
    "            genredf[genre] = le.fit_transform(genredf[genre])\n",
    "            # Train test split the data\n",
    "            genretrain, genretest = train_test_split(genredf, test_size=0.3, random_state=42)\n",
    "            genretestdataset = GenreDataset(genretest, genre)\n",
    "            genretestloader = GenreDataLoader(genretestdataset, batch_size=32, shuffle=True)\n",
    "            # Set the device\n",
    "            device = torch.device(\"cuda\" if torch.cuda.is_available() else \"cpu\")\n",
    "            # Send the model to the device\n",
    "            model.to(device)\n",
    "            # Initialize the metrics\n",
    "            tp = 0\n",
    "            tn = 0\n",
    "            fp = 0\n",
    "            fn = 0\n",
    "            # Turn off gradients\n",
    "            with torch.no_grad():\n",
    "                for plots, genres in genretestloader:\n",
    "                    plots = plots.to(device)\n",
    "                    genres = genres.to(device)\n",
    "                    # Get the outputs\n",
    "                    outputs = model(plots)\n",
    "                    _, preds = torch.max(outputs, 1)\n",
    "                    # Increment the metrics\n",
    "                    newtp = torch.sum((preds == 1) & (genres == 1)).item()\n",
    "                    newtn = torch.sum((preds == 0) & (genres == 0)).item()\n",
    "                    newfp = torch.sum((preds == 1) & (genres == 0)).item()\n",
    "                    newfn = torch.sum((preds == 0) & (genres == 1)).item()\n",
    "                    tp += newtp\n",
    "                    tn += newtn\n",
    "                    fp += newfp\n",
    "                    fn += newfn\n",
    "            # Calculate the metrics\n",
    "            accuracy = (tp + tn) / (tp + tn + fp + fn)\n",
    "            precision = tp / (tp + fp) if tp + fp != 0 else 0\n",
    "            recall = tp / (tp + fn) if tp + fn != 0 else 0\n",
    "            f1 = 2 * precision * recall / (precision + recall) if precision + recall != 0 else 0                    \n",
    "            results[genre] = { \"Accuracy\": accuracy, \"Precision\": precision, \"Recall\": recall, \"F1\": f1 }\n",
    "    return results"
   ]
  },
  {
   "cell_type": "code",
   "execution_count": 75,
   "metadata": {},
   "outputs": [
    {
     "name": "stderr",
     "output_type": "stream",
     "text": [
      "C:\\Users\\zkand\\AppData\\Local\\Temp\\ipykernel_48300\\4076232601.py:16: SettingWithCopyWarning: \n",
      "A value is trying to be set on a copy of a slice from a DataFrame.\n",
      "Try using .loc[row_indexer,col_indexer] = value instead\n",
      "\n",
      "See the caveats in the documentation: https://pandas.pydata.org/pandas-docs/stable/user_guide/indexing.html#returning-a-view-versus-a-copy\n",
      "  genredf[genre] = le.fit_transform(genredf[genre])\n",
      "C:\\Users\\zkand\\AppData\\Local\\Temp\\ipykernel_48300\\4076232601.py:16: SettingWithCopyWarning: \n",
      "A value is trying to be set on a copy of a slice from a DataFrame.\n",
      "Try using .loc[row_indexer,col_indexer] = value instead\n",
      "\n",
      "See the caveats in the documentation: https://pandas.pydata.org/pandas-docs/stable/user_guide/indexing.html#returning-a-view-versus-a-copy\n",
      "  genredf[genre] = le.fit_transform(genredf[genre])\n",
      "C:\\Users\\zkand\\AppData\\Local\\Temp\\ipykernel_48300\\4076232601.py:16: SettingWithCopyWarning: \n",
      "A value is trying to be set on a copy of a slice from a DataFrame.\n",
      "Try using .loc[row_indexer,col_indexer] = value instead\n",
      "\n",
      "See the caveats in the documentation: https://pandas.pydata.org/pandas-docs/stable/user_guide/indexing.html#returning-a-view-versus-a-copy\n",
      "  genredf[genre] = le.fit_transform(genredf[genre])\n",
      "C:\\Users\\zkand\\AppData\\Local\\Temp\\ipykernel_48300\\4076232601.py:16: SettingWithCopyWarning: \n",
      "A value is trying to be set on a copy of a slice from a DataFrame.\n",
      "Try using .loc[row_indexer,col_indexer] = value instead\n",
      "\n",
      "See the caveats in the documentation: https://pandas.pydata.org/pandas-docs/stable/user_guide/indexing.html#returning-a-view-versus-a-copy\n",
      "  genredf[genre] = le.fit_transform(genredf[genre])\n",
      "C:\\Users\\zkand\\AppData\\Local\\Temp\\ipykernel_48300\\4076232601.py:16: SettingWithCopyWarning: \n",
      "A value is trying to be set on a copy of a slice from a DataFrame.\n",
      "Try using .loc[row_indexer,col_indexer] = value instead\n",
      "\n",
      "See the caveats in the documentation: https://pandas.pydata.org/pandas-docs/stable/user_guide/indexing.html#returning-a-view-versus-a-copy\n",
      "  genredf[genre] = le.fit_transform(genredf[genre])\n",
      "C:\\Users\\zkand\\AppData\\Local\\Temp\\ipykernel_48300\\4076232601.py:16: SettingWithCopyWarning: \n",
      "A value is trying to be set on a copy of a slice from a DataFrame.\n",
      "Try using .loc[row_indexer,col_indexer] = value instead\n",
      "\n",
      "See the caveats in the documentation: https://pandas.pydata.org/pandas-docs/stable/user_guide/indexing.html#returning-a-view-versus-a-copy\n",
      "  genredf[genre] = le.fit_transform(genredf[genre])\n",
      "C:\\Users\\zkand\\AppData\\Local\\Temp\\ipykernel_48300\\4076232601.py:16: SettingWithCopyWarning: \n",
      "A value is trying to be set on a copy of a slice from a DataFrame.\n",
      "Try using .loc[row_indexer,col_indexer] = value instead\n",
      "\n",
      "See the caveats in the documentation: https://pandas.pydata.org/pandas-docs/stable/user_guide/indexing.html#returning-a-view-versus-a-copy\n",
      "  genredf[genre] = le.fit_transform(genredf[genre])\n",
      "C:\\Users\\zkand\\AppData\\Local\\Temp\\ipykernel_48300\\4076232601.py:16: SettingWithCopyWarning: \n",
      "A value is trying to be set on a copy of a slice from a DataFrame.\n",
      "Try using .loc[row_indexer,col_indexer] = value instead\n",
      "\n",
      "See the caveats in the documentation: https://pandas.pydata.org/pandas-docs/stable/user_guide/indexing.html#returning-a-view-versus-a-copy\n",
      "  genredf[genre] = le.fit_transform(genredf[genre])\n",
      "C:\\Users\\zkand\\AppData\\Local\\Temp\\ipykernel_48300\\4076232601.py:16: SettingWithCopyWarning: \n",
      "A value is trying to be set on a copy of a slice from a DataFrame.\n",
      "Try using .loc[row_indexer,col_indexer] = value instead\n",
      "\n",
      "See the caveats in the documentation: https://pandas.pydata.org/pandas-docs/stable/user_guide/indexing.html#returning-a-view-versus-a-copy\n",
      "  genredf[genre] = le.fit_transform(genredf[genre])\n",
      "C:\\Users\\zkand\\AppData\\Local\\Temp\\ipykernel_48300\\4076232601.py:16: SettingWithCopyWarning: \n",
      "A value is trying to be set on a copy of a slice from a DataFrame.\n",
      "Try using .loc[row_indexer,col_indexer] = value instead\n",
      "\n",
      "See the caveats in the documentation: https://pandas.pydata.org/pandas-docs/stable/user_guide/indexing.html#returning-a-view-versus-a-copy\n",
      "  genredf[genre] = le.fit_transform(genredf[genre])\n",
      "C:\\Users\\zkand\\AppData\\Local\\Temp\\ipykernel_48300\\4076232601.py:16: SettingWithCopyWarning: \n",
      "A value is trying to be set on a copy of a slice from a DataFrame.\n",
      "Try using .loc[row_indexer,col_indexer] = value instead\n",
      "\n",
      "See the caveats in the documentation: https://pandas.pydata.org/pandas-docs/stable/user_guide/indexing.html#returning-a-view-versus-a-copy\n",
      "  genredf[genre] = le.fit_transform(genredf[genre])\n",
      "C:\\Users\\zkand\\AppData\\Local\\Temp\\ipykernel_48300\\4076232601.py:16: SettingWithCopyWarning: \n",
      "A value is trying to be set on a copy of a slice from a DataFrame.\n",
      "Try using .loc[row_indexer,col_indexer] = value instead\n",
      "\n",
      "See the caveats in the documentation: https://pandas.pydata.org/pandas-docs/stable/user_guide/indexing.html#returning-a-view-versus-a-copy\n",
      "  genredf[genre] = le.fit_transform(genredf[genre])\n",
      "C:\\Users\\zkand\\AppData\\Local\\Temp\\ipykernel_48300\\4076232601.py:16: SettingWithCopyWarning: \n",
      "A value is trying to be set on a copy of a slice from a DataFrame.\n",
      "Try using .loc[row_indexer,col_indexer] = value instead\n",
      "\n",
      "See the caveats in the documentation: https://pandas.pydata.org/pandas-docs/stable/user_guide/indexing.html#returning-a-view-versus-a-copy\n",
      "  genredf[genre] = le.fit_transform(genredf[genre])\n",
      "C:\\Users\\zkand\\AppData\\Local\\Temp\\ipykernel_48300\\4076232601.py:16: SettingWithCopyWarning: \n",
      "A value is trying to be set on a copy of a slice from a DataFrame.\n",
      "Try using .loc[row_indexer,col_indexer] = value instead\n",
      "\n",
      "See the caveats in the documentation: https://pandas.pydata.org/pandas-docs/stable/user_guide/indexing.html#returning-a-view-versus-a-copy\n",
      "  genredf[genre] = le.fit_transform(genredf[genre])\n",
      "C:\\Users\\zkand\\AppData\\Local\\Temp\\ipykernel_48300\\4076232601.py:16: SettingWithCopyWarning: \n",
      "A value is trying to be set on a copy of a slice from a DataFrame.\n",
      "Try using .loc[row_indexer,col_indexer] = value instead\n",
      "\n",
      "See the caveats in the documentation: https://pandas.pydata.org/pandas-docs/stable/user_guide/indexing.html#returning-a-view-versus-a-copy\n",
      "  genredf[genre] = le.fit_transform(genredf[genre])\n",
      "C:\\Users\\zkand\\AppData\\Local\\Temp\\ipykernel_48300\\4076232601.py:16: SettingWithCopyWarning: \n",
      "A value is trying to be set on a copy of a slice from a DataFrame.\n",
      "Try using .loc[row_indexer,col_indexer] = value instead\n",
      "\n",
      "See the caveats in the documentation: https://pandas.pydata.org/pandas-docs/stable/user_guide/indexing.html#returning-a-view-versus-a-copy\n",
      "  genredf[genre] = le.fit_transform(genredf[genre])\n",
      "C:\\Users\\zkand\\AppData\\Local\\Temp\\ipykernel_48300\\4076232601.py:16: SettingWithCopyWarning: \n",
      "A value is trying to be set on a copy of a slice from a DataFrame.\n",
      "Try using .loc[row_indexer,col_indexer] = value instead\n",
      "\n",
      "See the caveats in the documentation: https://pandas.pydata.org/pandas-docs/stable/user_guide/indexing.html#returning-a-view-versus-a-copy\n",
      "  genredf[genre] = le.fit_transform(genredf[genre])\n",
      "C:\\Users\\zkand\\AppData\\Local\\Temp\\ipykernel_48300\\4076232601.py:16: SettingWithCopyWarning: \n",
      "A value is trying to be set on a copy of a slice from a DataFrame.\n",
      "Try using .loc[row_indexer,col_indexer] = value instead\n",
      "\n",
      "See the caveats in the documentation: https://pandas.pydata.org/pandas-docs/stable/user_guide/indexing.html#returning-a-view-versus-a-copy\n",
      "  genredf[genre] = le.fit_transform(genredf[genre])\n",
      "C:\\Users\\zkand\\AppData\\Local\\Temp\\ipykernel_48300\\4076232601.py:16: SettingWithCopyWarning: \n",
      "A value is trying to be set on a copy of a slice from a DataFrame.\n",
      "Try using .loc[row_indexer,col_indexer] = value instead\n",
      "\n",
      "See the caveats in the documentation: https://pandas.pydata.org/pandas-docs/stable/user_guide/indexing.html#returning-a-view-versus-a-copy\n",
      "  genredf[genre] = le.fit_transform(genredf[genre])\n",
      "C:\\Users\\zkand\\AppData\\Local\\Temp\\ipykernel_48300\\4076232601.py:16: SettingWithCopyWarning: \n",
      "A value is trying to be set on a copy of a slice from a DataFrame.\n",
      "Try using .loc[row_indexer,col_indexer] = value instead\n",
      "\n",
      "See the caveats in the documentation: https://pandas.pydata.org/pandas-docs/stable/user_guide/indexing.html#returning-a-view-versus-a-copy\n",
      "  genredf[genre] = le.fit_transform(genredf[genre])\n",
      "C:\\Users\\zkand\\AppData\\Local\\Temp\\ipykernel_48300\\4076232601.py:16: SettingWithCopyWarning: \n",
      "A value is trying to be set on a copy of a slice from a DataFrame.\n",
      "Try using .loc[row_indexer,col_indexer] = value instead\n",
      "\n",
      "See the caveats in the documentation: https://pandas.pydata.org/pandas-docs/stable/user_guide/indexing.html#returning-a-view-versus-a-copy\n",
      "  genredf[genre] = le.fit_transform(genredf[genre])\n",
      "C:\\Users\\zkand\\AppData\\Local\\Temp\\ipykernel_48300\\4076232601.py:16: SettingWithCopyWarning: \n",
      "A value is trying to be set on a copy of a slice from a DataFrame.\n",
      "Try using .loc[row_indexer,col_indexer] = value instead\n",
      "\n",
      "See the caveats in the documentation: https://pandas.pydata.org/pandas-docs/stable/user_guide/indexing.html#returning-a-view-versus-a-copy\n",
      "  genredf[genre] = le.fit_transform(genredf[genre])\n",
      "C:\\Users\\zkand\\AppData\\Local\\Temp\\ipykernel_48300\\4076232601.py:16: SettingWithCopyWarning: \n",
      "A value is trying to be set on a copy of a slice from a DataFrame.\n",
      "Try using .loc[row_indexer,col_indexer] = value instead\n",
      "\n",
      "See the caveats in the documentation: https://pandas.pydata.org/pandas-docs/stable/user_guide/indexing.html#returning-a-view-versus-a-copy\n",
      "  genredf[genre] = le.fit_transform(genredf[genre])\n",
      "C:\\Users\\zkand\\AppData\\Local\\Temp\\ipykernel_48300\\4076232601.py:16: SettingWithCopyWarning: \n",
      "A value is trying to be set on a copy of a slice from a DataFrame.\n",
      "Try using .loc[row_indexer,col_indexer] = value instead\n",
      "\n",
      "See the caveats in the documentation: https://pandas.pydata.org/pandas-docs/stable/user_guide/indexing.html#returning-a-view-versus-a-copy\n",
      "  genredf[genre] = le.fit_transform(genredf[genre])\n",
      "C:\\Users\\zkand\\AppData\\Local\\Temp\\ipykernel_48300\\4076232601.py:16: SettingWithCopyWarning: \n",
      "A value is trying to be set on a copy of a slice from a DataFrame.\n",
      "Try using .loc[row_indexer,col_indexer] = value instead\n",
      "\n",
      "See the caveats in the documentation: https://pandas.pydata.org/pandas-docs/stable/user_guide/indexing.html#returning-a-view-versus-a-copy\n",
      "  genredf[genre] = le.fit_transform(genredf[genre])\n"
     ]
    }
   ],
   "source": [
    "# Write the results to a file\n",
    "results = test_models(genres)\n",
    "with open(\"goodreads_rnn_results.txt\", \"w\") as f:\n",
    "    for genre, metrics in results.items():\n",
    "        f.write(f\"{genre}:\\n\")\n",
    "        for metric, value in metrics.items():\n",
    "            f.write(f\"{metric}: {value}\\n\")\n",
    "        f.write(\"\\n\")"
   ]
  },
  {
   "cell_type": "code",
   "execution_count": null,
   "metadata": {},
   "outputs": [],
   "source": [
    "# Function to get the genre scores for a plot\n",
    "# Returns a dictionary with the genre as the key and the score (0-1) as the value\n",
    "def predict_genres(description):\n",
    "    # Tokenize and pad the plot\n",
    "    description = nltk.word_tokenize(description.lower())\n",
    "    description = words2ints(description)\n",
    "    description = pad_description(description)\n",
    "    description = torch.tensor(description, dtype=torch.long).unsqueeze(0)\n",
    "    # Create a dictionary to store the scores\n",
    "    scores = {}\n",
    "    # For each genre, load the model and get the score\n",
    "    for genre in genres:\n",
    "        # Check if the model exists\n",
    "        if not os.path.exists(f\"models/rnn/{genre}modelgoodreads.pth\"):\n",
    "            print(f\"Model for {genre} does not exist\")\n",
    "            continue\n",
    "        print(f\"Predicting {genre}\")\n",
    "        model = GenreRNN(numwords, 128, 128, 2)\n",
    "        model.load_state_dict(torch.load(f\"models/rnn/{genre}modelgoodreads.pth\"))\n",
    "        model.eval()\n",
    "        with torch.no_grad():\n",
    "            # Get the output of the model\n",
    "            output = model(description)\n",
    "            # Convert the output to a probability\n",
    "            prob = torch.nn.functional.softmax(output, dim=1)\n",
    "            # Get the probability of the plot being in the genre\n",
    "            score = prob[0][1].item()\n",
    "            # Add the score to the dictionary\n",
    "            scores[genre] = score\n",
    "    return scores"
   ]
  }
 ],
 "metadata": {
  "kernelspec": {
   "display_name": "base",
   "language": "python",
   "name": "python3"
  },
  "language_info": {
   "codemirror_mode": {
    "name": "ipython",
    "version": 3
   },
   "file_extension": ".py",
   "mimetype": "text/x-python",
   "name": "python",
   "nbconvert_exporter": "python",
   "pygments_lexer": "ipython3",
   "version": "3.10.14"
  }
 },
 "nbformat": 4,
 "nbformat_minor": 2
}
