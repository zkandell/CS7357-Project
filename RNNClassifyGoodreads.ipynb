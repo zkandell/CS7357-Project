{
 "cells": [
  {
   "cell_type": "code",
   "execution_count": 76,
   "metadata": {},
   "outputs": [],
   "source": [
    "# Import PyTorch\n",
    "import torch\n",
    "# Get pandas for data manipulation\n",
    "import pandas as pd\n",
    "# Import nltk for text processing\n",
    "import nltk\n",
    "# Import os for file manipulation\n",
    "import os\n",
    "# Import train_test_split from sklearn\n",
    "from sklearn.model_selection import train_test_split\n",
    "# Import LabelEncoder from sklearn for encoding labels\n",
    "from sklearn.preprocessing import LabelEncoder"
   ]
  },
  {
   "cell_type": "code",
   "execution_count": 77,
   "metadata": {},
   "outputs": [],
   "source": [
    "# Set device to GPU if available\n",
    "device = torch.device('cuda' if torch.cuda.is_available() else 'cpu')"
   ]
  },
  {
   "cell_type": "code",
   "execution_count": 78,
   "metadata": {},
   "outputs": [
    {
     "name": "stdout",
     "output_type": "stream",
     "text": [
      "                                                Book  \\\n",
      "0                              To Kill a Mockingbird   \n",
      "1  Harry Potter and the Philosopher’s Stone (Harr...   \n",
      "2                                Pride and Prejudice   \n",
      "3                          The Diary of a Young Girl   \n",
      "4                                  The Little Prince   \n",
      "\n",
      "                                         Description  Fantasy  Adult  \\\n",
      "0  The unforgettable novel of a childhood in a sl...        0      1   \n",
      "1  Harry Potter thinks he is an ordinary boy - un...        1      1   \n",
      "2  Since its immediate success in 1813, Pride and...        0      0   \n",
      "3  Discovered in the attic in which she spent the...        0      0   \n",
      "4  A pilot stranded in the desert awakes one morn...        1      1   \n",
      "\n",
      "   Historical  Roman  Romance  Young Adult  Historical Fiction  Science  ...  \\\n",
      "0           1      0        0            1                   1        0  ...   \n",
      "1           0      0        0            1                   0        0  ...   \n",
      "2           1      1        1            0                   1        0  ...   \n",
      "3           1      0        0            0                   0        0  ...   \n",
      "4           0      0        0            1                   0        0  ...   \n",
      "\n",
      "   Biography  Crime  Self Help  Psychology  Mystery Thriller  Memoir  \\\n",
      "0          0      0          0           0                 0       0   \n",
      "1          0      0          0           0                 0       0   \n",
      "2          0      0          0           0                 0       0   \n",
      "3          1      0          0           0                 0       1   \n",
      "4          0      0          0           0                 0       0   \n",
      "\n",
      "   Childrens  Humor  Suspense  Horror  \n",
      "0          0      0         0       0  \n",
      "1          1      0         0       0  \n",
      "2          0      0         0       0  \n",
      "3          0      0         0       0  \n",
      "4          1      0         0       0  \n",
      "\n",
      "[5 rows x 27 columns]\n",
      "(8055, 27)\n"
     ]
    }
   ],
   "source": [
    "# Load the data from Datasets/goodreads_data_onehot_genres.csv\n",
    "data = pd.read_csv('Datasets/goodreads_data_onehot_genres.csv')\n",
    "# Show the first few rows of the data\n",
    "print(data.head())\n",
    "print(data.shape)"
   ]
  },
  {
   "cell_type": "code",
   "execution_count": 79,
   "metadata": {},
   "outputs": [],
   "source": [
    "# Create a dataframe with the plot column tokenized and lowercased\n",
    "tokenizeddf = data.copy()\n",
    "tokenizeddf['Description'] = tokenizeddf['Description'].apply(lambda x: nltk.word_tokenize(x.lower()))"
   ]
  },
  {
   "cell_type": "code",
   "execution_count": 80,
   "metadata": {},
   "outputs": [
    {
     "name": "stdout",
     "output_type": "stream",
     "text": [
      "Number of unique words:  80123\n"
     ]
    }
   ],
   "source": [
    "# Get the length of the longest plot\n",
    "maxlen = tokenizeddf['Description'].apply(len).max()\n",
    "\n",
    "# Get the set of all words in the plot column\n",
    "wordset = set()\n",
    "for plot in tokenizeddf['Description']:\n",
    "    wordset.update(plot)\n",
    "# Get the number of unique words\n",
    "numwords = len(wordset)\n",
    "print(\"Number of unique words: \", numwords)\n",
    "\n",
    "# Create a dictionary that maps words to integers\n",
    "word2int = {word: i for i, word in enumerate(wordset)}\n",
    "\n",
    "# Function to convert a list of words to a list of integers\n",
    "def words2ints(words):\n",
    "    # Run through each word in the list\n",
    "    ints = []\n",
    "    for word in words:\n",
    "        # If the word is in the dictionary, add the integer to the list\n",
    "        if word in word2int:\n",
    "            ints.append(word2int[word])\n",
    "    return ints"
   ]
  },
  {
   "cell_type": "code",
   "execution_count": 81,
   "metadata": {},
   "outputs": [],
   "source": [
    "# Convert the Description column to a list of integers\n",
    "tokenizeddf['Description'] = tokenizeddf['Description'].apply(words2ints)\n",
    "\n",
    "# Pad the sequences to the maximum length\n",
    "def pad_description(description):\n",
    "    return description + [0] * (maxlen - len(description))\n",
    "\n",
    "tokenizeddf['Description'] = tokenizeddf['Description'].apply(pad_description)"
   ]
  },
  {
   "cell_type": "code",
   "execution_count": 82,
   "metadata": {},
   "outputs": [],
   "source": [
    "# Create a label encoder\n",
    "le = LabelEncoder()"
   ]
  },
  {
   "cell_type": "code",
   "execution_count": 83,
   "metadata": {},
   "outputs": [],
   "source": [
    "# Dataset class for genres\n",
    "class GenreDataset(torch.utils.data.Dataset):\n",
    "    def __init__(self, data, genre):\n",
    "        self.plot = data[\"Description\"].values\n",
    "        self.genre = data[genre].values\n",
    "\n",
    "    def __len__(self):\n",
    "        return len(self.plot)\n",
    "    \n",
    "    def __getitem__(self, i):\n",
    "        plot = self.plot[i]\n",
    "        genre = self.genre[i]\n",
    "        return torch.tensor(plot, dtype=torch.long), torch.tensor(genre, dtype=torch.float)\n",
    "    \n",
    "# Dataloader class for genres\n",
    "class GenreDataLoader(torch.utils.data.DataLoader):\n",
    "    def __init__(self, dataset, batch_size=32, shuffle=True):\n",
    "        super().__init__(dataset, batch_size=batch_size, shuffle=shuffle)\n",
    "\n",
    "# RNN class for genres\n",
    "# Create the RNN to classify the plots as action or not\n",
    "class GenreRNN(torch.nn.Module):\n",
    "    def __init__(self, vocab_size, embedding_dim, hidden_dim, output_size):\n",
    "        super(GenreRNN, self).__init__()\n",
    "        self.embedding = torch.nn.Embedding(vocab_size, embedding_dim)\n",
    "        self.rnn = torch.nn.RNN(embedding_dim, hidden_dim, batch_first=True)\n",
    "        self.fc = torch.nn.Linear(hidden_dim, output_size)\n",
    "        self.sigmoid = torch.nn.Sigmoid()\n",
    "        self.hidden_dim = hidden_dim\n",
    "    \n",
    "    def forward(self, x):\n",
    "        x = self.embedding(x)\n",
    "        h0 = torch.zeros(1, x.size(0), self.hidden_dim).to(x.device)\n",
    "        out, _ = self.rnn(x, h0)\n",
    "        out = self.fc(out[:, -1, :])        \n",
    "        return out"
   ]
  },
  {
   "cell_type": "code",
   "execution_count": 84,
   "metadata": {},
   "outputs": [],
   "source": [
    "# Function to train a model\n",
    "def train_genre_rnn(genre, epochs, embed, hidden, output):\n",
    "    genremodel = GenreRNN(numwords, embed, hidden, output)\n",
    "    # Extract the relevant columns from the dataframe\n",
    "    genredf = tokenizeddf[['Book', 'Description', genre]]\n",
    "    # Encode the genre column\n",
    "    genredf[genre] = le.fit_transform(genredf[genre])\n",
    "    # Train test split the data\n",
    "    # We won't use the test data in this function\n",
    "    genretrain, genretest = train_test_split(genredf, test_size=0.2, random_state=42)\n",
    "    # Create a GenreDataset object\n",
    "    genretraindataset = GenreDataset(genretrain, genre)\n",
    "    # Create a DataLoader\n",
    "    genretrainloader = GenreDataLoader(genretraindataset, batch_size=32, shuffle=True)\n",
    "\n",
    "    criterion = torch.nn.CrossEntropyLoss()\n",
    "    optimizer = torch.optim.Adam(genremodel.parameters(), lr=0.001)\n",
    "\n",
    "    # Set the device\n",
    "    device = torch.device(\"cuda\" if torch.cuda.is_available() else \"cpu\")\n",
    "\n",
    "    # Send the model to the device\n",
    "    genremodel.to(device)\n",
    "\n",
    "    # Train the model\n",
    "    num_epochs = epochs\n",
    "    for epoch in range(num_epochs):\n",
    "        epoch_loss = 0\n",
    "        genremodel.train()\n",
    "        for plots, genres in genretrainloader:\n",
    "            # Send the data to the device\n",
    "            plots = plots.to(device)\n",
    "            genres = genres.to(device)\n",
    "            outputs = genremodel(plots)\n",
    "            loss = criterion(outputs, genres.long())\n",
    "\n",
    "            optimizer.zero_grad()\n",
    "            loss.backward()\n",
    "            optimizer.step()\n",
    "\n",
    "            epoch_loss += loss.item()\n",
    "        print(f\"Epoch {epoch+1}/{num_epochs}, Loss: {loss.item()}\")\n",
    "\n",
    "    # Return the model\n",
    "    return genremodel"
   ]
  },
  {
   "cell_type": "code",
   "execution_count": 85,
   "metadata": {},
   "outputs": [],
   "source": [
    "# Save a model\n",
    "def save_model(model, genre):\n",
    "    if not os.path.exists(\"models/rnn\"):\n",
    "        os.makedirs(\"models/rnn\")\n",
    "    torch.save(model.state_dict(), f\"models/rnn/{genre}modelgoodreads.pth\")"
   ]
  },
  {
   "cell_type": "code",
   "execution_count": 86,
   "metadata": {},
   "outputs": [
    {
     "name": "stdout",
     "output_type": "stream",
     "text": [
      "Index(['Fantasy', 'Adult', 'Historical', 'Roman', 'Romance', 'Young Adult',\n",
      "       'Historical Fiction', 'Science', 'Mystery', 'Contemporary', 'Thriller',\n",
      "       'Science Fiction', 'History', 'Adventure', 'Philosophy', 'Biography',\n",
      "       'Crime', 'Self Help', 'Psychology', 'Mystery Thriller', 'Memoir',\n",
      "       'Childrens', 'Humor', 'Suspense', 'Horror'],\n",
      "      dtype='object')\n"
     ]
    }
   ],
   "source": [
    "# Get all the genres\n",
    "genres = data.columns[2:]\n",
    "print(genres)"
   ]
  },
  {
   "cell_type": "code",
   "execution_count": 87,
   "metadata": {},
   "outputs": [
    {
     "name": "stdout",
     "output_type": "stream",
     "text": [
      "Training model for Fantasy\n"
     ]
    },
    {
     "name": "stderr",
     "output_type": "stream",
     "text": [
      "C:\\Users\\zkand\\AppData\\Local\\Temp\\ipykernel_48300\\449715828.py:7: SettingWithCopyWarning: \n",
      "A value is trying to be set on a copy of a slice from a DataFrame.\n",
      "Try using .loc[row_indexer,col_indexer] = value instead\n",
      "\n",
      "See the caveats in the documentation: https://pandas.pydata.org/pandas-docs/stable/user_guide/indexing.html#returning-a-view-versus-a-copy\n",
      "  genredf[genre] = le.fit_transform(genredf[genre])\n"
     ]
    },
    {
     "name": "stdout",
     "output_type": "stream",
     "text": [
      "Epoch 1/10, Loss: 0.7437699437141418\n",
      "Epoch 2/10, Loss: 0.5633482336997986\n",
      "Epoch 3/10, Loss: 0.5743919014930725\n",
      "Epoch 4/10, Loss: 0.5628390312194824\n",
      "Epoch 5/10, Loss: 0.46784791350364685\n",
      "Epoch 6/10, Loss: 0.49632784724235535\n",
      "Epoch 7/10, Loss: 0.4817148745059967\n",
      "Epoch 8/10, Loss: 0.4060753583908081\n",
      "Epoch 9/10, Loss: 0.4597040116786957\n",
      "Epoch 10/10, Loss: 0.46697500348091125\n",
      "Training model for Adult\n"
     ]
    },
    {
     "name": "stderr",
     "output_type": "stream",
     "text": [
      "C:\\Users\\zkand\\AppData\\Local\\Temp\\ipykernel_48300\\449715828.py:7: SettingWithCopyWarning: \n",
      "A value is trying to be set on a copy of a slice from a DataFrame.\n",
      "Try using .loc[row_indexer,col_indexer] = value instead\n",
      "\n",
      "See the caveats in the documentation: https://pandas.pydata.org/pandas-docs/stable/user_guide/indexing.html#returning-a-view-versus-a-copy\n",
      "  genredf[genre] = le.fit_transform(genredf[genre])\n"
     ]
    },
    {
     "name": "stdout",
     "output_type": "stream",
     "text": [
      "Epoch 1/10, Loss: 0.5656182169914246\n",
      "Epoch 2/10, Loss: 0.5623360276222229\n",
      "Epoch 3/10, Loss: 0.6528646945953369\n",
      "Epoch 4/10, Loss: 0.7647673487663269\n",
      "Epoch 5/10, Loss: 0.6566473841667175\n",
      "Epoch 6/10, Loss: 0.5830168128013611\n",
      "Epoch 7/10, Loss: 0.5628566741943359\n",
      "Epoch 8/10, Loss: 0.6628420948982239\n",
      "Epoch 9/10, Loss: 0.7185294032096863\n",
      "Epoch 10/10, Loss: 0.5623360276222229\n",
      "Training model for Historical\n"
     ]
    },
    {
     "name": "stderr",
     "output_type": "stream",
     "text": [
      "C:\\Users\\zkand\\AppData\\Local\\Temp\\ipykernel_48300\\449715828.py:7: SettingWithCopyWarning: \n",
      "A value is trying to be set on a copy of a slice from a DataFrame.\n",
      "Try using .loc[row_indexer,col_indexer] = value instead\n",
      "\n",
      "See the caveats in the documentation: https://pandas.pydata.org/pandas-docs/stable/user_guide/indexing.html#returning-a-view-versus-a-copy\n",
      "  genredf[genre] = le.fit_transform(genredf[genre])\n"
     ]
    },
    {
     "name": "stdout",
     "output_type": "stream",
     "text": [
      "Epoch 1/10, Loss: 0.9488518238067627\n",
      "Epoch 2/10, Loss: 0.5649139285087585\n",
      "Epoch 3/10, Loss: 1.0035985708236694\n",
      "Epoch 4/10, Loss: 0.5656024217605591\n",
      "Epoch 5/10, Loss: 0.45083925127983093\n",
      "Epoch 6/10, Loss: 0.6753036379814148\n",
      "Epoch 7/10, Loss: 0.697521448135376\n",
      "Epoch 8/10, Loss: 0.5660068392753601\n",
      "Epoch 9/10, Loss: 0.5664731860160828\n",
      "Epoch 10/10, Loss: 0.261932373046875\n",
      "Training model for Roman\n"
     ]
    },
    {
     "name": "stderr",
     "output_type": "stream",
     "text": [
      "C:\\Users\\zkand\\AppData\\Local\\Temp\\ipykernel_48300\\449715828.py:7: SettingWithCopyWarning: \n",
      "A value is trying to be set on a copy of a slice from a DataFrame.\n",
      "Try using .loc[row_indexer,col_indexer] = value instead\n",
      "\n",
      "See the caveats in the documentation: https://pandas.pydata.org/pandas-docs/stable/user_guide/indexing.html#returning-a-view-versus-a-copy\n",
      "  genredf[genre] = le.fit_transform(genredf[genre])\n"
     ]
    },
    {
     "name": "stdout",
     "output_type": "stream",
     "text": [
      "Epoch 1/10, Loss: 0.3486463725566864\n",
      "Epoch 2/10, Loss: 0.37125441431999207\n",
      "Epoch 3/10, Loss: 0.36592137813568115\n",
      "Epoch 4/10, Loss: 0.64484041929245\n",
      "Epoch 5/10, Loss: 0.7889080047607422\n",
      "Epoch 6/10, Loss: 0.8501541614532471\n",
      "Epoch 7/10, Loss: 0.5866159200668335\n",
      "Epoch 8/10, Loss: 0.4505630433559418\n",
      "Epoch 9/10, Loss: 0.19036400318145752\n",
      "Epoch 10/10, Loss: 0.3375105559825897\n",
      "Training model for Romance\n"
     ]
    },
    {
     "name": "stderr",
     "output_type": "stream",
     "text": [
      "C:\\Users\\zkand\\AppData\\Local\\Temp\\ipykernel_48300\\449715828.py:7: SettingWithCopyWarning: \n",
      "A value is trying to be set on a copy of a slice from a DataFrame.\n",
      "Try using .loc[row_indexer,col_indexer] = value instead\n",
      "\n",
      "See the caveats in the documentation: https://pandas.pydata.org/pandas-docs/stable/user_guide/indexing.html#returning-a-view-versus-a-copy\n",
      "  genredf[genre] = le.fit_transform(genredf[genre])\n"
     ]
    },
    {
     "name": "stdout",
     "output_type": "stream",
     "text": [
      "Epoch 1/10, Loss: 0.7888787388801575\n",
      "Epoch 2/10, Loss: 0.21952082216739655\n",
      "Epoch 3/10, Loss: 0.7429168224334717\n",
      "Epoch 4/10, Loss: 0.19862933456897736\n",
      "Epoch 5/10, Loss: 0.5624386668205261\n",
      "Epoch 6/10, Loss: 0.5704805850982666\n",
      "Epoch 7/10, Loss: 0.38798654079437256\n",
      "Epoch 8/10, Loss: 0.6906601786613464\n",
      "Epoch 9/10, Loss: 0.6863139271736145\n",
      "Epoch 10/10, Loss: 0.7539458870887756\n",
      "Training model for Young Adult\n"
     ]
    },
    {
     "name": "stderr",
     "output_type": "stream",
     "text": [
      "C:\\Users\\zkand\\AppData\\Local\\Temp\\ipykernel_48300\\449715828.py:7: SettingWithCopyWarning: \n",
      "A value is trying to be set on a copy of a slice from a DataFrame.\n",
      "Try using .loc[row_indexer,col_indexer] = value instead\n",
      "\n",
      "See the caveats in the documentation: https://pandas.pydata.org/pandas-docs/stable/user_guide/indexing.html#returning-a-view-versus-a-copy\n",
      "  genredf[genre] = le.fit_transform(genredf[genre])\n"
     ]
    },
    {
     "name": "stdout",
     "output_type": "stream",
     "text": [
      "Epoch 1/10, Loss: 0.4614607095718384\n",
      "Epoch 2/10, Loss: 0.25540900230407715\n",
      "Epoch 3/10, Loss: 0.5965709686279297\n",
      "Epoch 4/10, Loss: 0.29943251609802246\n",
      "Epoch 5/10, Loss: 0.45069316029548645\n",
      "Epoch 6/10, Loss: 0.461218923330307\n",
      "Epoch 7/10, Loss: 0.7829858660697937\n",
      "Epoch 8/10, Loss: 0.6925715804100037\n",
      "Epoch 9/10, Loss: 0.19148968160152435\n",
      "Epoch 10/10, Loss: 0.5747390985488892\n",
      "Training model for Historical Fiction\n"
     ]
    },
    {
     "name": "stderr",
     "output_type": "stream",
     "text": [
      "C:\\Users\\zkand\\AppData\\Local\\Temp\\ipykernel_48300\\449715828.py:7: SettingWithCopyWarning: \n",
      "A value is trying to be set on a copy of a slice from a DataFrame.\n",
      "Try using .loc[row_indexer,col_indexer] = value instead\n",
      "\n",
      "See the caveats in the documentation: https://pandas.pydata.org/pandas-docs/stable/user_guide/indexing.html#returning-a-view-versus-a-copy\n",
      "  genredf[genre] = le.fit_transform(genredf[genre])\n"
     ]
    },
    {
     "name": "stdout",
     "output_type": "stream",
     "text": [
      "Epoch 1/10, Loss: 0.4536530077457428\n",
      "Epoch 2/10, Loss: 0.45168164372444153\n",
      "Epoch 3/10, Loss: 0.5863354206085205\n",
      "Epoch 4/10, Loss: 0.6985098719596863\n",
      "Epoch 5/10, Loss: 0.5665558576583862\n",
      "Epoch 6/10, Loss: 0.5740827918052673\n",
      "Epoch 7/10, Loss: 0.8036473393440247\n",
      "Epoch 8/10, Loss: 0.45674002170562744\n",
      "Epoch 9/10, Loss: 0.5811564922332764\n",
      "Epoch 10/10, Loss: 0.45056164264678955\n",
      "Training model for Science\n"
     ]
    },
    {
     "name": "stderr",
     "output_type": "stream",
     "text": [
      "C:\\Users\\zkand\\AppData\\Local\\Temp\\ipykernel_48300\\449715828.py:7: SettingWithCopyWarning: \n",
      "A value is trying to be set on a copy of a slice from a DataFrame.\n",
      "Try using .loc[row_indexer,col_indexer] = value instead\n",
      "\n",
      "See the caveats in the documentation: https://pandas.pydata.org/pandas-docs/stable/user_guide/indexing.html#returning-a-view-versus-a-copy\n",
      "  genredf[genre] = le.fit_transform(genredf[genre])\n"
     ]
    },
    {
     "name": "stdout",
     "output_type": "stream",
     "text": [
      "Epoch 1/10, Loss: 0.5812374353408813\n",
      "Epoch 2/10, Loss: 0.7590122222900391\n",
      "Epoch 3/10, Loss: 0.6740452647209167\n",
      "Epoch 4/10, Loss: 0.34440168738365173\n",
      "Epoch 5/10, Loss: 0.5916896462440491\n",
      "Epoch 6/10, Loss: 0.3285035490989685\n",
      "Epoch 7/10, Loss: 0.19198335707187653\n",
      "Epoch 8/10, Loss: 0.45068037509918213\n",
      "Epoch 9/10, Loss: 0.3433469831943512\n",
      "Epoch 10/10, Loss: 0.3288854658603668\n",
      "Training model for Mystery\n"
     ]
    },
    {
     "name": "stderr",
     "output_type": "stream",
     "text": [
      "C:\\Users\\zkand\\AppData\\Local\\Temp\\ipykernel_48300\\449715828.py:7: SettingWithCopyWarning: \n",
      "A value is trying to be set on a copy of a slice from a DataFrame.\n",
      "Try using .loc[row_indexer,col_indexer] = value instead\n",
      "\n",
      "See the caveats in the documentation: https://pandas.pydata.org/pandas-docs/stable/user_guide/indexing.html#returning-a-view-versus-a-copy\n",
      "  genredf[genre] = le.fit_transform(genredf[genre])\n"
     ]
    },
    {
     "name": "stdout",
     "output_type": "stream",
     "text": [
      "Epoch 1/10, Loss: 0.450605183839798\n",
      "Epoch 2/10, Loss: 0.3113481104373932\n",
      "Epoch 3/10, Loss: 0.4645291268825531\n",
      "Epoch 4/10, Loss: 0.19122864305973053\n",
      "Epoch 5/10, Loss: 0.4505629241466522\n",
      "Epoch 6/10, Loss: 0.3177720606327057\n",
      "Epoch 7/10, Loss: 0.29458561539649963\n",
      "Epoch 8/10, Loss: 0.3347831666469574\n",
      "Epoch 9/10, Loss: 0.46427640318870544\n",
      "Epoch 10/10, Loss: 0.45604297518730164\n",
      "Training model for Contemporary\n"
     ]
    },
    {
     "name": "stderr",
     "output_type": "stream",
     "text": [
      "C:\\Users\\zkand\\AppData\\Local\\Temp\\ipykernel_48300\\449715828.py:7: SettingWithCopyWarning: \n",
      "A value is trying to be set on a copy of a slice from a DataFrame.\n",
      "Try using .loc[row_indexer,col_indexer] = value instead\n",
      "\n",
      "See the caveats in the documentation: https://pandas.pydata.org/pandas-docs/stable/user_guide/indexing.html#returning-a-view-versus-a-copy\n",
      "  genredf[genre] = le.fit_transform(genredf[genre])\n"
     ]
    },
    {
     "name": "stdout",
     "output_type": "stream",
     "text": [
      "Epoch 1/10, Loss: 0.4537210762500763\n",
      "Epoch 2/10, Loss: 0.1826978176832199\n",
      "Epoch 3/10, Loss: 0.5752328038215637\n",
      "Epoch 4/10, Loss: 0.45103922486305237\n",
      "Epoch 5/10, Loss: 0.3050188422203064\n",
      "Epoch 6/10, Loss: 0.4506066143512726\n",
      "Epoch 7/10, Loss: 0.4539966285228729\n",
      "Epoch 8/10, Loss: 0.4517108201980591\n",
      "Epoch 9/10, Loss: 0.7689967155456543\n",
      "Epoch 10/10, Loss: 0.20853041112422943\n",
      "Training model for Thriller\n"
     ]
    },
    {
     "name": "stderr",
     "output_type": "stream",
     "text": [
      "C:\\Users\\zkand\\AppData\\Local\\Temp\\ipykernel_48300\\449715828.py:7: SettingWithCopyWarning: \n",
      "A value is trying to be set on a copy of a slice from a DataFrame.\n",
      "Try using .loc[row_indexer,col_indexer] = value instead\n",
      "\n",
      "See the caveats in the documentation: https://pandas.pydata.org/pandas-docs/stable/user_guide/indexing.html#returning-a-view-versus-a-copy\n",
      "  genredf[genre] = le.fit_transform(genredf[genre])\n"
     ]
    },
    {
     "name": "stdout",
     "output_type": "stream",
     "text": [
      "Epoch 1/10, Loss: 0.5973394513130188\n",
      "Epoch 2/10, Loss: 0.12749122083187103\n",
      "Epoch 3/10, Loss: 0.29432204365730286\n",
      "Epoch 4/10, Loss: 0.6128364205360413\n",
      "Epoch 5/10, Loss: 0.33862611651420593\n",
      "Epoch 6/10, Loss: 0.3247836232185364\n",
      "Epoch 7/10, Loss: 0.5767145156860352\n",
      "Epoch 8/10, Loss: 0.45387542247772217\n",
      "Epoch 9/10, Loss: 0.29084286093711853\n",
      "Epoch 10/10, Loss: 0.6218640208244324\n",
      "Training model for Science Fiction\n"
     ]
    },
    {
     "name": "stderr",
     "output_type": "stream",
     "text": [
      "C:\\Users\\zkand\\AppData\\Local\\Temp\\ipykernel_48300\\449715828.py:7: SettingWithCopyWarning: \n",
      "A value is trying to be set on a copy of a slice from a DataFrame.\n",
      "Try using .loc[row_indexer,col_indexer] = value instead\n",
      "\n",
      "See the caveats in the documentation: https://pandas.pydata.org/pandas-docs/stable/user_guide/indexing.html#returning-a-view-versus-a-copy\n",
      "  genredf[genre] = le.fit_transform(genredf[genre])\n"
     ]
    },
    {
     "name": "stdout",
     "output_type": "stream",
     "text": [
      "Epoch 1/10, Loss: 0.8220483660697937\n",
      "Epoch 2/10, Loss: 0.456021785736084\n",
      "Epoch 3/10, Loss: 0.3008001744747162\n",
      "Epoch 4/10, Loss: 0.5871404409408569\n",
      "Epoch 5/10, Loss: 0.1647920310497284\n",
      "Epoch 6/10, Loss: 0.4562464654445648\n",
      "Epoch 7/10, Loss: 0.15740272402763367\n",
      "Epoch 8/10, Loss: 0.13827970623970032\n",
      "Epoch 9/10, Loss: 0.6004595756530762\n",
      "Epoch 10/10, Loss: 0.6598131656646729\n",
      "Training model for History\n"
     ]
    },
    {
     "name": "stderr",
     "output_type": "stream",
     "text": [
      "C:\\Users\\zkand\\AppData\\Local\\Temp\\ipykernel_48300\\449715828.py:7: SettingWithCopyWarning: \n",
      "A value is trying to be set on a copy of a slice from a DataFrame.\n",
      "Try using .loc[row_indexer,col_indexer] = value instead\n",
      "\n",
      "See the caveats in the documentation: https://pandas.pydata.org/pandas-docs/stable/user_guide/indexing.html#returning-a-view-versus-a-copy\n",
      "  genredf[genre] = le.fit_transform(genredf[genre])\n"
     ]
    },
    {
     "name": "stdout",
     "output_type": "stream",
     "text": [
      "Epoch 1/10, Loss: 0.644417405128479\n",
      "Epoch 2/10, Loss: 0.4588932991027832\n",
      "Epoch 3/10, Loss: 0.2887638807296753\n",
      "Epoch 4/10, Loss: 0.4521556794643402\n",
      "Epoch 5/10, Loss: 0.4539482593536377\n",
      "Epoch 6/10, Loss: 0.3029043972492218\n",
      "Epoch 7/10, Loss: 0.46066340804100037\n",
      "Epoch 8/10, Loss: 0.3078257441520691\n",
      "Epoch 9/10, Loss: 0.2909901440143585\n",
      "Epoch 10/10, Loss: 0.4790870249271393\n",
      "Training model for Adventure\n"
     ]
    },
    {
     "name": "stderr",
     "output_type": "stream",
     "text": [
      "C:\\Users\\zkand\\AppData\\Local\\Temp\\ipykernel_48300\\449715828.py:7: SettingWithCopyWarning: \n",
      "A value is trying to be set on a copy of a slice from a DataFrame.\n",
      "Try using .loc[row_indexer,col_indexer] = value instead\n",
      "\n",
      "See the caveats in the documentation: https://pandas.pydata.org/pandas-docs/stable/user_guide/indexing.html#returning-a-view-versus-a-copy\n",
      "  genredf[genre] = le.fit_transform(genredf[genre])\n"
     ]
    },
    {
     "name": "stdout",
     "output_type": "stream",
     "text": [
      "Epoch 1/10, Loss: 0.28686413168907166\n",
      "Epoch 2/10, Loss: 0.08664066344499588\n",
      "Epoch 3/10, Loss: 0.4704922139644623\n",
      "Epoch 4/10, Loss: 0.28866684436798096\n",
      "Epoch 5/10, Loss: 0.10636720061302185\n",
      "Epoch 6/10, Loss: 0.09546517580747604\n",
      "Epoch 7/10, Loss: 0.4762395918369293\n",
      "Epoch 8/10, Loss: 0.2918124198913574\n",
      "Epoch 9/10, Loss: 0.2870141863822937\n",
      "Epoch 10/10, Loss: 0.2871178090572357\n",
      "Training model for Philosophy\n"
     ]
    },
    {
     "name": "stderr",
     "output_type": "stream",
     "text": [
      "C:\\Users\\zkand\\AppData\\Local\\Temp\\ipykernel_48300\\449715828.py:7: SettingWithCopyWarning: \n",
      "A value is trying to be set on a copy of a slice from a DataFrame.\n",
      "Try using .loc[row_indexer,col_indexer] = value instead\n",
      "\n",
      "See the caveats in the documentation: https://pandas.pydata.org/pandas-docs/stable/user_guide/indexing.html#returning-a-view-versus-a-copy\n",
      "  genredf[genre] = le.fit_transform(genredf[genre])\n"
     ]
    },
    {
     "name": "stdout",
     "output_type": "stream",
     "text": [
      "Epoch 1/10, Loss: 0.29009345173835754\n",
      "Epoch 2/10, Loss: 0.6563534140586853\n",
      "Epoch 3/10, Loss: 0.11385060101747513\n",
      "Epoch 4/10, Loss: 0.5378159880638123\n",
      "Epoch 5/10, Loss: 0.2871500253677368\n",
      "Epoch 6/10, Loss: 0.2872980535030365\n",
      "Epoch 7/10, Loss: 0.09752201288938522\n",
      "Epoch 8/10, Loss: 0.49351105093955994\n",
      "Epoch 9/10, Loss: 0.11021769791841507\n",
      "Epoch 10/10, Loss: 0.28699055314064026\n",
      "Training model for Biography\n"
     ]
    },
    {
     "name": "stderr",
     "output_type": "stream",
     "text": [
      "C:\\Users\\zkand\\AppData\\Local\\Temp\\ipykernel_48300\\449715828.py:7: SettingWithCopyWarning: \n",
      "A value is trying to be set on a copy of a slice from a DataFrame.\n",
      "Try using .loc[row_indexer,col_indexer] = value instead\n",
      "\n",
      "See the caveats in the documentation: https://pandas.pydata.org/pandas-docs/stable/user_guide/indexing.html#returning-a-view-versus-a-copy\n",
      "  genredf[genre] = le.fit_transform(genredf[genre])\n"
     ]
    },
    {
     "name": "stdout",
     "output_type": "stream",
     "text": [
      "Epoch 1/10, Loss: 0.2879161536693573\n",
      "Epoch 2/10, Loss: 0.2885831296443939\n",
      "Epoch 3/10, Loss: 0.4704859256744385\n",
      "Epoch 4/10, Loss: 0.45767977833747864\n",
      "Epoch 5/10, Loss: 0.2873322665691376\n",
      "Epoch 6/10, Loss: 0.2961301803588867\n",
      "Epoch 7/10, Loss: 0.28777578473091125\n",
      "Epoch 8/10, Loss: 0.9022341370582581\n",
      "Epoch 9/10, Loss: 0.28805822134017944\n",
      "Epoch 10/10, Loss: 0.28983232378959656\n",
      "Training model for Crime\n"
     ]
    },
    {
     "name": "stderr",
     "output_type": "stream",
     "text": [
      "C:\\Users\\zkand\\AppData\\Local\\Temp\\ipykernel_48300\\449715828.py:7: SettingWithCopyWarning: \n",
      "A value is trying to be set on a copy of a slice from a DataFrame.\n",
      "Try using .loc[row_indexer,col_indexer] = value instead\n",
      "\n",
      "See the caveats in the documentation: https://pandas.pydata.org/pandas-docs/stable/user_guide/indexing.html#returning-a-view-versus-a-copy\n",
      "  genredf[genre] = le.fit_transform(genredf[genre])\n"
     ]
    },
    {
     "name": "stdout",
     "output_type": "stream",
     "text": [
      "Epoch 1/10, Loss: 0.0960390642285347\n",
      "Epoch 2/10, Loss: 0.28949132561683655\n",
      "Epoch 3/10, Loss: 0.2980148494243622\n",
      "Epoch 4/10, Loss: 0.28683707118034363\n",
      "Epoch 5/10, Loss: 0.2870723307132721\n",
      "Epoch 6/10, Loss: 0.2917417585849762\n",
      "Epoch 7/10, Loss: 0.28821834921836853\n",
      "Epoch 8/10, Loss: 0.2895754277706146\n",
      "Epoch 9/10, Loss: 0.6750814914703369\n",
      "Epoch 10/10, Loss: 0.13666166365146637\n",
      "Training model for Self Help\n"
     ]
    },
    {
     "name": "stderr",
     "output_type": "stream",
     "text": [
      "C:\\Users\\zkand\\AppData\\Local\\Temp\\ipykernel_48300\\449715828.py:7: SettingWithCopyWarning: \n",
      "A value is trying to be set on a copy of a slice from a DataFrame.\n",
      "Try using .loc[row_indexer,col_indexer] = value instead\n",
      "\n",
      "See the caveats in the documentation: https://pandas.pydata.org/pandas-docs/stable/user_guide/indexing.html#returning-a-view-versus-a-copy\n",
      "  genredf[genre] = le.fit_transform(genredf[genre])\n"
     ]
    },
    {
     "name": "stdout",
     "output_type": "stream",
     "text": [
      "Epoch 1/10, Loss: 0.4677560329437256\n",
      "Epoch 2/10, Loss: 0.4690755605697632\n",
      "Epoch 3/10, Loss: 0.7328245639801025\n",
      "Epoch 4/10, Loss: 0.12122010439634323\n",
      "Epoch 5/10, Loss: 0.07805191725492477\n",
      "Epoch 6/10, Loss: 0.28729936480522156\n",
      "Epoch 7/10, Loss: 0.49308300018310547\n",
      "Epoch 8/10, Loss: 0.2876300513744354\n",
      "Epoch 9/10, Loss: 0.47347140312194824\n",
      "Epoch 10/10, Loss: 0.289237380027771\n",
      "Training model for Psychology\n"
     ]
    },
    {
     "name": "stderr",
     "output_type": "stream",
     "text": [
      "C:\\Users\\zkand\\AppData\\Local\\Temp\\ipykernel_48300\\449715828.py:7: SettingWithCopyWarning: \n",
      "A value is trying to be set on a copy of a slice from a DataFrame.\n",
      "Try using .loc[row_indexer,col_indexer] = value instead\n",
      "\n",
      "See the caveats in the documentation: https://pandas.pydata.org/pandas-docs/stable/user_guide/indexing.html#returning-a-view-versus-a-copy\n",
      "  genredf[genre] = le.fit_transform(genredf[genre])\n"
     ]
    },
    {
     "name": "stdout",
     "output_type": "stream",
     "text": [
      "Epoch 1/10, Loss: 0.4657033383846283\n",
      "Epoch 2/10, Loss: 0.29959535598754883\n",
      "Epoch 3/10, Loss: 0.47163328528404236\n",
      "Epoch 4/10, Loss: 0.4673483669757843\n",
      "Epoch 5/10, Loss: 0.11859937757253647\n",
      "Epoch 6/10, Loss: 0.2891131341457367\n",
      "Epoch 7/10, Loss: 0.2882661521434784\n",
      "Epoch 8/10, Loss: 0.8213112950325012\n",
      "Epoch 9/10, Loss: 0.2869211733341217\n",
      "Epoch 10/10, Loss: 0.6175020337104797\n",
      "Training model for Mystery Thriller\n"
     ]
    },
    {
     "name": "stderr",
     "output_type": "stream",
     "text": [
      "C:\\Users\\zkand\\AppData\\Local\\Temp\\ipykernel_48300\\449715828.py:7: SettingWithCopyWarning: \n",
      "A value is trying to be set on a copy of a slice from a DataFrame.\n",
      "Try using .loc[row_indexer,col_indexer] = value instead\n",
      "\n",
      "See the caveats in the documentation: https://pandas.pydata.org/pandas-docs/stable/user_guide/indexing.html#returning-a-view-versus-a-copy\n",
      "  genredf[genre] = le.fit_transform(genredf[genre])\n"
     ]
    },
    {
     "name": "stdout",
     "output_type": "stream",
     "text": [
      "Epoch 1/10, Loss: 0.28737255930900574\n",
      "Epoch 2/10, Loss: 0.7114090323448181\n",
      "Epoch 3/10, Loss: 0.1593025028705597\n",
      "Epoch 4/10, Loss: 0.07589877396821976\n",
      "Epoch 5/10, Loss: 0.649954617023468\n",
      "Epoch 6/10, Loss: 0.4768289625644684\n",
      "Epoch 7/10, Loss: 0.28920769691467285\n",
      "Epoch 8/10, Loss: 0.07698415964841843\n",
      "Epoch 9/10, Loss: 0.28879863023757935\n",
      "Epoch 10/10, Loss: 0.4626530706882477\n",
      "Training model for Memoir\n"
     ]
    },
    {
     "name": "stderr",
     "output_type": "stream",
     "text": [
      "C:\\Users\\zkand\\AppData\\Local\\Temp\\ipykernel_48300\\449715828.py:7: SettingWithCopyWarning: \n",
      "A value is trying to be set on a copy of a slice from a DataFrame.\n",
      "Try using .loc[row_indexer,col_indexer] = value instead\n",
      "\n",
      "See the caveats in the documentation: https://pandas.pydata.org/pandas-docs/stable/user_guide/indexing.html#returning-a-view-versus-a-copy\n",
      "  genredf[genre] = le.fit_transform(genredf[genre])\n"
     ]
    },
    {
     "name": "stdout",
     "output_type": "stream",
     "text": [
      "Epoch 1/10, Loss: 0.09455563873052597\n",
      "Epoch 2/10, Loss: 0.8036200404167175\n",
      "Epoch 3/10, Loss: 0.28825119137763977\n",
      "Epoch 4/10, Loss: 0.29880234599113464\n",
      "Epoch 5/10, Loss: 0.095863938331604\n",
      "Epoch 6/10, Loss: 0.10075827687978745\n",
      "Epoch 7/10, Loss: 0.28945305943489075\n",
      "Epoch 8/10, Loss: 0.46917951107025146\n",
      "Epoch 9/10, Loss: 0.08375835418701172\n",
      "Epoch 10/10, Loss: 0.29128018021583557\n",
      "Training model for Childrens\n"
     ]
    },
    {
     "name": "stderr",
     "output_type": "stream",
     "text": [
      "C:\\Users\\zkand\\AppData\\Local\\Temp\\ipykernel_48300\\449715828.py:7: SettingWithCopyWarning: \n",
      "A value is trying to be set on a copy of a slice from a DataFrame.\n",
      "Try using .loc[row_indexer,col_indexer] = value instead\n",
      "\n",
      "See the caveats in the documentation: https://pandas.pydata.org/pandas-docs/stable/user_guide/indexing.html#returning-a-view-versus-a-copy\n",
      "  genredf[genre] = le.fit_transform(genredf[genre])\n"
     ]
    },
    {
     "name": "stdout",
     "output_type": "stream",
     "text": [
      "Epoch 1/10, Loss: 0.286919504404068\n",
      "Epoch 2/10, Loss: 0.07436525076627731\n",
      "Epoch 3/10, Loss: 0.09007657319307327\n",
      "Epoch 4/10, Loss: 0.28697559237480164\n",
      "Epoch 5/10, Loss: 0.08929025381803513\n",
      "Epoch 6/10, Loss: 0.2874559462070465\n",
      "Epoch 7/10, Loss: 0.2873389720916748\n",
      "Epoch 8/10, Loss: 0.07370800524950027\n",
      "Epoch 9/10, Loss: 0.09817212074995041\n",
      "Epoch 10/10, Loss: 0.07367926090955734\n",
      "Training model for Humor\n"
     ]
    },
    {
     "name": "stderr",
     "output_type": "stream",
     "text": [
      "C:\\Users\\zkand\\AppData\\Local\\Temp\\ipykernel_48300\\449715828.py:7: SettingWithCopyWarning: \n",
      "A value is trying to be set on a copy of a slice from a DataFrame.\n",
      "Try using .loc[row_indexer,col_indexer] = value instead\n",
      "\n",
      "See the caveats in the documentation: https://pandas.pydata.org/pandas-docs/stable/user_guide/indexing.html#returning-a-view-versus-a-copy\n",
      "  genredf[genre] = le.fit_transform(genredf[genre])\n"
     ]
    },
    {
     "name": "stdout",
     "output_type": "stream",
     "text": [
      "Epoch 1/10, Loss: 0.2869810163974762\n",
      "Epoch 2/10, Loss: 0.29498156905174255\n",
      "Epoch 3/10, Loss: 0.28704628348350525\n",
      "Epoch 4/10, Loss: 0.07158732414245605\n",
      "Epoch 5/10, Loss: 0.2892436683177948\n",
      "Epoch 6/10, Loss: 0.04852282628417015\n",
      "Epoch 7/10, Loss: 0.5276529788970947\n",
      "Epoch 8/10, Loss: 0.06073927879333496\n",
      "Epoch 9/10, Loss: 0.06910865753889084\n",
      "Epoch 10/10, Loss: 0.06283079087734222\n",
      "Training model for Suspense\n"
     ]
    },
    {
     "name": "stderr",
     "output_type": "stream",
     "text": [
      "C:\\Users\\zkand\\AppData\\Local\\Temp\\ipykernel_48300\\449715828.py:7: SettingWithCopyWarning: \n",
      "A value is trying to be set on a copy of a slice from a DataFrame.\n",
      "Try using .loc[row_indexer,col_indexer] = value instead\n",
      "\n",
      "See the caveats in the documentation: https://pandas.pydata.org/pandas-docs/stable/user_guide/indexing.html#returning-a-view-versus-a-copy\n",
      "  genredf[genre] = le.fit_transform(genredf[genre])\n"
     ]
    },
    {
     "name": "stdout",
     "output_type": "stream",
     "text": [
      "Epoch 1/10, Loss: 0.5846518874168396\n",
      "Epoch 2/10, Loss: 0.06714039295911789\n",
      "Epoch 3/10, Loss: 0.28839126229286194\n",
      "Epoch 4/10, Loss: 0.06447945535182953\n",
      "Epoch 5/10, Loss: 0.5008795261383057\n",
      "Epoch 6/10, Loss: 0.08207924664020538\n",
      "Epoch 7/10, Loss: 0.06598525494337082\n",
      "Epoch 8/10, Loss: 0.0490243099629879\n",
      "Epoch 9/10, Loss: 0.05649871006608009\n",
      "Epoch 10/10, Loss: 0.543645441532135\n",
      "Training model for Horror\n"
     ]
    },
    {
     "name": "stderr",
     "output_type": "stream",
     "text": [
      "C:\\Users\\zkand\\AppData\\Local\\Temp\\ipykernel_48300\\449715828.py:7: SettingWithCopyWarning: \n",
      "A value is trying to be set on a copy of a slice from a DataFrame.\n",
      "Try using .loc[row_indexer,col_indexer] = value instead\n",
      "\n",
      "See the caveats in the documentation: https://pandas.pydata.org/pandas-docs/stable/user_guide/indexing.html#returning-a-view-versus-a-copy\n",
      "  genredf[genre] = le.fit_transform(genredf[genre])\n"
     ]
    },
    {
     "name": "stdout",
     "output_type": "stream",
     "text": [
      "Epoch 1/10, Loss: 0.4795989990234375\n",
      "Epoch 2/10, Loss: 0.06478843837976456\n",
      "Epoch 3/10, Loss: 0.08125442266464233\n",
      "Epoch 4/10, Loss: 0.5639021992683411\n",
      "Epoch 5/10, Loss: 0.2948415279388428\n",
      "Epoch 6/10, Loss: 0.06991255283355713\n",
      "Epoch 7/10, Loss: 0.542995035648346\n",
      "Epoch 8/10, Loss: 0.04564019665122032\n",
      "Epoch 9/10, Loss: 0.06539171189069748\n",
      "Epoch 10/10, Loss: 0.5132126808166504\n"
     ]
    }
   ],
   "source": [
    "# Train a model for every genre\n",
    "for genre in genres:\n",
    "    print(f\"Training model for {genre}\")\n",
    "    model = train_genre_rnn(genre, 10, 128, 128, 2)\n",
    "    save_model(model, genre)"
   ]
  },
  {
   "cell_type": "code",
   "execution_count": 88,
   "metadata": {},
   "outputs": [],
   "source": [
    "# Test the models\n",
    "# Returns the accuracy, precision, recall, and F1 score of the model on the test data\n",
    "def test_models(genres):\n",
    "    # Create a dictionary to store the metrics\n",
    "    results = {}\n",
    "    # Run through each genre\n",
    "    for genre in genres:\n",
    "        # Load the model from the file (if it exists)\n",
    "        if os.path.exists(f\"models/rnn/{genre}modelgoodreads.pth\"):\n",
    "            model = GenreRNN(numwords, 128, 128, 2)\n",
    "            model.load_state_dict(torch.load(f\"models/rnn/{genre}modelgoodreads.pth\"))\n",
    "            model.eval()\n",
    "            # Extract the relevant columns from the dataframe\n",
    "            genredf = tokenizeddf[['Book', 'Description', genre]]\n",
    "            # Encode the genre column\n",
    "            genredf[genre] = le.fit_transform(genredf[genre])\n",
    "            # Train test split the data\n",
    "            genretrain, genretest = train_test_split(genredf, test_size=0.3, random_state=42)\n",
    "            genretestdataset = GenreDataset(genretest, genre)\n",
    "            genretestloader = GenreDataLoader(genretestdataset, batch_size=32, shuffle=True)\n",
    "            # Set the device\n",
    "            device = torch.device(\"cuda\" if torch.cuda.is_available() else \"cpu\")\n",
    "            # Send the model to the device\n",
    "            model.to(device)\n",
    "            # Initialize the metrics\n",
    "            tp = 0\n",
    "            tn = 0\n",
    "            fp = 0\n",
    "            fn = 0\n",
    "            # Turn off gradients\n",
    "            with torch.no_grad():\n",
    "                for plots, genres in genretestloader:\n",
    "                    plots = plots.to(device)\n",
    "                    genres = genres.to(device)\n",
    "                    # Get the outputs\n",
    "                    outputs = model(plots)\n",
    "                    _, preds = torch.max(outputs, 1)\n",
    "                    # Increment the metrics\n",
    "                    newtp = torch.sum((preds == 1) & (genres == 1)).item()\n",
    "                    newtn = torch.sum((preds == 0) & (genres == 0)).item()\n",
    "                    newfp = torch.sum((preds == 1) & (genres == 0)).item()\n",
    "                    newfn = torch.sum((preds == 0) & (genres == 1)).item()\n",
    "                    tp += newtp\n",
    "                    tn += newtn\n",
    "                    fp += newfp\n",
    "                    fn += newfn\n",
    "            # Calculate the metrics\n",
    "            accuracy = (tp + tn) / (tp + tn + fp + fn)\n",
    "            precision = tp / (tp + fp) if tp + fp != 0 else 0\n",
    "            recall = tp / (tp + fn) if tp + fn != 0 else 0\n",
    "            f1 = 2 * precision * recall / (precision + recall) if precision + recall != 0 else 0                    \n",
    "            results[genre] = { \"Accuracy\": accuracy, \"Precision\": precision, \"Recall\": recall, \"F1\": f1 }\n",
    "    return results"
   ]
  },
  {
   "cell_type": "code",
   "execution_count": 89,
   "metadata": {},
   "outputs": [
    {
     "name": "stderr",
     "output_type": "stream",
     "text": [
      "C:\\Users\\zkand\\AppData\\Local\\Temp\\ipykernel_48300\\4076232601.py:16: SettingWithCopyWarning: \n",
      "A value is trying to be set on a copy of a slice from a DataFrame.\n",
      "Try using .loc[row_indexer,col_indexer] = value instead\n",
      "\n",
      "See the caveats in the documentation: https://pandas.pydata.org/pandas-docs/stable/user_guide/indexing.html#returning-a-view-versus-a-copy\n",
      "  genredf[genre] = le.fit_transform(genredf[genre])\n",
      "C:\\Users\\zkand\\AppData\\Local\\Temp\\ipykernel_48300\\4076232601.py:16: SettingWithCopyWarning: \n",
      "A value is trying to be set on a copy of a slice from a DataFrame.\n",
      "Try using .loc[row_indexer,col_indexer] = value instead\n",
      "\n",
      "See the caveats in the documentation: https://pandas.pydata.org/pandas-docs/stable/user_guide/indexing.html#returning-a-view-versus-a-copy\n",
      "  genredf[genre] = le.fit_transform(genredf[genre])\n",
      "C:\\Users\\zkand\\AppData\\Local\\Temp\\ipykernel_48300\\4076232601.py:16: SettingWithCopyWarning: \n",
      "A value is trying to be set on a copy of a slice from a DataFrame.\n",
      "Try using .loc[row_indexer,col_indexer] = value instead\n",
      "\n",
      "See the caveats in the documentation: https://pandas.pydata.org/pandas-docs/stable/user_guide/indexing.html#returning-a-view-versus-a-copy\n",
      "  genredf[genre] = le.fit_transform(genredf[genre])\n",
      "C:\\Users\\zkand\\AppData\\Local\\Temp\\ipykernel_48300\\4076232601.py:16: SettingWithCopyWarning: \n",
      "A value is trying to be set on a copy of a slice from a DataFrame.\n",
      "Try using .loc[row_indexer,col_indexer] = value instead\n",
      "\n",
      "See the caveats in the documentation: https://pandas.pydata.org/pandas-docs/stable/user_guide/indexing.html#returning-a-view-versus-a-copy\n",
      "  genredf[genre] = le.fit_transform(genredf[genre])\n",
      "C:\\Users\\zkand\\AppData\\Local\\Temp\\ipykernel_48300\\4076232601.py:16: SettingWithCopyWarning: \n",
      "A value is trying to be set on a copy of a slice from a DataFrame.\n",
      "Try using .loc[row_indexer,col_indexer] = value instead\n",
      "\n",
      "See the caveats in the documentation: https://pandas.pydata.org/pandas-docs/stable/user_guide/indexing.html#returning-a-view-versus-a-copy\n",
      "  genredf[genre] = le.fit_transform(genredf[genre])\n",
      "C:\\Users\\zkand\\AppData\\Local\\Temp\\ipykernel_48300\\4076232601.py:16: SettingWithCopyWarning: \n",
      "A value is trying to be set on a copy of a slice from a DataFrame.\n",
      "Try using .loc[row_indexer,col_indexer] = value instead\n",
      "\n",
      "See the caveats in the documentation: https://pandas.pydata.org/pandas-docs/stable/user_guide/indexing.html#returning-a-view-versus-a-copy\n",
      "  genredf[genre] = le.fit_transform(genredf[genre])\n",
      "C:\\Users\\zkand\\AppData\\Local\\Temp\\ipykernel_48300\\4076232601.py:16: SettingWithCopyWarning: \n",
      "A value is trying to be set on a copy of a slice from a DataFrame.\n",
      "Try using .loc[row_indexer,col_indexer] = value instead\n",
      "\n",
      "See the caveats in the documentation: https://pandas.pydata.org/pandas-docs/stable/user_guide/indexing.html#returning-a-view-versus-a-copy\n",
      "  genredf[genre] = le.fit_transform(genredf[genre])\n",
      "C:\\Users\\zkand\\AppData\\Local\\Temp\\ipykernel_48300\\4076232601.py:16: SettingWithCopyWarning: \n",
      "A value is trying to be set on a copy of a slice from a DataFrame.\n",
      "Try using .loc[row_indexer,col_indexer] = value instead\n",
      "\n",
      "See the caveats in the documentation: https://pandas.pydata.org/pandas-docs/stable/user_guide/indexing.html#returning-a-view-versus-a-copy\n",
      "  genredf[genre] = le.fit_transform(genredf[genre])\n",
      "C:\\Users\\zkand\\AppData\\Local\\Temp\\ipykernel_48300\\4076232601.py:16: SettingWithCopyWarning: \n",
      "A value is trying to be set on a copy of a slice from a DataFrame.\n",
      "Try using .loc[row_indexer,col_indexer] = value instead\n",
      "\n",
      "See the caveats in the documentation: https://pandas.pydata.org/pandas-docs/stable/user_guide/indexing.html#returning-a-view-versus-a-copy\n",
      "  genredf[genre] = le.fit_transform(genredf[genre])\n",
      "C:\\Users\\zkand\\AppData\\Local\\Temp\\ipykernel_48300\\4076232601.py:16: SettingWithCopyWarning: \n",
      "A value is trying to be set on a copy of a slice from a DataFrame.\n",
      "Try using .loc[row_indexer,col_indexer] = value instead\n",
      "\n",
      "See the caveats in the documentation: https://pandas.pydata.org/pandas-docs/stable/user_guide/indexing.html#returning-a-view-versus-a-copy\n",
      "  genredf[genre] = le.fit_transform(genredf[genre])\n",
      "C:\\Users\\zkand\\AppData\\Local\\Temp\\ipykernel_48300\\4076232601.py:16: SettingWithCopyWarning: \n",
      "A value is trying to be set on a copy of a slice from a DataFrame.\n",
      "Try using .loc[row_indexer,col_indexer] = value instead\n",
      "\n",
      "See the caveats in the documentation: https://pandas.pydata.org/pandas-docs/stable/user_guide/indexing.html#returning-a-view-versus-a-copy\n",
      "  genredf[genre] = le.fit_transform(genredf[genre])\n",
      "C:\\Users\\zkand\\AppData\\Local\\Temp\\ipykernel_48300\\4076232601.py:16: SettingWithCopyWarning: \n",
      "A value is trying to be set on a copy of a slice from a DataFrame.\n",
      "Try using .loc[row_indexer,col_indexer] = value instead\n",
      "\n",
      "See the caveats in the documentation: https://pandas.pydata.org/pandas-docs/stable/user_guide/indexing.html#returning-a-view-versus-a-copy\n",
      "  genredf[genre] = le.fit_transform(genredf[genre])\n",
      "C:\\Users\\zkand\\AppData\\Local\\Temp\\ipykernel_48300\\4076232601.py:16: SettingWithCopyWarning: \n",
      "A value is trying to be set on a copy of a slice from a DataFrame.\n",
      "Try using .loc[row_indexer,col_indexer] = value instead\n",
      "\n",
      "See the caveats in the documentation: https://pandas.pydata.org/pandas-docs/stable/user_guide/indexing.html#returning-a-view-versus-a-copy\n",
      "  genredf[genre] = le.fit_transform(genredf[genre])\n",
      "C:\\Users\\zkand\\AppData\\Local\\Temp\\ipykernel_48300\\4076232601.py:16: SettingWithCopyWarning: \n",
      "A value is trying to be set on a copy of a slice from a DataFrame.\n",
      "Try using .loc[row_indexer,col_indexer] = value instead\n",
      "\n",
      "See the caveats in the documentation: https://pandas.pydata.org/pandas-docs/stable/user_guide/indexing.html#returning-a-view-versus-a-copy\n",
      "  genredf[genre] = le.fit_transform(genredf[genre])\n",
      "C:\\Users\\zkand\\AppData\\Local\\Temp\\ipykernel_48300\\4076232601.py:16: SettingWithCopyWarning: \n",
      "A value is trying to be set on a copy of a slice from a DataFrame.\n",
      "Try using .loc[row_indexer,col_indexer] = value instead\n",
      "\n",
      "See the caveats in the documentation: https://pandas.pydata.org/pandas-docs/stable/user_guide/indexing.html#returning-a-view-versus-a-copy\n",
      "  genredf[genre] = le.fit_transform(genredf[genre])\n",
      "C:\\Users\\zkand\\AppData\\Local\\Temp\\ipykernel_48300\\4076232601.py:16: SettingWithCopyWarning: \n",
      "A value is trying to be set on a copy of a slice from a DataFrame.\n",
      "Try using .loc[row_indexer,col_indexer] = value instead\n",
      "\n",
      "See the caveats in the documentation: https://pandas.pydata.org/pandas-docs/stable/user_guide/indexing.html#returning-a-view-versus-a-copy\n",
      "  genredf[genre] = le.fit_transform(genredf[genre])\n",
      "C:\\Users\\zkand\\AppData\\Local\\Temp\\ipykernel_48300\\4076232601.py:16: SettingWithCopyWarning: \n",
      "A value is trying to be set on a copy of a slice from a DataFrame.\n",
      "Try using .loc[row_indexer,col_indexer] = value instead\n",
      "\n",
      "See the caveats in the documentation: https://pandas.pydata.org/pandas-docs/stable/user_guide/indexing.html#returning-a-view-versus-a-copy\n",
      "  genredf[genre] = le.fit_transform(genredf[genre])\n",
      "C:\\Users\\zkand\\AppData\\Local\\Temp\\ipykernel_48300\\4076232601.py:16: SettingWithCopyWarning: \n",
      "A value is trying to be set on a copy of a slice from a DataFrame.\n",
      "Try using .loc[row_indexer,col_indexer] = value instead\n",
      "\n",
      "See the caveats in the documentation: https://pandas.pydata.org/pandas-docs/stable/user_guide/indexing.html#returning-a-view-versus-a-copy\n",
      "  genredf[genre] = le.fit_transform(genredf[genre])\n",
      "C:\\Users\\zkand\\AppData\\Local\\Temp\\ipykernel_48300\\4076232601.py:16: SettingWithCopyWarning: \n",
      "A value is trying to be set on a copy of a slice from a DataFrame.\n",
      "Try using .loc[row_indexer,col_indexer] = value instead\n",
      "\n",
      "See the caveats in the documentation: https://pandas.pydata.org/pandas-docs/stable/user_guide/indexing.html#returning-a-view-versus-a-copy\n",
      "  genredf[genre] = le.fit_transform(genredf[genre])\n",
      "C:\\Users\\zkand\\AppData\\Local\\Temp\\ipykernel_48300\\4076232601.py:16: SettingWithCopyWarning: \n",
      "A value is trying to be set on a copy of a slice from a DataFrame.\n",
      "Try using .loc[row_indexer,col_indexer] = value instead\n",
      "\n",
      "See the caveats in the documentation: https://pandas.pydata.org/pandas-docs/stable/user_guide/indexing.html#returning-a-view-versus-a-copy\n",
      "  genredf[genre] = le.fit_transform(genredf[genre])\n",
      "C:\\Users\\zkand\\AppData\\Local\\Temp\\ipykernel_48300\\4076232601.py:16: SettingWithCopyWarning: \n",
      "A value is trying to be set on a copy of a slice from a DataFrame.\n",
      "Try using .loc[row_indexer,col_indexer] = value instead\n",
      "\n",
      "See the caveats in the documentation: https://pandas.pydata.org/pandas-docs/stable/user_guide/indexing.html#returning-a-view-versus-a-copy\n",
      "  genredf[genre] = le.fit_transform(genredf[genre])\n",
      "C:\\Users\\zkand\\AppData\\Local\\Temp\\ipykernel_48300\\4076232601.py:16: SettingWithCopyWarning: \n",
      "A value is trying to be set on a copy of a slice from a DataFrame.\n",
      "Try using .loc[row_indexer,col_indexer] = value instead\n",
      "\n",
      "See the caveats in the documentation: https://pandas.pydata.org/pandas-docs/stable/user_guide/indexing.html#returning-a-view-versus-a-copy\n",
      "  genredf[genre] = le.fit_transform(genredf[genre])\n",
      "C:\\Users\\zkand\\AppData\\Local\\Temp\\ipykernel_48300\\4076232601.py:16: SettingWithCopyWarning: \n",
      "A value is trying to be set on a copy of a slice from a DataFrame.\n",
      "Try using .loc[row_indexer,col_indexer] = value instead\n",
      "\n",
      "See the caveats in the documentation: https://pandas.pydata.org/pandas-docs/stable/user_guide/indexing.html#returning-a-view-versus-a-copy\n",
      "  genredf[genre] = le.fit_transform(genredf[genre])\n",
      "C:\\Users\\zkand\\AppData\\Local\\Temp\\ipykernel_48300\\4076232601.py:16: SettingWithCopyWarning: \n",
      "A value is trying to be set on a copy of a slice from a DataFrame.\n",
      "Try using .loc[row_indexer,col_indexer] = value instead\n",
      "\n",
      "See the caveats in the documentation: https://pandas.pydata.org/pandas-docs/stable/user_guide/indexing.html#returning-a-view-versus-a-copy\n",
      "  genredf[genre] = le.fit_transform(genredf[genre])\n",
      "C:\\Users\\zkand\\AppData\\Local\\Temp\\ipykernel_48300\\4076232601.py:16: SettingWithCopyWarning: \n",
      "A value is trying to be set on a copy of a slice from a DataFrame.\n",
      "Try using .loc[row_indexer,col_indexer] = value instead\n",
      "\n",
      "See the caveats in the documentation: https://pandas.pydata.org/pandas-docs/stable/user_guide/indexing.html#returning-a-view-versus-a-copy\n",
      "  genredf[genre] = le.fit_transform(genredf[genre])\n"
     ]
    }
   ],
   "source": [
    "# Write the results to a file\n",
    "results = test_models(genres)\n",
    "with open(\"goodreads_rnn_results.txt\", \"w\") as f:\n",
    "    for genre, metrics in results.items():\n",
    "        f.write(f\"{genre}:\\n\")\n",
    "        for metric, value in metrics.items():\n",
    "            f.write(f\"{metric}: {value}\\n\")\n",
    "        f.write(\"\\n\")"
   ]
  },
  {
   "cell_type": "code",
   "execution_count": 127,
   "metadata": {},
   "outputs": [
    {
     "name": "stdout",
     "output_type": "stream",
     "text": [
      "0.25060588121414185\n"
     ]
    }
   ],
   "source": [
    "# Predict the probability that a plot is a certain genre\n",
    "def score_genre(description,genre):\n",
    "    # Get the tokenized version of the plot\n",
    "    tokenplot = nltk.word_tokenize(description.lower())\n",
    "    tokenplot = words2ints(tokenplot)\n",
    "    tokenplot = pad_description(tokenplot)\n",
    "    # Check if the model exists and load it\n",
    "    if not os.path.exists(f\"models/rnn/{genre}modelgoodreads.pth\"):\n",
    "        print(\"Model does not exist\")\n",
    "        return None\n",
    "    model = GenreRNN(numwords, 128, 128, 2)\n",
    "    model.load_state_dict(torch.load(f\"models/rnn/{genre}modelgoodreads.pth\"))\n",
    "    model.eval()\n",
    "    # Convert the plot to a tensor\n",
    "    tokenplot = torch.tensor(tokenplot, dtype=torch.long).unsqueeze(0)\n",
    "    # Get the device\n",
    "    device = torch.device(\"cuda\" if torch.cuda.is_available() else \"cpu\")\n",
    "    # Send the plot and the model to the device\n",
    "    tokenplot = tokenplot.to(device)\n",
    "    model.to(device)\n",
    "    # Get the output of the model\n",
    "    output = model(tokenplot)\n",
    "    # Turn the output into a probability that the plot is the genre\n",
    "    prob = torch.nn.functional.softmax(output, dim=1)[:, 1]\n",
    "    return prob.item()\n",
    "\n",
    "# Test the function\n",
    "print(score_genre(data['Description'][0], 'Fantasy'))"
   ]
  },
  {
   "cell_type": "code",
   "execution_count": 124,
   "metadata": {},
   "outputs": [],
   "source": [
    "# Function to get the genre score for a plot\n",
    "def predict_genres(description, genre):\n",
    "    # Tokenize and pad the plot\n",
    "    description = nltk.word_tokenize(description.lower())\n",
    "    description = words2ints(description)\n",
    "    description = pad_description(description)\n",
    "    description = torch.tensor(description, dtype=torch.long).unsqueeze(0)\n",
    "    # Check if the model exists\n",
    "    if not os.path.exists(f\"models/rnn/{genre}modelgoodreads.pth\"):\n",
    "        print(f\"Model for {genre} does not exist\")\n",
    "        return None\n",
    "    #print(f\"Predicting {genre}\")\n",
    "    # Load the model\n",
    "    model = GenreRNN(numwords, 128, 128, 2)\n",
    "    model.load_state_dict(torch.load(f\"models/rnn/{genre}modelgoodreads.pth\"))\n",
    "    # Set the device\n",
    "    device = torch.device(\"cuda\" if torch.cuda.is_available() else \"cpu\")\n",
    "    # Send the model to the device\n",
    "    model.to(device)\n",
    "    # Send the plot to the device\n",
    "    description = description.to(device)\n",
    "    # Turn off gradients\n",
    "    with torch.no_grad():\n",
    "        # Get the output\n",
    "        output = model(description)\n",
    "        _, preds = torch.max(output, 1)\n",
    "        return preds.item()"
   ]
  },
  {
   "cell_type": "code",
   "execution_count": 125,
   "metadata": {},
   "outputs": [
    {
     "name": "stderr",
     "output_type": "stream",
     "text": [
      "C:\\Users\\zkand\\AppData\\Local\\Temp\\ipykernel_48300\\4115772836.py:5: SettingWithCopyWarning: \n",
      "A value is trying to be set on a copy of a slice from a DataFrame.\n",
      "Try using .loc[row_indexer,col_indexer] = value instead\n",
      "\n",
      "See the caveats in the documentation: https://pandas.pydata.org/pandas-docs/stable/user_guide/indexing.html#returning-a-view-versus-a-copy\n",
      "  genre_scores[genre] = 0\n",
      "C:\\Users\\zkand\\AppData\\Local\\Temp\\ipykernel_48300\\4115772836.py:5: SettingWithCopyWarning: \n",
      "A value is trying to be set on a copy of a slice from a DataFrame.\n",
      "Try using .loc[row_indexer,col_indexer] = value instead\n",
      "\n",
      "See the caveats in the documentation: https://pandas.pydata.org/pandas-docs/stable/user_guide/indexing.html#returning-a-view-versus-a-copy\n",
      "  genre_scores[genre] = 0\n",
      "C:\\Users\\zkand\\AppData\\Local\\Temp\\ipykernel_48300\\4115772836.py:5: SettingWithCopyWarning: \n",
      "A value is trying to be set on a copy of a slice from a DataFrame.\n",
      "Try using .loc[row_indexer,col_indexer] = value instead\n",
      "\n",
      "See the caveats in the documentation: https://pandas.pydata.org/pandas-docs/stable/user_guide/indexing.html#returning-a-view-versus-a-copy\n",
      "  genre_scores[genre] = 0\n",
      "C:\\Users\\zkand\\AppData\\Local\\Temp\\ipykernel_48300\\4115772836.py:5: SettingWithCopyWarning: \n",
      "A value is trying to be set on a copy of a slice from a DataFrame.\n",
      "Try using .loc[row_indexer,col_indexer] = value instead\n",
      "\n",
      "See the caveats in the documentation: https://pandas.pydata.org/pandas-docs/stable/user_guide/indexing.html#returning-a-view-versus-a-copy\n",
      "  genre_scores[genre] = 0\n",
      "C:\\Users\\zkand\\AppData\\Local\\Temp\\ipykernel_48300\\4115772836.py:5: SettingWithCopyWarning: \n",
      "A value is trying to be set on a copy of a slice from a DataFrame.\n",
      "Try using .loc[row_indexer,col_indexer] = value instead\n",
      "\n",
      "See the caveats in the documentation: https://pandas.pydata.org/pandas-docs/stable/user_guide/indexing.html#returning-a-view-versus-a-copy\n",
      "  genre_scores[genre] = 0\n",
      "C:\\Users\\zkand\\AppData\\Local\\Temp\\ipykernel_48300\\4115772836.py:5: SettingWithCopyWarning: \n",
      "A value is trying to be set on a copy of a slice from a DataFrame.\n",
      "Try using .loc[row_indexer,col_indexer] = value instead\n",
      "\n",
      "See the caveats in the documentation: https://pandas.pydata.org/pandas-docs/stable/user_guide/indexing.html#returning-a-view-versus-a-copy\n",
      "  genre_scores[genre] = 0\n",
      "C:\\Users\\zkand\\AppData\\Local\\Temp\\ipykernel_48300\\4115772836.py:5: SettingWithCopyWarning: \n",
      "A value is trying to be set on a copy of a slice from a DataFrame.\n",
      "Try using .loc[row_indexer,col_indexer] = value instead\n",
      "\n",
      "See the caveats in the documentation: https://pandas.pydata.org/pandas-docs/stable/user_guide/indexing.html#returning-a-view-versus-a-copy\n",
      "  genre_scores[genre] = 0\n",
      "C:\\Users\\zkand\\AppData\\Local\\Temp\\ipykernel_48300\\4115772836.py:5: SettingWithCopyWarning: \n",
      "A value is trying to be set on a copy of a slice from a DataFrame.\n",
      "Try using .loc[row_indexer,col_indexer] = value instead\n",
      "\n",
      "See the caveats in the documentation: https://pandas.pydata.org/pandas-docs/stable/user_guide/indexing.html#returning-a-view-versus-a-copy\n",
      "  genre_scores[genre] = 0\n",
      "C:\\Users\\zkand\\AppData\\Local\\Temp\\ipykernel_48300\\4115772836.py:5: SettingWithCopyWarning: \n",
      "A value is trying to be set on a copy of a slice from a DataFrame.\n",
      "Try using .loc[row_indexer,col_indexer] = value instead\n",
      "\n",
      "See the caveats in the documentation: https://pandas.pydata.org/pandas-docs/stable/user_guide/indexing.html#returning-a-view-versus-a-copy\n",
      "  genre_scores[genre] = 0\n",
      "C:\\Users\\zkand\\AppData\\Local\\Temp\\ipykernel_48300\\4115772836.py:5: SettingWithCopyWarning: \n",
      "A value is trying to be set on a copy of a slice from a DataFrame.\n",
      "Try using .loc[row_indexer,col_indexer] = value instead\n",
      "\n",
      "See the caveats in the documentation: https://pandas.pydata.org/pandas-docs/stable/user_guide/indexing.html#returning-a-view-versus-a-copy\n",
      "  genre_scores[genre] = 0\n",
      "C:\\Users\\zkand\\AppData\\Local\\Temp\\ipykernel_48300\\4115772836.py:5: SettingWithCopyWarning: \n",
      "A value is trying to be set on a copy of a slice from a DataFrame.\n",
      "Try using .loc[row_indexer,col_indexer] = value instead\n",
      "\n",
      "See the caveats in the documentation: https://pandas.pydata.org/pandas-docs/stable/user_guide/indexing.html#returning-a-view-versus-a-copy\n",
      "  genre_scores[genre] = 0\n",
      "C:\\Users\\zkand\\AppData\\Local\\Temp\\ipykernel_48300\\4115772836.py:5: SettingWithCopyWarning: \n",
      "A value is trying to be set on a copy of a slice from a DataFrame.\n",
      "Try using .loc[row_indexer,col_indexer] = value instead\n",
      "\n",
      "See the caveats in the documentation: https://pandas.pydata.org/pandas-docs/stable/user_guide/indexing.html#returning-a-view-versus-a-copy\n",
      "  genre_scores[genre] = 0\n",
      "C:\\Users\\zkand\\AppData\\Local\\Temp\\ipykernel_48300\\4115772836.py:5: SettingWithCopyWarning: \n",
      "A value is trying to be set on a copy of a slice from a DataFrame.\n",
      "Try using .loc[row_indexer,col_indexer] = value instead\n",
      "\n",
      "See the caveats in the documentation: https://pandas.pydata.org/pandas-docs/stable/user_guide/indexing.html#returning-a-view-versus-a-copy\n",
      "  genre_scores[genre] = 0\n",
      "C:\\Users\\zkand\\AppData\\Local\\Temp\\ipykernel_48300\\4115772836.py:5: SettingWithCopyWarning: \n",
      "A value is trying to be set on a copy of a slice from a DataFrame.\n",
      "Try using .loc[row_indexer,col_indexer] = value instead\n",
      "\n",
      "See the caveats in the documentation: https://pandas.pydata.org/pandas-docs/stable/user_guide/indexing.html#returning-a-view-versus-a-copy\n",
      "  genre_scores[genre] = 0\n",
      "C:\\Users\\zkand\\AppData\\Local\\Temp\\ipykernel_48300\\4115772836.py:5: SettingWithCopyWarning: \n",
      "A value is trying to be set on a copy of a slice from a DataFrame.\n",
      "Try using .loc[row_indexer,col_indexer] = value instead\n",
      "\n",
      "See the caveats in the documentation: https://pandas.pydata.org/pandas-docs/stable/user_guide/indexing.html#returning-a-view-versus-a-copy\n",
      "  genre_scores[genre] = 0\n",
      "C:\\Users\\zkand\\AppData\\Local\\Temp\\ipykernel_48300\\4115772836.py:5: SettingWithCopyWarning: \n",
      "A value is trying to be set on a copy of a slice from a DataFrame.\n",
      "Try using .loc[row_indexer,col_indexer] = value instead\n",
      "\n",
      "See the caveats in the documentation: https://pandas.pydata.org/pandas-docs/stable/user_guide/indexing.html#returning-a-view-versus-a-copy\n",
      "  genre_scores[genre] = 0\n",
      "C:\\Users\\zkand\\AppData\\Local\\Temp\\ipykernel_48300\\4115772836.py:5: SettingWithCopyWarning: \n",
      "A value is trying to be set on a copy of a slice from a DataFrame.\n",
      "Try using .loc[row_indexer,col_indexer] = value instead\n",
      "\n",
      "See the caveats in the documentation: https://pandas.pydata.org/pandas-docs/stable/user_guide/indexing.html#returning-a-view-versus-a-copy\n",
      "  genre_scores[genre] = 0\n",
      "C:\\Users\\zkand\\AppData\\Local\\Temp\\ipykernel_48300\\4115772836.py:5: SettingWithCopyWarning: \n",
      "A value is trying to be set on a copy of a slice from a DataFrame.\n",
      "Try using .loc[row_indexer,col_indexer] = value instead\n",
      "\n",
      "See the caveats in the documentation: https://pandas.pydata.org/pandas-docs/stable/user_guide/indexing.html#returning-a-view-versus-a-copy\n",
      "  genre_scores[genre] = 0\n",
      "C:\\Users\\zkand\\AppData\\Local\\Temp\\ipykernel_48300\\4115772836.py:5: SettingWithCopyWarning: \n",
      "A value is trying to be set on a copy of a slice from a DataFrame.\n",
      "Try using .loc[row_indexer,col_indexer] = value instead\n",
      "\n",
      "See the caveats in the documentation: https://pandas.pydata.org/pandas-docs/stable/user_guide/indexing.html#returning-a-view-versus-a-copy\n",
      "  genre_scores[genre] = 0\n",
      "C:\\Users\\zkand\\AppData\\Local\\Temp\\ipykernel_48300\\4115772836.py:5: SettingWithCopyWarning: \n",
      "A value is trying to be set on a copy of a slice from a DataFrame.\n",
      "Try using .loc[row_indexer,col_indexer] = value instead\n",
      "\n",
      "See the caveats in the documentation: https://pandas.pydata.org/pandas-docs/stable/user_guide/indexing.html#returning-a-view-versus-a-copy\n",
      "  genre_scores[genre] = 0\n",
      "C:\\Users\\zkand\\AppData\\Local\\Temp\\ipykernel_48300\\4115772836.py:5: SettingWithCopyWarning: \n",
      "A value is trying to be set on a copy of a slice from a DataFrame.\n",
      "Try using .loc[row_indexer,col_indexer] = value instead\n",
      "\n",
      "See the caveats in the documentation: https://pandas.pydata.org/pandas-docs/stable/user_guide/indexing.html#returning-a-view-versus-a-copy\n",
      "  genre_scores[genre] = 0\n",
      "C:\\Users\\zkand\\AppData\\Local\\Temp\\ipykernel_48300\\4115772836.py:5: SettingWithCopyWarning: \n",
      "A value is trying to be set on a copy of a slice from a DataFrame.\n",
      "Try using .loc[row_indexer,col_indexer] = value instead\n",
      "\n",
      "See the caveats in the documentation: https://pandas.pydata.org/pandas-docs/stable/user_guide/indexing.html#returning-a-view-versus-a-copy\n",
      "  genre_scores[genre] = 0\n",
      "C:\\Users\\zkand\\AppData\\Local\\Temp\\ipykernel_48300\\4115772836.py:5: SettingWithCopyWarning: \n",
      "A value is trying to be set on a copy of a slice from a DataFrame.\n",
      "Try using .loc[row_indexer,col_indexer] = value instead\n",
      "\n",
      "See the caveats in the documentation: https://pandas.pydata.org/pandas-docs/stable/user_guide/indexing.html#returning-a-view-versus-a-copy\n",
      "  genre_scores[genre] = 0\n",
      "C:\\Users\\zkand\\AppData\\Local\\Temp\\ipykernel_48300\\4115772836.py:5: SettingWithCopyWarning: \n",
      "A value is trying to be set on a copy of a slice from a DataFrame.\n",
      "Try using .loc[row_indexer,col_indexer] = value instead\n",
      "\n",
      "See the caveats in the documentation: https://pandas.pydata.org/pandas-docs/stable/user_guide/indexing.html#returning-a-view-versus-a-copy\n",
      "  genre_scores[genre] = 0\n"
     ]
    }
   ],
   "source": [
    "# Create a new dataframe with the Book and Description columns\n",
    "genre_scores = data[['Book', 'Description']]\n",
    "# Add a new column for the genre scores\n",
    "for genre in genres:\n",
    "    genre_scores[genre] = 0"
   ]
  },
  {
   "cell_type": "code",
   "execution_count": 131,
   "metadata": {},
   "outputs": [
    {
     "name": "stdout",
     "output_type": "stream",
     "text": [
      "Scoring Fantasy\n",
      "Scoring Adult\n",
      "Scoring Historical\n",
      "Scoring Roman\n",
      "Scoring Romance\n",
      "Scoring Young Adult\n",
      "Scoring Historical Fiction\n",
      "Scoring Science\n",
      "Scoring Mystery\n",
      "Scoring Contemporary\n",
      "Scoring Thriller\n",
      "Scoring Science Fiction\n",
      "Scoring History\n",
      "Scoring Adventure\n",
      "Scoring Philosophy\n",
      "Scoring Biography\n",
      "Scoring Crime\n",
      "Scoring Self Help\n",
      "Scoring Psychology\n",
      "Scoring Mystery Thriller\n",
      "Scoring Memoir\n",
      "Scoring Childrens\n",
      "Scoring Humor\n",
      "Scoring Suspense\n",
      "Scoring Horror\n"
     ]
    }
   ],
   "source": [
    "# Score each plot for each genre\n",
    "for genre in genres:\n",
    "    print(f\"Scoring {genre}\")\n",
    "    genre_scores[genre] = genre_scores['Description'].apply(lambda x: score_genre(x, genre))"
   ]
  },
  {
   "cell_type": "code",
   "execution_count": 132,
   "metadata": {},
   "outputs": [],
   "source": [
    "# Save the dataframe to a CSV file\n",
    "genre_scores.to_csv('Datasets/goodreads_rnn_genre_scores.csv', index=False)"
   ]
  }
 ],
 "metadata": {
  "kernelspec": {
   "display_name": "base",
   "language": "python",
   "name": "python3"
  },
  "language_info": {
   "codemirror_mode": {
    "name": "ipython",
    "version": 3
   },
   "file_extension": ".py",
   "mimetype": "text/x-python",
   "name": "python",
   "nbconvert_exporter": "python",
   "pygments_lexer": "ipython3",
   "version": "3.10.14"
  }
 },
 "nbformat": 4,
 "nbformat_minor": 2
}
