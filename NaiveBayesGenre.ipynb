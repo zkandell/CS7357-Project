{
 "cells": [
  {
   "cell_type": "markdown",
   "metadata": {},
   "source": [
    "As a baseline for comparison, this notebook creates a Naive Bayes classifier to predict the genre of a piece of media based on its synopsis."
   ]
  },
  {
   "cell_type": "code",
   "execution_count": 35,
   "metadata": {},
   "outputs": [],
   "source": [
    "# sklearn for various machine learning algorithms\n",
    "from sklearn.model_selection import train_test_split\n",
    "from sklearn.naive_bayes import MultinomialNB\n",
    "# CountVectorizer for converting text data into a matrix of token counts\n",
    "# Not the only way to do this, but a simple and common way\n",
    "from sklearn.feature_extraction.text import CountVectorizer\n",
    "\n",
    "# Pandas for working with dataframes (including the one already created by the data processing notebook)\n",
    "import pandas as pd"
   ]
  },
  {
   "cell_type": "code",
   "execution_count": 36,
   "metadata": {},
   "outputs": [
    {
     "name": "stdout",
     "output_type": "stream",
     "text": [
      "                                    Title  \\\n",
      "0                             # (2012/II)   \n",
      "1                               #1 (2018)   \n",
      "2          #1 Cheerleader Camp (2010) (V)   \n",
      "3                 #1 Serial Killer (2013)   \n",
      "4  #1 at the Apocalypse Box Office (2015)   \n",
      "\n",
      "                                                Plot  Action  Adult  \\\n",
      "0  The night falls on the big city and a hooded f...       0      0   \n",
      "1  After reaching #1 at Mutual of New York and se...       0      0   \n",
      "2  When they're hired to work at a cheerleading c...       0      0   \n",
      "3  Years of seething rage against the racism he's...       0      0   \n",
      "4  Jules is, self declared, the most useless pers...       0      0   \n",
      "\n",
      "   Adventure  Animation  Biography  Comedy  Crime  Documentary  ...  \\\n",
      "0          0          1          0       0      0            0  ...   \n",
      "1          0          0          0       0      0            1  ...   \n",
      "2          0          0          0       1      0            0  ...   \n",
      "3          0          0          0       0      0            0  ...   \n",
      "4          0          0          0       1      0            0  ...   \n",
      "\n",
      "   Reality-tv  Romance  Sci-Fi  Sex  Short  Sport  Talk-Show  Thriller  War  \\\n",
      "0           0        0       0    0      1      0          0         0    0   \n",
      "1           0        0       0    0      0      0          0         0    0   \n",
      "2           0        0       0    0      0      0          0         0    0   \n",
      "3           0        0       0    0      0      0          0         0    0   \n",
      "4           0        0       1    0      1      0          0         0    0   \n",
      "\n",
      "   Western  \n",
      "0        0  \n",
      "1        0  \n",
      "2        0  \n",
      "3        0  \n",
      "4        0  \n",
      "\n",
      "[5 rows x 34 columns]\n"
     ]
    }
   ],
   "source": [
    "# Load the data\n",
    "data = pd.read_csv('Datasets/onehotplotgenre.csv')\n",
    "\n",
    "# Print the first few rows of the data\n",
    "print(data.head())"
   ]
  },
  {
   "cell_type": "markdown",
   "metadata": {},
   "source": [
    "To start, we'll work on training a single Naive Bayes classifier - action movie or not."
   ]
  },
  {
   "cell_type": "code",
   "execution_count": 37,
   "metadata": {},
   "outputs": [
    {
     "name": "stdout",
     "output_type": "stream",
     "text": [
      "                                    Title  \\\n",
      "0                             # (2012/II)   \n",
      "1                               #1 (2018)   \n",
      "2          #1 Cheerleader Camp (2010) (V)   \n",
      "3                 #1 Serial Killer (2013)   \n",
      "4  #1 at the Apocalypse Box Office (2015)   \n",
      "\n",
      "                                                Plot  Action  \n",
      "0  The night falls on the big city and a hooded f...       0  \n",
      "1  After reaching #1 at Mutual of New York and se...       0  \n",
      "2  When they're hired to work at a cheerleading c...       0  \n",
      "3  Years of seething rage against the racism he's...       0  \n",
      "4  Jules is, self declared, the most useless pers...       0  \n"
     ]
    }
   ],
   "source": [
    "# Extract just the title, plot, and Action columns\n",
    "# This is the data that we will use to train the action classifier\n",
    "actiondata = data[['Title', 'Plot', 'Action']]\n",
    "print(actiondata.head())\n",
    "\n",
    "# Split the data into training and testing sets\n",
    "# The training set will be used to train the classifier\n",
    "# The testing set will be used to evaluate the classifier\n",
    "X_train, X_test, y_train, y_test = train_test_split(actiondata['Plot'], actiondata['Action'], test_size=0.2)\n",
    "\n",
    "# Create a CountVectorizer object\n",
    "# This object will convert the text data into a matrix of token counts\n",
    "vectorizer = CountVectorizer()\n",
    "\n",
    "# Fit the vectorizer to the training data\n",
    "# This step determines which words are in the vocabulary\n",
    "vectorizer.fit(X_train)\n",
    "\n",
    "# Transform the training data using the vectorizer\n",
    "# The data is transformed into a matrix of token counts\n",
    "X_train = vectorizer.transform(X_train)\n",
    "X_test = vectorizer.transform(X_test)\n"
   ]
  },
  {
   "cell_type": "code",
   "execution_count": 38,
   "metadata": {},
   "outputs": [
    {
     "name": "stdout",
     "output_type": "stream",
     "text": [
      "Accuracy: 0.884546682350891\n"
     ]
    }
   ],
   "source": [
    "# Create a Multinomial Naive Bayes classifier\n",
    "actionclassifier = MultinomialNB()\n",
    "\n",
    "# Train the classifier\n",
    "actionclassifier.fit(X_train, y_train)\n",
    "\n",
    "# Evaluate the classifier\n",
    "score = actionclassifier.score(X_test, y_test)\n",
    "print('Accuracy:', score)"
   ]
  },
  {
   "cell_type": "code",
   "execution_count": 42,
   "metadata": {},
   "outputs": [
    {
     "name": "stdout",
     "output_type": "stream",
     "text": [
      "[[0.98720028 0.01279972]]\n",
      "[[0.30579668 0.69420332]]\n"
     ]
    }
   ],
   "source": [
    "# Predict if a new plot is an action movie\n",
    "plot = \"So many fuzzy kittens.\"\n",
    "\n",
    "# Convert the plot into a matrix of token counts\n",
    "plot = vectorizer.transform([plot])\n",
    "\n",
    "# Predict if the plot is an action movie\n",
    "prediction = actionclassifier.predict_proba(plot)\n",
    "\n",
    "# Print the prediction\n",
    "print(prediction)\n",
    "\n",
    "# Predict if a new plot is an action movie\n",
    "plot2 = \"James Bond saves the world from evil.\"\n",
    "\n",
    "# Convert the plot into a matrix of token counts\n",
    "plot2 = vectorizer.transform([plot2])\n",
    "\n",
    "# Predict if the plot is an action movie\n",
    "prediction2 = actionclassifier.predict_proba(plot2)\n",
    "\n",
    "# Print the prediction\n",
    "print(prediction2)"
   ]
  },
  {
   "cell_type": "code",
   "execution_count": 43,
   "metadata": {},
   "outputs": [
    {
     "name": "stdout",
     "output_type": "stream",
     "text": [
      "Index(['Action', 'Adult', 'Adventure', 'Animation', 'Biography', 'Comedy',\n",
      "       'Crime', 'Documentary', 'Drama', 'Family', 'Fantasy', 'Film-Noir',\n",
      "       'Game-Show', 'Hardcore', 'History', 'Horror', 'Lifestyle', 'Music',\n",
      "       'Musical', 'Mystery', 'News', 'Reality-TV', 'Reality-tv', 'Romance',\n",
      "       'Sci-Fi', 'Sex', 'Short', 'Sport', 'Talk-Show', 'Thriller', 'War',\n",
      "       'Western'],\n",
      "      dtype='object')\n"
     ]
    }
   ],
   "source": [
    "# Get the list of genres from the dataset\n",
    "genres = data.columns[2:]\n",
    "print(genres)"
   ]
  }
 ],
 "metadata": {
  "kernelspec": {
   "display_name": "base",
   "language": "python",
   "name": "python3"
  },
  "language_info": {
   "codemirror_mode": {
    "name": "ipython",
    "version": 3
   },
   "file_extension": ".py",
   "mimetype": "text/x-python",
   "name": "python",
   "nbconvert_exporter": "python",
   "pygments_lexer": "ipython3",
   "version": "3.10.14"
  }
 },
 "nbformat": 4,
 "nbformat_minor": 2
}
