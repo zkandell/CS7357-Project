{
 "cells": [
  {
   "cell_type": "markdown",
   "metadata": {},
   "source": [
    "As a baseline for comparison, this notebook creates a Naive Bayes classifier to predict the genre of a piece of media based on its synopsis."
   ]
  },
  {
   "cell_type": "code",
   "execution_count": 24,
   "metadata": {},
   "outputs": [],
   "source": [
    "# sklearn for various machine learning algorithms\n",
    "from sklearn.model_selection import train_test_split\n",
    "from sklearn.naive_bayes import MultinomialNB\n",
    "# CountVectorizer for converting text data into a matrix of token counts\n",
    "# Not the only way to do this, but a simple and common way\n",
    "from sklearn.feature_extraction.text import CountVectorizer\n",
    "\n",
    "# Pandas for working with dataframes (including the one already created by the data processing notebook)\n",
    "import pandas as pd"
   ]
  },
  {
   "cell_type": "code",
   "execution_count": 25,
   "metadata": {},
   "outputs": [
    {
     "name": "stdout",
     "output_type": "stream",
     "text": [
      "                                    Title  \\\n",
      "0                             # (2012/II)   \n",
      "1                               #1 (2018)   \n",
      "2          #1 Cheerleader Camp (2010) (V)   \n",
      "3                 #1 Serial Killer (2013)   \n",
      "4  #1 at the Apocalypse Box Office (2015)   \n",
      "\n",
      "                                                Plot  Action  Adult  \\\n",
      "0  The night falls on the big city and a hooded f...       0      0   \n",
      "1  After reaching #1 at Mutual of New York and se...       0      0   \n",
      "2  When they're hired to work at a cheerleading c...       0      0   \n",
      "3  Years of seething rage against the racism he's...       0      0   \n",
      "4  Jules is, self declared, the most useless pers...       0      0   \n",
      "\n",
      "   Adventure  Animation  Biography  Comedy  Crime  Documentary  ...  News  \\\n",
      "0          0          1          0       0      0            0  ...     0   \n",
      "1          0          0          0       0      0            1  ...     0   \n",
      "2          0          0          0       1      0            0  ...     0   \n",
      "3          0          0          0       0      0            0  ...     0   \n",
      "4          0          0          0       1      0            0  ...     0   \n",
      "\n",
      "   Reality-TV  Romance  Sci-Fi  Short  Sport  Talk-Show  Thriller  War  \\\n",
      "0           0        0       0      1      0          0         0    0   \n",
      "1           0        0       0      0      0          0         0    0   \n",
      "2           0        0       0      0      0          0         0    0   \n",
      "3           0        0       0      0      0          0         0    0   \n",
      "4           0        0       1      1      0          0         0    0   \n",
      "\n",
      "   Western  \n",
      "0        0  \n",
      "1        0  \n",
      "2        0  \n",
      "3        0  \n",
      "4        0  \n",
      "\n",
      "[5 rows x 28 columns]\n"
     ]
    }
   ],
   "source": [
    "# Load the data\n",
    "data = pd.read_csv('Datasets/onehotplotgenre.csv')\n",
    "\n",
    "# Print the first few rows of the data\n",
    "print(data.head())"
   ]
  },
  {
   "cell_type": "markdown",
   "metadata": {},
   "source": [
    "To start, we'll work on training a single Naive Bayes classifier - action movie or not."
   ]
  },
  {
   "cell_type": "code",
   "execution_count": 26,
   "metadata": {},
   "outputs": [
    {
     "name": "stdout",
     "output_type": "stream",
     "text": [
      "                                    Title  \\\n",
      "0                             # (2012/II)   \n",
      "1                               #1 (2018)   \n",
      "2          #1 Cheerleader Camp (2010) (V)   \n",
      "3                 #1 Serial Killer (2013)   \n",
      "4  #1 at the Apocalypse Box Office (2015)   \n",
      "\n",
      "                                                Plot  Action  \n",
      "0  The night falls on the big city and a hooded f...       0  \n",
      "1  After reaching #1 at Mutual of New York and se...       0  \n",
      "2  When they're hired to work at a cheerleading c...       0  \n",
      "3  Years of seething rage against the racism he's...       0  \n",
      "4  Jules is, self declared, the most useless pers...       0  \n"
     ]
    }
   ],
   "source": [
    "# Extract just the title, plot, and Action columns\n",
    "# This is the data that we will use to train the action classifier\n",
    "actiondata = data[['Title', 'Plot', 'Action']]\n",
    "print(actiondata.head())\n",
    "\n",
    "# Split the data into training and testing sets\n",
    "# The training set will be used to train the classifier\n",
    "# The testing set will be used to evaluate the classifier\n",
    "X_train, X_test, y_train, y_test = train_test_split(actiondata['Plot'], actiondata['Action'], test_size=0.2, random_state=42)\n",
    "\n",
    "# Create a CountVectorizer object\n",
    "# This object will convert the text data into a matrix of token counts\n",
    "vectorizer = CountVectorizer()\n",
    "\n",
    "# Fit the vectorizer to the training data\n",
    "# This step determines which words are in the vocabulary\n",
    "vectorizer.fit(X_train)\n",
    "\n",
    "# Transform the training data using the vectorizer\n",
    "# The data is transformed into a matrix of token counts\n",
    "X_train = vectorizer.transform(X_train)\n",
    "X_test = vectorizer.transform(X_test)\n"
   ]
  },
  {
   "cell_type": "code",
   "execution_count": 27,
   "metadata": {},
   "outputs": [
    {
     "name": "stdout",
     "output_type": "stream",
     "text": [
      "Accuracy: 0.8836161149154563\n"
     ]
    }
   ],
   "source": [
    "# Create a Multinomial Naive Bayes classifier\n",
    "actionclassifier = MultinomialNB()\n",
    "\n",
    "# Train the classifier\n",
    "actionclassifier.fit(X_train, y_train)\n",
    "\n",
    "# Evaluate the classifier\n",
    "score = actionclassifier.score(X_test, y_test)\n",
    "print('Accuracy:', score)"
   ]
  },
  {
   "cell_type": "code",
   "execution_count": 28,
   "metadata": {},
   "outputs": [
    {
     "name": "stdout",
     "output_type": "stream",
     "text": [
      "[[0.97074974 0.02925026]]\n",
      "[[0.30885402 0.69114598]]\n"
     ]
    }
   ],
   "source": [
    "# Predict if a new plot is an action movie\n",
    "plot = \"So many fuzzy kittens.\"\n",
    "\n",
    "# Convert the plot into a matrix of token counts\n",
    "plot = vectorizer.transform([plot])\n",
    "\n",
    "# Predict if the plot is an action movie\n",
    "prediction = actionclassifier.predict_proba(plot)\n",
    "\n",
    "# Print the prediction\n",
    "print(prediction)\n",
    "\n",
    "# Predict if a new plot is an action movie\n",
    "plot2 = \"James Bond saves the world from evil.\"\n",
    "\n",
    "# Convert the plot into a matrix of token counts\n",
    "plot2 = vectorizer.transform([plot2])\n",
    "\n",
    "# Predict if the plot is an action movie\n",
    "prediction2 = actionclassifier.predict_proba(plot2)\n",
    "\n",
    "# Print the prediction\n",
    "print(prediction2)"
   ]
  },
  {
   "cell_type": "code",
   "execution_count": 29,
   "metadata": {},
   "outputs": [
    {
     "name": "stdout",
     "output_type": "stream",
     "text": [
      "Index(['Action', 'Adult', 'Adventure', 'Animation', 'Biography', 'Comedy',\n",
      "       'Crime', 'Documentary', 'Drama', 'Family', 'Fantasy', 'History',\n",
      "       'Horror', 'Music', 'Musical', 'Mystery', 'News', 'Reality-TV',\n",
      "       'Romance', 'Sci-Fi', 'Short', 'Sport', 'Talk-Show', 'Thriller', 'War',\n",
      "       'Western'],\n",
      "      dtype='object')\n"
     ]
    }
   ],
   "source": [
    "# Get the list of genres from the dataset\n",
    "genres = data.columns[2:]\n",
    "print(genres)\n",
    "\n",
    "# Create a dictionary to store the classifiers for each genre\n",
    "classifiers = {}"
   ]
  },
  {
   "cell_type": "code",
   "execution_count": 30,
   "metadata": {},
   "outputs": [
    {
     "name": "stdout",
     "output_type": "stream",
     "text": [
      "Training classifier for: Action\n",
      "Done training classifier for: Action\n",
      "Training classifier for: Adult\n",
      "Done training classifier for: Adult\n",
      "Training classifier for: Adventure\n",
      "Done training classifier for: Adventure\n",
      "Training classifier for: Animation\n",
      "Done training classifier for: Animation\n",
      "Training classifier for: Biography\n",
      "Done training classifier for: Biography\n",
      "Training classifier for: Comedy\n",
      "Done training classifier for: Comedy\n",
      "Training classifier for: Crime\n",
      "Done training classifier for: Crime\n",
      "Training classifier for: Documentary\n",
      "Done training classifier for: Documentary\n",
      "Training classifier for: Drama\n",
      "Done training classifier for: Drama\n",
      "Training classifier for: Family\n",
      "Done training classifier for: Family\n",
      "Training classifier for: Fantasy\n",
      "Done training classifier for: Fantasy\n",
      "Training classifier for: History\n",
      "Done training classifier for: History\n",
      "Training classifier for: Horror\n",
      "Done training classifier for: Horror\n",
      "Training classifier for: Music\n",
      "Done training classifier for: Music\n",
      "Training classifier for: Musical\n",
      "Done training classifier for: Musical\n",
      "Training classifier for: Mystery\n",
      "Done training classifier for: Mystery\n",
      "Training classifier for: News\n",
      "Done training classifier for: News\n",
      "Training classifier for: Reality-TV\n",
      "Done training classifier for: Reality-TV\n",
      "Training classifier for: Romance\n",
      "Done training classifier for: Romance\n",
      "Training classifier for: Sci-Fi\n",
      "Done training classifier for: Sci-Fi\n",
      "Training classifier for: Short\n",
      "Done training classifier for: Short\n",
      "Training classifier for: Sport\n",
      "Done training classifier for: Sport\n",
      "Training classifier for: Talk-Show\n",
      "Done training classifier for: Talk-Show\n",
      "Training classifier for: Thriller\n",
      "Done training classifier for: Thriller\n",
      "Training classifier for: War\n",
      "Done training classifier for: War\n",
      "Training classifier for: Western\n",
      "Done training classifier for: Western\n"
     ]
    }
   ],
   "source": [
    "# Train a classifier for each genre\n",
    "for genre in genres:\n",
    "    print('Training classifier for:', genre)\n",
    "    # If the genre has already been trained, skip it\n",
    "    if genre in classifiers:\n",
    "        continue\n",
    "    # Split the data into training and testing sets\n",
    "    X_train, X_test, y_train, y_test = train_test_split(data['Plot'], data[genre], test_size=0.2, random_state=42)\n",
    "    \n",
    "    # Create a Multinomial Naive Bayes classifier\n",
    "    classifier = MultinomialNB()\n",
    "\n",
    "    # Use the vectorizer to convert the text data into a matrix of token counts\n",
    "    X_train = vectorizer.transform(X_train)\n",
    "    \n",
    "    # Train the classifier\n",
    "    classifier.fit(X_train, y_train)\n",
    "    \n",
    "    # Store the classifier in the dictionary\n",
    "    classifiers[genre] = classifier\n",
    "    print('Done training classifier for:', genre)"
   ]
  },
  {
   "cell_type": "code",
   "execution_count": 31,
   "metadata": {},
   "outputs": [
    {
     "name": "stdout",
     "output_type": "stream",
     "text": [
      "Accuracy for Action : 0.8943100069205762\n",
      "Accuracy for Adult : 0.9898284976534013\n",
      "Accuracy for Adventure : 0.8984274589854087\n",
      "Accuracy for Animation : 0.9390727590999761\n",
      "Accuracy for Biography : 0.8096347215195027\n",
      "Accuracy for Comedy : 0.8102017435199562\n",
      "Accuracy for Crime : 0.8964646905222999\n",
      "Accuracy for Documentary : 0.8568516612290711\n",
      "Accuracy for Drama : 0.7538368488697361\n",
      "Accuracy for Family : 0.9120156323603817\n",
      "Accuracy for Fantasy : 0.9184069880372897\n",
      "Accuracy for History : 0.8333507801641166\n",
      "Accuracy for Horror : 0.9239928816930405\n",
      "Accuracy for Music : 0.8920709969700671\n",
      "Accuracy for Musical : 0.9597065443062268\n",
      "Accuracy for Mystery : 0.9093288204197707\n",
      "Accuracy for News : 0.9025478188553716\n",
      "Accuracy for Reality-TV : 0.9856965065629162\n",
      "Accuracy for Romance : 0.8169711138638333\n",
      "Accuracy for Sci-Fi : 0.9383748858686486\n",
      "Accuracy for Short : 0.7912864711458497\n",
      "Accuracy for Sport : 0.9671069083634292\n",
      "Accuracy for Talk-Show : 0.9924629691016627\n",
      "Accuracy for Thriller : 0.848648742955842\n",
      "Accuracy for War : 0.9421346779024257\n",
      "Accuracy for Western : 0.9718408151159342\n"
     ]
    }
   ],
   "source": [
    "# Evaluate the classifiers\n",
    "scores = {}\n",
    "for genre, classifier in classifiers.items():\n",
    "    # Use the vectorizer to convert the text data into a matrix of token counts\n",
    "    X_test = vectorizer.transform(data['Plot'])\n",
    "    \n",
    "    # Evaluate the classifier\n",
    "    score = classifier.score(X_test, data[genre])\n",
    "    scores[genre] = score\n",
    "    print('Accuracy for', genre, ':', score)"
   ]
  },
  {
   "cell_type": "code",
   "execution_count": 32,
   "metadata": {},
   "outputs": [],
   "source": [
    "# Write the scores to a file, alongside the number of movies in each genre\n",
    "with open('scores.txt', 'w') as f:\n",
    "    for genre, score in scores.items():\n",
    "        num_movies = data[genre].sum()\n",
    "        f.write(genre + ': ' + str(score) + ' (' + str(num_movies) + ')\\n')"
   ]
  }
 ],
 "metadata": {
  "kernelspec": {
   "display_name": "base",
   "language": "python",
   "name": "python3"
  },
  "language_info": {
   "codemirror_mode": {
    "name": "ipython",
    "version": 3
   },
   "file_extension": ".py",
   "mimetype": "text/x-python",
   "name": "python",
   "nbconvert_exporter": "python",
   "pygments_lexer": "ipython3",
   "version": "3.10.14"
  }
 },
 "nbformat": 4,
 "nbformat_minor": 2
}
